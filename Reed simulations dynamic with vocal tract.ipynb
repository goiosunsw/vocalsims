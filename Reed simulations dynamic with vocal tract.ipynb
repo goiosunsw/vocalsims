{
 "cells": [
  {
   "cell_type": "code",
   "execution_count": 1,
   "metadata": {},
   "outputs": [
    {
     "name": "stdout",
     "output_type": "stream",
     "text": [
      "Populating the interactive namespace from numpy and matplotlib\n"
     ]
    }
   ],
   "source": [
    "%pylab widget\n",
    "from copy import deepcopy\n",
    "from reed_up_downstream_dyn import ReedSimulation, calc_fixed_point\n",
    "from json_object import JSONObject\n",
    "from pypevoc.PVAnalysis import PV\n",
    "from pypevoc.Heterodyne import HeterodyneHarmonic\n",
    "from pypevoc.SoundUtils import FuncWind\n",
    "from scipy.optimize import fsolve"
   ]
  },
  {
   "cell_type": "code",
   "execution_count": 89,
   "metadata": {},
   "outputs": [
    {
     "data": {
      "text/plain": [
       "{'description': 'Reed simulation with vocal tract and reed dynamics',\n",
       " 'version': '20200311',\n",
       " 'simulation': {'sample rate': 48000, 'duration': 0.4, 'callback every': 1024},\n",
       " 'environment': {'acoustic': {'_prefer': True,\n",
       "   'speed of sound': 346.7492013525034,\n",
       "   'density': 1.2,\n",
       "   'viscosity': 1.884e-05},\n",
       "  'physical': {'atmospheric pressure': 101500,\n",
       "   'temperature': 36.5,\n",
       "   'humidity': 100},\n",
       "  'blowing pressure': {'_comment': \"blowing rpessure is 'value' from start if ramp not enabled\",\n",
       "   'value': 2200,\n",
       "   'ramp type': 'exponential',\n",
       "   'ramp enabled': False},\n",
       "  'reed': {'_comment': \"reed moves instantaneously if 'dynamic' is false, that means res. freq and q are not taken into account\",\n",
       "   'stiffness': 500000000.0,\n",
       "   'resonance frequency': 1500,\n",
       "   'quality factor': 1.5,\n",
       "   'rest opening': 1e-05,\n",
       "   'dynamic': True},\n",
       "  'noise': {'enabled': False, 'type': 'white', 'scale': 0.005},\n",
       "  'frequency dependent losses': True,\n",
       "  'vocal tract enabled': True},\n",
       " 'perturbation': {'factor': 1.01,\n",
       "  'time': 0.002,\n",
       "  '_choices_variable': ['reed rest opening', 'blowing pressure'],\n",
       "  'variable': 'reed rest opening'},\n",
       " 'tracts': {'vocal': {'description': 'narrow tongue',\n",
       "   'frequency independent losses': 0.1,\n",
       "   'elements': [{'type': 'cylinder',\n",
       "     'length': 0.15,\n",
       "     'radius': 0.015,\n",
       "     'loss multiplier': 5},\n",
       "    {'type': 'termination', 'kind': 'open'}]},\n",
       "  'bore': {'description': 'single clarinet-like cylinder',\n",
       "   'frequency independent losses': 0.01,\n",
       "   'elements': [{'type': 'cylinder',\n",
       "     'length': 0.49,\n",
       "     'radius': 0.0075,\n",
       "     'loss multiplier': 1},\n",
       "    {'type': 'termination', 'kind': 'open'}]}}}"
      ]
     },
     "execution_count": 89,
     "metadata": {},
     "output_type": "execute_result"
    }
   ],
   "source": [
    "with open('reed_simulation_dyn.json') as f:\n",
    "    js = JSONObject(f)\n",
    "js['environment/blowing pressure/value']=2200\n",
    "#js['environment/perturbation time']=0.01\n",
    "js['simulation/duration']=.4\n",
    "js['tracts/vocal/frequency independent losses']=0.1\n",
    "js['tracts/vocal/elements/0/length']=0.15\n",
    "js['tracts/vocal/elements/0/radius']=0.015\n",
    "js['tracts/vocal/elements/0/loss multiplier']=5\n",
    "js['environment/frequency dependent losses']=True\n",
    "js['environment/vocal tract enabled']=True\n",
    "js['environment/reed/dynamic']=True\n",
    "js['environment/reed/quality factor']=1.5\n",
    "js['environment/reed/resonance frequency']=1500\n",
    "\n",
    "js.to_python()\n",
    "    \n"
   ]
  },
  {
   "cell_type": "code",
   "execution_count": 90,
   "metadata": {},
   "outputs": [
    {
     "name": "stdout",
     "output_type": "stream",
     "text": [
      "applied perturbation at sample 97\n"
     ]
    },
    {
     "name": "stderr",
     "output_type": "stream",
     "text": [
      "/Users/goios/Envs/unsw/lib/python3.7/site-packages/matplotlib/pyplot.py:514: RuntimeWarning: More than 20 figures have been opened. Figures created through the pyplot interface (`matplotlib.pyplot.figure`) are retained until explicitly closed and may consume too much memory. (To control this warning, see the rcParam `figure.max_open_warning`).\n",
      "  max_open_warning, RuntimeWarning)\n"
     ]
    },
    {
     "data": {
      "application/vnd.jupyter.widget-view+json": {
       "model_id": "bc3df87592de4e388427d5806c055e35",
       "version_major": 2,
       "version_minor": 0
      },
      "text/plain": [
       "FigureCanvasNbAgg()"
      ]
     },
     "metadata": {},
     "output_type": "display_data"
    },
    {
     "data": {
      "text/plain": [
       "[<matplotlib.lines.Line2D at 0x1393634d0>]"
      ]
     },
     "execution_count": 90,
     "metadata": {},
     "output_type": "execute_result"
    }
   ],
   "source": [
    "\n",
    "sim = ReedSimulation()\n",
    "sim.from_json(js)\n",
    "sim.pert=1.0\n",
    "sim.simulate(4000)\n",
    "\n",
    "\n",
    "figure()\n",
    "p_b = sim.p_in + sim.p_out;\n",
    "p_vt = sim.p_vt_in + sim.p_vt_out;\n",
    "\n",
    "u = (sim.p_out - sim.p_in)/sim.zc_b;\n",
    "u_sg = -(sim.p_vt_out - sim.p_vt_in)/sim.zc_vt\n",
    "\n",
    "a = sim.a\n",
    "lns=plot(p_b)\n",
    "\n",
    "p_in_avg, t_avg = FuncWind(np.sum,sim.p_in)\n",
    "p_out_avg, t_avg = FuncWind(np.sum,sim.p_out)\n",
    "plot(t_avg,p_in_avg+p_out_avg,color=lns[0].get_color(),alpha=.5)\n",
    "lns=plot(p_vt)\n",
    "\n",
    "p_vt_in_avg, t_avg = FuncWind(np.sum,sim.p_vt_in)\n",
    "p_vt_out_avg, t_avg = FuncWind(np.sum,sim.p_vt_out)\n",
    "plot(t_avg,p_vt_in_avg+p_vt_out_avg,color=lns[0].get_color(),alpha=.5)\n",
    "\n"
   ]
  },
  {
   "cell_type": "code",
   "execution_count": 91,
   "metadata": {},
   "outputs": [
    {
     "name": "stderr",
     "output_type": "stream",
     "text": [
      "/Users/goios/Envs/unsw/lib/python3.7/site-packages/matplotlib/pyplot.py:514: RuntimeWarning: More than 20 figures have been opened. Figures created through the pyplot interface (`matplotlib.pyplot.figure`) are retained until explicitly closed and may consume too much memory. (To control this warning, see the rcParam `figure.max_open_warning`).\n",
      "  max_open_warning, RuntimeWarning)\n"
     ]
    },
    {
     "data": {
      "application/vnd.jupyter.widget-view+json": {
       "model_id": "93a7225da6f24ff99c1f4127e2d019bb",
       "version_major": 2,
       "version_minor": 0
      },
      "text/plain": [
       "FigureCanvasNbAgg()"
      ]
     },
     "metadata": {},
     "output_type": "display_data"
    },
    {
     "data": {
      "text/plain": [
       "[<matplotlib.lines.Line2D at 0x137f95350>]"
      ]
     },
     "execution_count": 91,
     "metadata": {},
     "output_type": "execute_result"
    }
   ],
   "source": [
    "figure()\n",
    "plot(sim.a)"
   ]
  },
  {
   "cell_type": "code",
   "execution_count": 92,
   "metadata": {},
   "outputs": [],
   "source": [
    "sim = ReedSimulation()\n",
    "sim.from_json(js)\n",
    "\n",
    "dp_per_samp = 0.5\n",
    "n_samp=48000\n",
    "frac = dp_per_samp/js['environment/blowing pressure/value']\n",
    "\n",
    "pert_pressure = 2100\n",
    "pert_ampl = 1.01\n",
    "\n",
    "sim.simulation_init(pert=False)\n",
    "sim.p_blow=0.0\n",
    "sim.pert=False\n",
    "p_blow = []\n",
    "while sim.samp_no < n_samp:\n",
    "    sim.simulation_tick(reverse=False)\n",
    "    if sim.p_blow<pert_pressure:\n",
    "        sim.p_blow+=(js['environment/blowing pressure/value']-sim.p_blow)*frac\n",
    "    else:\n",
    "        if pert_ampl:\n",
    "            sim.a0*=pert_ampl\n",
    "            pert_ampl=False\n",
    "            pert_samp = sim.samp_no\n",
    "    p_blow.append(sim.p_blow)\n",
    "sim.finalize()\n",
    "p_blow= np.array(p_blow)"
   ]
  },
  {
   "cell_type": "code",
   "execution_count": 93,
   "metadata": {},
   "outputs": [
    {
     "name": "stderr",
     "output_type": "stream",
     "text": [
      "/Users/goios/Envs/unsw/lib/python3.7/site-packages/matplotlib/pyplot.py:514: RuntimeWarning: More than 20 figures have been opened. Figures created through the pyplot interface (`matplotlib.pyplot.figure`) are retained until explicitly closed and may consume too much memory. (To control this warning, see the rcParam `figure.max_open_warning`).\n",
      "  max_open_warning, RuntimeWarning)\n"
     ]
    },
    {
     "data": {
      "application/vnd.jupyter.widget-view+json": {
       "model_id": "680195cbbae741098c2e5e2706b1537b",
       "version_major": 2,
       "version_minor": 0
      },
      "text/plain": [
       "FigureCanvasNbAgg()"
      ]
     },
     "metadata": {},
     "output_type": "display_data"
    },
    {
     "data": {
      "text/plain": [
       "<matplotlib.lines.Line2D at 0x139960950>"
      ]
     },
     "execution_count": 93,
     "metadata": {},
     "output_type": "execute_result"
    }
   ],
   "source": [
    "figure()\n",
    "p_b = sim.p_in + sim.p_out;\n",
    "p_vt = sim.p_vt_in + sim.p_vt_out;\n",
    "\n",
    "u = (sim.p_out - sim.p_in)/sim.zc_b;\n",
    "u_sg = -(sim.p_vt_out - sim.p_vt_in)/sim.zc_vt\n",
    "\n",
    "a = sim.a\n",
    "lns=plot(p_b)\n",
    "p_in_avg, t_avg = FuncWind(np.sum,sim.p_in)\n",
    "p_out_avg, t_avg = FuncWind(np.sum,sim.p_out)\n",
    "plot(t_avg,p_in_avg+p_out_avg,color=lns[0].get_color(),alpha=.5)\n",
    "\n",
    "lns=plot(np.array(p_blow)+p_vt)\n",
    "p_in_avg, t_avg = FuncWind(np.sum,sim.p_vt_in)\n",
    "p_out_avg, t_avg = FuncWind(np.sum,sim.p_vt_out)\n",
    "plot(t_avg,p_in_avg+p_out_avg,color=lns[0].get_color(),alpha=.5)\n",
    "\n",
    "p_shut = sim.k*sim.a0\n",
    "axhline(p_shut,color='k',ls='--',alpha=.5)\n",
    "axhline(p_shut/3,color='k',ls='--',alpha=.5)\n",
    "samp_thr = np.flatnonzero(p_blow>p_shut/3)[0]\n",
    "axvline(samp_thr,color='k',alpha=.5,ls='--')\n",
    "axvline(pert_samp,color='r',alpha=.5,ls='--')"
   ]
  },
  {
   "cell_type": "code",
   "execution_count": 94,
   "metadata": {},
   "outputs": [],
   "source": [
    "f0=1/(sim.tracts['bore'].total_delay/sim.sr*2)\n",
    "hhb = HeterodyneHarmonic(p_b,sr=sim.sr,nwind=1024,nhop=256,f=f0)\n",
    "hhv = HeterodyneHarmonic(p_vt,sr=sim.sr,nwind=1024,nhop=256,f=f0)"
   ]
  },
  {
   "cell_type": "code",
   "execution_count": 95,
   "metadata": {},
   "outputs": [
    {
     "name": "stderr",
     "output_type": "stream",
     "text": [
      "/Users/goios/Envs/unsw/lib/python3.7/site-packages/matplotlib/pyplot.py:514: RuntimeWarning: More than 20 figures have been opened. Figures created through the pyplot interface (`matplotlib.pyplot.figure`) are retained until explicitly closed and may consume too much memory. (To control this warning, see the rcParam `figure.max_open_warning`).\n",
      "  max_open_warning, RuntimeWarning)\n"
     ]
    },
    {
     "data": {
      "application/vnd.jupyter.widget-view+json": {
       "model_id": "8e9528abe9d44d348923365118cbb38b",
       "version_major": 2,
       "version_minor": 0
      },
      "text/plain": [
       "FigureCanvasNbAgg()"
      ]
     },
     "metadata": {},
     "output_type": "display_data"
    },
    {
     "data": {
      "text/plain": [
       "[<matplotlib.lines.Line2D at 0x13a215450>]"
      ]
     },
     "execution_count": 95,
     "metadata": {},
     "output_type": "execute_result"
    }
   ],
   "source": [
    "figure()\n",
    "semilogy(hhb.t,np.abs(hhb.camp[:,0]))\n",
    "semilogy(hhv.t,np.abs(hhv.camp[:,0]))"
   ]
  },
  {
   "cell_type": "code",
   "execution_count": 96,
   "metadata": {},
   "outputs": [
    {
     "data": {
      "text/plain": [
       "[<TimeDomainTubes.ViscoThermalTube at 0x1383cee90>]"
      ]
     },
     "execution_count": 96,
     "metadata": {},
     "output_type": "execute_result"
    }
   ],
   "source": [
    "sim.tracts['vocal'].tubes"
   ]
  },
  {
   "cell_type": "code",
   "execution_count": null,
   "metadata": {},
   "outputs": [],
   "source": []
  }
 ],
 "metadata": {
  "kernelspec": {
   "display_name": "Main UNSW research kernel",
   "language": "python",
   "name": "unsw"
  },
  "language_info": {
   "codemirror_mode": {
    "name": "ipython",
    "version": 3
   },
   "file_extension": ".py",
   "mimetype": "text/x-python",
   "name": "python",
   "nbconvert_exporter": "python",
   "pygments_lexer": "ipython3",
   "version": "3.7.6"
  }
 },
 "nbformat": 4,
 "nbformat_minor": 2
}
