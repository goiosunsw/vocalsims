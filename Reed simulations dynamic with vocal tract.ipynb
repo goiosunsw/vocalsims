{
 "cells": [
  {
   "cell_type": "code",
   "execution_count": 23,
   "metadata": {},
   "outputs": [
    {
     "name": "stdout",
     "output_type": "stream",
     "text": [
      "Populating the interactive namespace from numpy and matplotlib\n"
     ]
    },
    {
     "name": "stderr",
     "output_type": "stream",
     "text": [
      "C:\\Users\\Goios\\Anaconda3\\envs\\unsw\\lib\\site-packages\\IPython\\core\\magics\\pylab.py:160: UserWarning: pylab import has clobbered these variables: ['f']\n",
      "`%matplotlib` prevents importing * from pylab and numpy\n",
      "  \"\\n`%matplotlib` prevents importing * from pylab and numpy\"\n"
     ]
    },
    {
     "data": {
      "application/vnd.jupyter.widget-view+json": {
       "model_id": "2c07d11594f04638a4ec0b339a9e4f6b",
       "version_major": 2,
       "version_minor": 0
      },
      "text/plain": [
       "Canvas(toolbar=Toolbar(toolitems=[('Home', 'Reset original view', 'home', 'home'), ('Back', 'Back to previous …"
      ]
     },
     "metadata": {},
     "output_type": "display_data"
    },
    {
     "data": {
      "text/plain": [
       "[<matplotlib.lines.Line2D at 0x1f2d63f8f88>]"
      ]
     },
     "execution_count": 23,
     "metadata": {},
     "output_type": "execute_result"
    }
   ],
   "source": [
    "%pylab widget\n",
    "from copy import deepcopy\n",
    "from reed_up_downstream_dyn import ReedSimulation, calc_fixed_point\n",
    "from json_object import JSONObject\n",
    "from pypevoc.PVAnalysis import PV\n",
    "from pypevoc.Heterodyne import HeterodyneHarmonic\n",
    "from pypevoc.SoundUtils import FuncWind\n",
    "from scipy.optimize import fsolve\n",
    "import scipy.signal as sig\n",
    "\n",
    "figure()\n",
    "plot(rand(10))"
   ]
  },
  {
   "cell_type": "code",
   "execution_count": 24,
   "metadata": {},
   "outputs": [
    {
     "data": {
      "text/plain": [
       "{'description': 'Reed simulation with vocal tract and reed dynamics and non-linear reed force',\n",
       " 'version': '20200320',\n",
       " 'simulation': {'sample rate': 48000, 'duration': 0.1, 'callback every': 1024},\n",
       " 'environment': {'acoustic': {'_prefer': True,\n",
       "   'speed of sound': 346.7492013525034,\n",
       "   'density': 1.2,\n",
       "   'viscosity': 1.884e-05},\n",
       "  'physical': {'atmospheric pressure': 101500,\n",
       "   'temperature': 36.5,\n",
       "   'humidity': 100},\n",
       "  'blowing pressure': {'_comment': \"blowing pressure is 'value' from start if ramp not enabled\",\n",
       "   'value': 4400,\n",
       "   'ramp duration': 0.01,\n",
       "   '_choices_ramp_type': ['linear', 'exponential'],\n",
       "   'ramp type': 'exponential',\n",
       "   'ramp enabled': True},\n",
       "  'reed': {'_comment': \"reed moves instantaneously if 'dynamic' is false, that means res. freq and q are not taken into account\",\n",
       "   'stiffness': 500000000.0,\n",
       "   'resonance frequency': 1500,\n",
       "   'quality factor': 1.5,\n",
       "   'rest opening': 1e-05,\n",
       "   'dynamic': True,\n",
       "   'non-linear force': {'_comment': 'non-linear force kicks in when x/x0 > onset_opening fraction and is exponential like exp((x-xth)/(xc-xth))',\n",
       "    '_choices_model': ['disabled', 'inverse_p', 'log'],\n",
       "    'model': 'inverse_p',\n",
       "    'onset pressure fraction': 0.75}},\n",
       "  'noise': {'enabled': False, 'type': 'white', 'scale': 0.005},\n",
       "  'frequency dependent losses': True,\n",
       "  'vocal tract enabled': False,\n",
       "  'perturbation time': 0.01},\n",
       " 'perturbation': {'_comment': 'if blowing pressure is defined, then ramp stops when value is acheived and perturbation is triggered',\n",
       "  'factor': 1.01,\n",
       "  'time': 1.002,\n",
       "  'blowing pressure': 4400,\n",
       "  '_choices_variable': ['reed rest opening', 'blowing pressure'],\n",
       "  'variable': 'reed rest opening'},\n",
       " 'tracts': {'vocal': {'description': 'narrow tongue',\n",
       "   'frequency independent losses': 0.1,\n",
       "   'elements': [{'type': 'cylinder',\n",
       "     'length': 0.15,\n",
       "     'radius': 0.015,\n",
       "     'loss multiplier': 5},\n",
       "    {'type': 'cylinder',\n",
       "     'length': 0.03,\n",
       "     'radius': 0.002823108086643086,\n",
       "     'loss multiplier': 5},\n",
       "    {'type': 'cylinder',\n",
       "     'length': 0.03,\n",
       "     'radius': 0.005313292845913059,\n",
       "     'loss multiplier': 5},\n",
       "    {'type': 'cylinder', 'length': 0.14, 'radius': 0.01, 'loss multiplier': 5},\n",
       "    {'type': 'termination', 'kind': 'open'}]},\n",
       "  'bore': {'description': 'single clarinet-like cylinder',\n",
       "   'frequency independent losses': 0.01,\n",
       "   'elements': [{'type': 'cylinder',\n",
       "     'length': 0.2,\n",
       "     'radius': 0.0075,\n",
       "     'loss multiplier': 1},\n",
       "    {'type': 'termination', 'kind': 'flanged'}]}}}"
      ]
     },
     "execution_count": 24,
     "metadata": {},
     "output_type": "execute_result"
    }
   ],
   "source": [
    "with open('tongue_vt_open_simulation_with_tuning.json') as f:\n",
    "    js = JSONObject(f)\n",
    "js['environment/blowing pressure/value']=4400\n",
    "js['environment/blowing pressure/ramp duration']=0.01\n",
    "js['perturbation/blowing pressure']=4400\n",
    "js['environment/perturbation time']=0.01\n",
    "js['simulation/sample rate']=48000#*4\n",
    "js['simulation/duration']=.1\n",
    "js['tracts/vocal/frequency independent losses']=0.1\n",
    "js['tracts/vocal/elements/0/length']=0.15\n",
    "js['tracts/vocal/elements/0/radius']=0.015\n",
    "js['tracts/vocal/elements/0/loss multiplier']=5\n",
    "js['environment/frequency dependent losses']=True\n",
    "js['environment/vocal tract enabled']=False\n",
    "js['environment/reed/dynamic']=True\n",
    "js['environment/reed/quality factor']=1.5\n",
    "js['environment/reed/resonance frequency']=1500\n",
    "#js['environment/reed/non-linear force/model']='disabled'\n",
    "js['environment/reed/non-linear force/onset pressure fraction']=.75\n",
    "#js['environment/reed/stiffness']=500000000.0/4\n",
    "\n",
    "js.to_python()"
   ]
  },
  {
   "cell_type": "code",
   "execution_count": 25,
   "metadata": {},
   "outputs": [
    {
     "name": "stdout",
     "output_type": "stream",
     "text": [
      "No radiation filter\n"
     ]
    },
    {
     "data": {
      "application/vnd.jupyter.widget-view+json": {
       "model_id": "7056195281f1402594bb72dc6272a37d",
       "version_major": 2,
       "version_minor": 0
      },
      "text/plain": [
       "Canvas(toolbar=Toolbar(toolitems=[('Home', 'Reset original view', 'home', 'home'), ('Back', 'Back to previous …"
      ]
     },
     "metadata": {},
     "output_type": "display_data"
    },
    {
     "data": {
      "text/plain": [
       "[<matplotlib.lines.Line2D at 0x1f2d647eb88>]"
      ]
     },
     "execution_count": 25,
     "metadata": {},
     "output_type": "execute_result"
    }
   ],
   "source": [
    "sim = ReedSimulation()\n",
    "sim.from_json(js)\n",
    "sim.pert=1.0\n",
    "sim.simulate()\n",
    "\n",
    "figure()\n",
    "p_b = sim.p_in + sim.p_out;\n",
    "p_vt = sim.p_vt_in + sim.p_vt_out;\n",
    "\n",
    "u = (sim.p_out - sim.p_in)/sim.zc_b;\n",
    "u_sg = -(sim.p_vt_out - sim.p_vt_in)/sim.zc_vt\n",
    "\n",
    "a = sim.a\n",
    "plot(sim.p_blow_vec)\n",
    "lns=plot(p_b)\n",
    "\n",
    "p_in_avg, t_avg = FuncWind(np.sum,sim.p_in)\n",
    "p_out_avg, t_avg = FuncWind(np.sum,sim.p_out)\n",
    "plot(t_avg,p_in_avg+p_out_avg,color=lns[0].get_color(),alpha=.5)\n",
    "lns=plot(p_vt)\n",
    "\n",
    "p_vt_in_avg, t_avg = FuncWind(np.sum,sim.p_vt_in)\n",
    "p_vt_out_avg, t_avg = FuncWind(np.sum,sim.p_vt_out)\n",
    "plot(t_avg,p_vt_in_avg+p_vt_out_avg,color=lns[0].get_color(),alpha=.5)\n"
   ]
  },
  {
   "cell_type": "code",
   "execution_count": 26,
   "metadata": {},
   "outputs": [],
   "source": [
    "p_vt_1 = p_vt\n",
    "p_b_1 = p_b"
   ]
  },
  {
   "cell_type": "code",
   "execution_count": 27,
   "metadata": {},
   "outputs": [
    {
     "data": {
      "application/vnd.jupyter.widget-view+json": {
       "model_id": "99169361be2f45bbb66044ced032a7eb",
       "version_major": 2,
       "version_minor": 0
      },
      "text/plain": [
       "Canvas(toolbar=Toolbar(toolitems=[('Home', 'Reset original view', 'home', 'home'), ('Back', 'Back to previous …"
      ]
     },
     "metadata": {},
     "output_type": "display_data"
    },
    {
     "data": {
      "text/plain": [
       "[<matplotlib.lines.Line2D at 0x1f2d64c72c8>]"
      ]
     },
     "execution_count": 27,
     "metadata": {},
     "output_type": "execute_result"
    }
   ],
   "source": [
    "figure()\n",
    "plot(np.arange(len(p_b_1))/48000,p_b_1)\n",
    "plot(np.arange(len(p_b))/48000,p_b)"
   ]
  },
  {
   "cell_type": "code",
   "execution_count": 28,
   "metadata": {},
   "outputs": [
    {
     "data": {
      "application/vnd.jupyter.widget-view+json": {
       "model_id": "a6fbd3b0398c491aa46cc5263fd4be38",
       "version_major": 2,
       "version_minor": 0
      },
      "text/plain": [
       "Canvas(toolbar=Toolbar(toolitems=[('Home', 'Reset original view', 'home', 'home'), ('Back', 'Back to previous …"
      ]
     },
     "metadata": {},
     "output_type": "display_data"
    },
    {
     "data": {
      "text/plain": [
       "[<matplotlib.lines.Line2D at 0x1f2d654ee08>]"
      ]
     },
     "execution_count": 28,
     "metadata": {},
     "output_type": "execute_result"
    }
   ],
   "source": [
    "figure()\n",
    "plot(sim.a)"
   ]
  },
  {
   "cell_type": "code",
   "execution_count": 29,
   "metadata": {},
   "outputs": [
    {
     "data": {
      "application/vnd.jupyter.widget-view+json": {
       "model_id": "b6924eff4e904ddf82ba7d01fc03dcaf",
       "version_major": 2,
       "version_minor": 0
      },
      "text/plain": [
       "Canvas(toolbar=Toolbar(toolitems=[('Home', 'Reset original view', 'home', 'home'), ('Back', 'Back to previous …"
      ]
     },
     "metadata": {},
     "output_type": "display_data"
    },
    {
     "data": {
      "text/plain": [
       "[<matplotlib.lines.Line2D at 0x1f2d65b4a08>]"
      ]
     },
     "execution_count": 29,
     "metadata": {},
     "output_type": "execute_result"
    }
   ],
   "source": [
    "figure()\n",
    "plot(sim.p_blow_vec + p_vt - p_b,u,'.')"
   ]
  },
  {
   "cell_type": "code",
   "execution_count": 30,
   "metadata": {},
   "outputs": [
    {
     "data": {
      "application/vnd.jupyter.widget-view+json": {
       "model_id": "1761a73b948b449bb2c9c71eaaf0e65a",
       "version_major": 2,
       "version_minor": 0
      },
      "text/plain": [
       "Canvas(toolbar=Toolbar(toolitems=[('Home', 'Reset original view', 'home', 'home'), ('Back', 'Back to previous …"
      ]
     },
     "metadata": {},
     "output_type": "display_data"
    },
    {
     "data": {
      "text/plain": [
       "[<matplotlib.lines.Line2D at 0x1f2d6604548>]"
      ]
     },
     "execution_count": 30,
     "metadata": {},
     "output_type": "execute_result"
    }
   ],
   "source": [
    "p=np.arange(-1,6000)\n",
    "figure()\n",
    "sim.nlfunc.k2 = sim.a0/10\n",
    "plot(p,sim.nlfunc(p))"
   ]
  },
  {
   "cell_type": "code",
   "execution_count": 31,
   "metadata": {},
   "outputs": [
    {
     "name": "stdout",
     "output_type": "stream",
     "text": [
      "No radiation filter\n",
      "Done\n"
     ]
    }
   ],
   "source": [
    "sim = ReedSimulation()\n",
    "sim.from_json(js)\n",
    "\n",
    "dp_per_samp = 0.5\n",
    "n_samp=48000\n",
    "frac = dp_per_samp/js['environment/blowing pressure/value']\n",
    "\n",
    "pert_pressure = 2100\n",
    "pert_ampl = 1.01\n",
    "\n",
    "sim.simulation_init(pert=False)\n",
    "sim.p_blow=0.0\n",
    "sim.pert=False\n",
    "p_blow = []\n",
    "while sim.samp_no < n_samp:\n",
    "    sim.simulation_tick(reverse=False)\n",
    "    if sim.p_blow<pert_pressure:\n",
    "        sim.p_blow+=(js['environment/blowing pressure/value']-sim.p_blow)*frac\n",
    "    else:\n",
    "        if pert_ampl:\n",
    "            sim.a0*=pert_ampl\n",
    "            pert_ampl=False\n",
    "            pert_samp = sim.samp_no\n",
    "    p_blow.append(sim.p_blow)\n",
    "sim.finalize()\n",
    "p_blow= np.array(p_blow)\n",
    "print(\"Done\")"
   ]
  },
  {
   "cell_type": "code",
   "execution_count": 32,
   "metadata": {},
   "outputs": [
    {
     "data": {
      "application/vnd.jupyter.widget-view+json": {
       "model_id": "8d6a9b0e31c744cc91a52eaa57b02a95",
       "version_major": 2,
       "version_minor": 0
      },
      "text/plain": [
       "Canvas(toolbar=Toolbar(toolitems=[('Home', 'Reset original view', 'home', 'home'), ('Back', 'Back to previous …"
      ]
     },
     "metadata": {},
     "output_type": "display_data"
    },
    {
     "data": {
      "text/plain": [
       "<matplotlib.lines.Line2D at 0x1f2def88748>"
      ]
     },
     "execution_count": 32,
     "metadata": {},
     "output_type": "execute_result"
    }
   ],
   "source": [
    "figure()\n",
    "p_b = sim.p_in + sim.p_out;\n",
    "p_vt = sim.p_vt_in + sim.p_vt_out;\n",
    "\n",
    "u = (sim.p_out - sim.p_in)/sim.zc_b;\n",
    "u_sg = -(sim.p_vt_out - sim.p_vt_in)/sim.zc_vt\n",
    "\n",
    "a = sim.a\n",
    "lns=plot(p_b)\n",
    "p_in_avg, t_avg = FuncWind(np.sum,sim.p_in)\n",
    "p_out_avg, t_avg = FuncWind(np.sum,sim.p_out)\n",
    "plot(t_avg,p_in_avg+p_out_avg,color=lns[0].get_color(),alpha=.5)\n",
    "\n",
    "lns=plot(np.array(p_blow)+p_vt)\n",
    "p_in_avg, t_avg = FuncWind(np.sum,sim.p_vt_in)\n",
    "p_out_avg, t_avg = FuncWind(np.sum,sim.p_vt_out)\n",
    "plot(t_avg,p_in_avg+p_out_avg,color=lns[0].get_color(),alpha=.5)\n",
    "\n",
    "p_shut = sim.k*sim.a0\n",
    "axhline(p_shut,color='k',ls='--',alpha=.5)\n",
    "axhline(p_shut/3,color='k',ls='--',alpha=.5)\n",
    "samp_thr = np.flatnonzero(p_blow>p_shut/3)[0]\n",
    "axvline(samp_thr,color='k',alpha=.5,ls='--')\n",
    "axvline(pert_samp,color='r',alpha=.5,ls='--')"
   ]
  },
  {
   "cell_type": "code",
   "execution_count": 12,
   "metadata": {},
   "outputs": [],
   "source": [
    "f0=1/(sim.tracts['bore'].total_delay/sim.sr*2)\n",
    "hhb = HeterodyneHarmonic(p_b,sr=sim.sr,nwind=1024,nhop=256,f=f0)\n",
    "hhv = HeterodyneHarmonic(p_vt,sr=sim.sr,nwind=1024,nhop=256,f=f0)"
   ]
  },
  {
   "cell_type": "code",
   "execution_count": 13,
   "metadata": {},
   "outputs": [
    {
     "data": {
      "application/vnd.jupyter.widget-view+json": {
       "model_id": "",
       "version_major": 2,
       "version_minor": 0
      },
      "text/plain": [
       "Canvas(toolbar=Toolbar(toolitems=[('Home', 'Reset original view', 'home', 'home'), ('Back', 'Back to previous …"
      ]
     },
     "metadata": {},
     "output_type": "display_data"
    },
    {
     "data": {
      "text/plain": [
       "[<matplotlib.lines.Line2D at 0x1f2d19c6988>]"
      ]
     },
     "execution_count": 13,
     "metadata": {},
     "output_type": "execute_result"
    }
   ],
   "source": [
    "figure()\n",
    "semilogy(hhb.t,np.abs(hhb.camp[:,0]))\n",
    "semilogy(hhv.t,np.abs(hhv.camp[:,0]))"
   ]
  },
  {
   "cell_type": "code",
   "execution_count": 14,
   "metadata": {},
   "outputs": [
    {
     "name": "stdout",
     "output_type": "stream",
     "text": [
      "Automatic pdb calling has been turned OFF\n"
     ]
    },
    {
     "data": {
      "text/plain": [
       "{'description': 'Reed simulation with open vocal tract and reed dynamics and non-linear reed force',\n",
       " 'version': '20200423',\n",
       " 'simulation': {'sample rate': 48000, 'duration': 0.6, 'callback every': 1024},\n",
       " 'environment': {'acoustic': {'_prefer': True,\n",
       "   'speed of sound': 346.7492013525034,\n",
       "   'density': 1.2,\n",
       "   'viscosity': 1.884e-05},\n",
       "  'physical': {'atmospheric pressure': 101500,\n",
       "   'temperature': 36.5,\n",
       "   'humidity': 100},\n",
       "  'blowing pressure': {'_comment': \"blowing pressure is 'value' from start if ramp not enabled\",\n",
       "   'value': 2200,\n",
       "   'ramp duration': 0.1,\n",
       "   '_choices_ramp_type': ['linear', 'exponential'],\n",
       "   'ramp type': 'exponential',\n",
       "   'ramp enabled': True},\n",
       "  'reed': {'_comment': \"reed moves instantaneously if 'dynamic' is false, that means res. freq and q are not taken into account\",\n",
       "   'stiffness': 500000000.0,\n",
       "   'resonance frequency': 1500,\n",
       "   'quality factor': 0.7,\n",
       "   'rest opening': 1e-05,\n",
       "   'dynamic': True,\n",
       "   'non-linear force': {'_comment': 'non-linear force kicks in when x/x0 > onset_opening fraction and is exponential like exp((x-xth)/(xc-xth))',\n",
       "    '_choices_model': ['disabled', 'inverse_p', 'log'],\n",
       "    'model': 'inverse_p',\n",
       "    'onset pressure fraction': 0.9}},\n",
       "  'noise': {'enabled': False, 'type': 'white', 'scale': 0.005},\n",
       "  'frequency dependent losses': True,\n",
       "  'vocal tract enabled': True},\n",
       " 'perturbation': {'_comment': 'if blowing pressure is defined, then ramp stops when value is acheived and perturbation is triggered',\n",
       "  'factor': 1.01,\n",
       "  'time': 1.002,\n",
       "  'blowing pressure': 1980.0,\n",
       "  '_choices_variable': ['reed rest opening', 'blowing pressure'],\n",
       "  'variable': 'reed rest opening'},\n",
       " 'tracts': {'vocal': {'description': 'narrow tongue',\n",
       "   'frequency independent losses': 0.0,\n",
       "   'elements': [{'type': 'cylinder',\n",
       "     'length': 0.04,\n",
       "     'radius': 0.02,\n",
       "     'loss multiplier': 5},\n",
       "    {'type': 'cylinder',\n",
       "     'length': 0.03,\n",
       "     'radius': 0.015874010519681993,\n",
       "     'loss multiplier': 5},\n",
       "    {'type': 'termination',\n",
       "     'kind': 'open',\n",
       "     'radius': 0.012599210498948734,\n",
       "     'length': 0.03},\n",
       "    {'type': 'cylinder', 'length': 0.12, 'radius': 0.01, 'loss multiplier': 5},\n",
       "    {'type': 'termination', 'kind': 'open', 'radius': 0.001}]},\n",
       "  'bore': {'description': 'single clarinet-like cylinder',\n",
       "   'frequency independent losses': 0.0,\n",
       "   'elements': [{'type': 'cylinder',\n",
       "     'length': 0.2,\n",
       "     'radius': 0.0075,\n",
       "     'loss multiplier': 1},\n",
       "    {'type': 'termination', 'kind': 'flanged'}]}}}"
      ]
     },
     "execution_count": 14,
     "metadata": {},
     "output_type": "execute_result"
    }
   ],
   "source": [
    "close('all')\n",
    "%pdb off\n",
    "with open('reed_simulation_dyn_tongue_vt.json') as f:\n",
    "    js = JSONObject(f)\n",
    "\n",
    "vtrad=0.01\n",
    "\n",
    "maxpblow = 2200\n",
    "n_steps=3\n",
    "    \n",
    "js['environment/reed/quality factor']=0.7\n",
    "js['environment/reed/resonance frequency']=1500 \n",
    "#js['environment/reed/stiffness']= 500000000.0/10000\n",
    "js['environment/reed/dynamic']=True\n",
    "#js['environment/reed/non-linear force/non-linearity']=10\n",
    "\n",
    "js['tracts/bore/elements/0/length']=0.2\n",
    "#js['tracts/bore/elements/0/radius']=0.003\n",
    "js['tracts/vocal/elements/0/length']=0.04\n",
    "js['tracts/vocal/elements/0/radius']=0.02\n",
    "js['tracts/vocal/elements/1/length']=0.18\n",
    "js['tracts/vocal/elements/1/radius']=vtrad\n",
    "js['tracts/vocal/elements/2/radius']=0.001\n",
    "tongue_rad = js['tracts/vocal/elements/0/radius']\n",
    "main_vt_rad = js['tracts/vocal/elements/1/radius']\n",
    "log_tongue_rad = np.log(tongue_rad)\n",
    "log_main_vt_rad = np.log(main_vt_rad)\n",
    "\n",
    "jse = js['tracts/vocal/elements'].copy()\n",
    "\n",
    "step_len=0.03\n",
    "cone_len=0\n",
    "\n",
    "for ii in range(1,len(js['tracts/vocal/elements'])):\n",
    "    #print(js['tracts/vocal/elements/%d'%(ii)])\n",
    "    js['tracts/vocal/elements/%d'%(ii+n_steps-1)]=jse[ii].to_python()\n",
    "    \n",
    "for ii in range(1,n_steps):\n",
    "    js['tracts/vocal/elements/%d/radius'%(ii)] = np.exp(log_tongue_rad + (log_main_vt_rad-log_tongue_rad)*ii/n_steps)\n",
    "    js['tracts/vocal/elements/%d/length'%(ii)] = step_len\n",
    "    cone_len+=step_len\n",
    "\n",
    "js['tracts/vocal/elements/%d/length'%(ii+1)] -=cone_len\n",
    "    \n",
    "js['perturbation/blowing pressure']=maxpblow*.9\n",
    "js['environment/blowing pressure/value']=maxpblow\n",
    "\n",
    "\n",
    "sim = ReedSimulation()\n",
    "sim.from_json(js)\n",
    "\n",
    "js.to_python()"
   ]
  },
  {
   "cell_type": "code",
   "execution_count": 116,
   "metadata": {},
   "outputs": [
    {
     "data": {
      "text/plain": [
       "'flanged'"
      ]
     },
     "execution_count": 116,
     "metadata": {},
     "output_type": "execute_result"
    }
   ],
   "source": [
    "sim.tracts['bore'].termination"
   ]
  },
  {
   "cell_type": "code",
   "execution_count": 117,
   "metadata": {},
   "outputs": [
    {
     "data": {
      "application/vnd.jupyter.widget-view+json": {
       "model_id": "9d7e39d053f445ddb09382fd0321b8b5",
       "version_major": 2,
       "version_minor": 0
      },
      "text/plain": [
       "Canvas(toolbar=Toolbar(toolitems=[('Home', 'Reset original view', 'home', 'home'), ('Back', 'Back to previous …"
      ]
     },
     "metadata": {},
     "output_type": "display_data"
    },
    {
     "name": "stdout",
     "output_type": "stream",
     "text": [
      "No radiation filter\n"
     ]
    },
    {
     "data": {
      "application/vnd.jupyter.widget-view+json": {
       "model_id": "16e9c868d0874d82af1e178b8d23f9b6",
       "version_major": 2,
       "version_minor": 0
      },
      "text/plain": [
       "Canvas(toolbar=Toolbar(toolitems=[('Home', 'Reset original view', 'home', 'home'), ('Back', 'Back to previous …"
      ]
     },
     "metadata": {},
     "output_type": "display_data"
    },
    {
     "data": {
      "text/plain": [
       "[<matplotlib.lines.Line2D at 0x7f7cfefa1fd0>]"
      ]
     },
     "execution_count": 117,
     "metadata": {},
     "output_type": "execute_result"
    }
   ],
   "source": [
    "sim = ReedSimulation()\n",
    "sim.from_json(js)\n",
    "impresp = sim.tracts['bore'].impulse_response()\n",
    "figure()\n",
    "plot(np.arange(len(impresp))/sim.sr,impresp,label='bore')\n",
    "impresp_vt = sim.tracts['vocal'].impulse_response()\n",
    "plot(np.arange(len(impresp_vt))/sim.sr,impresp_vt,label='vocal')\n",
    "legend()\n",
    "\n",
    "fig,ax=subplots(2,sharex=True)\n",
    "f = np.arange(len(impresp))/len(impresp)*sim.sr\n",
    "rf=np.fft.fft(impresp)\n",
    "z=(1+rf)/(1-rf)*sim.char_impedances['bore']\n",
    "idx = slice(0,len(f)//2+1)\n",
    "ax[0].semilogy(f[idx],np.abs(z[idx]))\n",
    "ax[1].plot(f[idx],np.angle(z[idx]))\n",
    "rf=np.fft.fft(impresp_vt)\n",
    "z=(1+rf)/(1-rf)*sim.char_impedances['vocal']\n",
    "ax[0].semilogy(f[idx],np.abs(z[idx]))\n",
    "ax[1].plot(f[idx],np.angle(z[idx]))"
   ]
  },
  {
   "cell_type": "code",
   "execution_count": 15,
   "metadata": {},
   "outputs": [
    {
     "name": "stdout",
     "output_type": "stream",
     "text": [
      "No radiation filter\n",
      "applied perturbation at sample 11051 (P_blow=1980.0340498607563)\n"
     ]
    }
   ],
   "source": [
    "sim = ReedSimulation()\n",
    "sim.from_json(js)\n",
    "sim.simulate()"
   ]
  },
  {
   "cell_type": "code",
   "execution_count": 16,
   "metadata": {},
   "outputs": [
    {
     "data": {
      "application/vnd.jupyter.widget-view+json": {
       "model_id": "422ad20b75924532990699fe28c441b8",
       "version_major": 2,
       "version_minor": 0
      },
      "text/plain": [
       "Canvas(toolbar=Toolbar(toolitems=[('Home', 'Reset original view', 'home', 'home'), ('Back', 'Back to previous …"
      ]
     },
     "metadata": {},
     "output_type": "display_data"
    },
    {
     "data": {
      "application/vnd.jupyter.widget-view+json": {
       "model_id": "4c2d86bec14f435693b0c3090ba9fb18",
       "version_major": 2,
       "version_minor": 0
      },
      "text/plain": [
       "Canvas(toolbar=Toolbar(toolitems=[('Home', 'Reset original view', 'home', 'home'), ('Back', 'Back to previous …"
      ]
     },
     "metadata": {},
     "output_type": "display_data"
    },
    {
     "data": {
      "application/vnd.jupyter.widget-view+json": {
       "model_id": "79c9c606e85844d7b6b9a60fb4416560",
       "version_major": 2,
       "version_minor": 0
      },
      "text/plain": [
       "Canvas(toolbar=Toolbar(toolitems=[('Home', 'Reset original view', 'home', 'home'), ('Back', 'Back to previous …"
      ]
     },
     "metadata": {},
     "output_type": "display_data"
    },
    {
     "data": {
      "text/plain": [
       "[<matplotlib.lines.Line2D at 0x1f2d3904c48>]"
      ]
     },
     "execution_count": 16,
     "metadata": {},
     "output_type": "execute_result"
    }
   ],
   "source": [
    "figure()\n",
    "p_b = sim.p_in + sim.p_out;\n",
    "p_vt = sim.p_vt_in + sim.p_vt_out;\n",
    "\n",
    "u = (sim.p_out - sim.p_in)/sim.zc_b;\n",
    "u_sg = -(sim.p_vt_out - sim.p_vt_in)/sim.zc_vt\n",
    "\n",
    "a = sim.a\n",
    "lns=plot(p_b)\n",
    "p_in_avg, t_avg = FuncWind(np.sum,sim.p_in)\n",
    "p_out_avg, t_avg = FuncWind(np.sum,sim.p_out)\n",
    "plot(t_avg,p_in_avg+p_out_avg,color=lns[0].get_color(),alpha=.5)\n",
    "\n",
    "lns=plot(np.array(sim.p_blow_vec)+p_vt)\n",
    "#lns=plot(p_vt)\n",
    "p_in_avg, t_avg = FuncWind(np.sum,sim.p_vt_in)\n",
    "p_out_avg, t_avg = FuncWind(np.sum,sim.p_vt_out)\n",
    "plot(t_avg,p_in_avg+p_out_avg,color=lns[0].get_color(),alpha=.5)\n",
    "\n",
    "p_shut = sim.k*sim.a0\n",
    "axhline(p_shut,color='k',ls='--',alpha=.5)\n",
    "axhline(p_shut/3,color='k',ls='--',alpha=.5)\n",
    "try:\n",
    "    samp_thr = np.flatnonzero(np.array(sim.p_blow_vec)>p_shut/3)[0]\n",
    "    axvline(samp_thr,color='k',alpha=.5,ls='--')\n",
    "    axhline(sim.pert_p_blow,color='r',alpha=.5,ls='--')\n",
    "except IndexError:\n",
    "    pass\n",
    "    \n",
    "figure()\n",
    "dpt = np.linspace(np.min(sim.p_blow+p_vt-p_b),np.max(sim.p_blow+p_vt-p_b),200)\n",
    "plot(sim.p_blow+p_vt-p_b,u,'.',alpha=.2)\n",
    "plot(dpt,np.vectorize(sim.puchar)(dpt,dynamic=False))\n",
    "\n",
    "figure()\n",
    "plot(sim.p_blow+p_vt-p_b,sim.a,'.',alpha=.2)\n",
    "plot(dpt,np.vectorize(sim.reed_opening)(dpt,dynamic=False))\n"
   ]
  },
  {
   "cell_type": "code",
   "execution_count": 18,
   "metadata": {},
   "outputs": [
    {
     "data": {
      "application/vnd.jupyter.widget-view+json": {
       "model_id": "79aa8dd11b0f4310a1eb474ec35afc06",
       "version_major": 2,
       "version_minor": 0
      },
      "text/plain": [
       "Canvas(toolbar=Toolbar(toolitems=[('Home', 'Reset original view', 'home', 'home'), ('Back', 'Back to previous …"
      ]
     },
     "metadata": {},
     "output_type": "display_data"
    }
   ],
   "source": [
    "fig,ax=subplots(4,sharex=True)\n",
    "ax[0].plot(sim.a*1e6)\n",
    "ax[0].set_ylabel('Reed opening\\n(mm2)')\n",
    "ax[1].plot(p_b/1000,label='bore')\n",
    "ax[1].plot((np.array(sim.p_blow_vec)+p_vt)/1000,label='vocal')\n",
    "ax[1].set_ylabel('Pressure\\n(kPa)')\n",
    "ax[1].legend()\n",
    "ax[2].plot(sim.p_out/1000,label='p+, bore')\n",
    "ax[2].plot(sim.p_in/1000,label='p-, bore')\n",
    "ax[2].plot(sim.p_vt_out/1000,label='p+, vocal')\n",
    "ax[2].plot(sim.p_vt_in/1000,label='p-, vocal')\n",
    "ax[2].set_ylabel('Pressure\\nwaves\\n(kPa)')\n",
    "ax[2].legend()\n",
    "\n",
    "ax[3].plot(u*1e6)\n",
    "ax[3].plot(u_sg*1e6)\n",
    "ax[3].set_ylabel('Flow\\n(cm3/s)')\n",
    "tight_layout()"
   ]
  },
  {
   "cell_type": "code",
   "execution_count": 19,
   "metadata": {},
   "outputs": [
    {
     "data": {
      "application/vnd.jupyter.widget-view+json": {
       "model_id": "662c1f58020c4f7fb29f1ef99b4a1938",
       "version_major": 2,
       "version_minor": 0
      },
      "text/plain": [
       "Canvas(toolbar=Toolbar(toolitems=[('Home', 'Reset original view', 'home', 'home'), ('Back', 'Back to previous …"
      ]
     },
     "metadata": {},
     "output_type": "display_data"
    },
    {
     "data": {
      "text/plain": [
       "<matplotlib.lines.Line2D at 0x1f2d05150c8>"
      ]
     },
     "execution_count": 19,
     "metadata": {},
     "output_type": "execute_result"
    }
   ],
   "source": [
    "f0=1/(sim.tracts['bore'].total_delay/sim.sr*2)\n",
    "\n",
    "nfft=1024\n",
    "figure()\n",
    "x = p_b[-nfft:]\n",
    "xf = np.fft.fft(x)\n",
    "f = np.linspace(0,sim.sr,nfft+1)[:nfft]\n",
    "semilogy(f,np.abs(xf))\n",
    "axvline(f0,color='r')\n",
    "relmaxidx = sig.argrelmax(np.abs(xf),order=int(f0/sim.sr*len(f)/2))[0]\n",
    "ridx = np.argmin(np.abs(f[relmaxidx]-f0))\n",
    "f0r = f[relmaxidx[ridx]]\n",
    "axvline(f0r,color='m')"
   ]
  },
  {
   "cell_type": "code",
   "execution_count": 122,
   "metadata": {},
   "outputs": [
    {
     "data": {
      "application/vnd.jupyter.widget-view+json": {
       "model_id": "ab1b32a1d5b3442b8f26ec51be760a5a",
       "version_major": 2,
       "version_minor": 0
      },
      "text/plain": [
       "Canvas(toolbar=Toolbar(toolitems=[('Home', 'Reset original view', 'home', 'home'), ('Back', 'Back to previous …"
      ]
     },
     "metadata": {},
     "output_type": "display_data"
    },
    {
     "data": {
      "text/plain": [
       "[<matplotlib.lines.Line2D at 0x7f7cfe8fddd0>]"
      ]
     },
     "execution_count": 122,
     "metadata": {},
     "output_type": "execute_result"
    }
   ],
   "source": [
    "hhb = HeterodyneHarmonic(p_b,sr=sim.sr,nwind=1024//2,nhop=256*2,f=f0r,nharm=6)\n",
    "hhv = HeterodyneHarmonic(p_vt,sr=sim.sr,nwind=1024//2,nhop=256*2,f=f0r,nharm=6)\n",
    "fig,ax=subplots(2,sharex=True)\n",
    "ax[0].semilogy(hhb.t,np.abs(hhb.camp[:,0]))\n",
    "ax[0].semilogy(hhv.t,np.abs(hhv.camp[:,0]))\n",
    "ax[1].semilogy(hhb.t,np.abs(hhb.camp[:,0])/np.abs(hhv.camp[:,0]))\n"
   ]
  },
  {
   "cell_type": "code",
   "execution_count": 123,
   "metadata": {},
   "outputs": [
    {
     "data": {
      "application/vnd.jupyter.widget-view+json": {
       "model_id": "8531849872284e41a38371bac0c360ca",
       "version_major": 2,
       "version_minor": 0
      },
      "text/plain": [
       "Canvas(toolbar=Toolbar(toolitems=[('Home', 'Reset original view', 'home', 'home'), ('Back', 'Back to previous …"
      ]
     },
     "metadata": {},
     "output_type": "display_data"
    },
    {
     "data": {
      "text/plain": [
       "<matplotlib.legend.Legend at 0x7f7cfe941c50>"
      ]
     },
     "execution_count": 123,
     "metadata": {},
     "output_type": "execute_result"
    }
   ],
   "source": [
    "figure()\n",
    "for ii in range(hhb.camp.shape[1]):\n",
    "    lns=semilogy(hhv.t,np.abs(hhv.camp[:,ii]),label='pvt H%d'%(ii+1))\n",
    "    semilogy(hhv.t,np.abs(hhb.camp[:,ii]),alpha=.5,ls='--',color=lns[0].get_color(),label='pb H%d'%(ii+1))\n",
    "legend()"
   ]
  },
  {
   "cell_type": "code",
   "execution_count": 141,
   "metadata": {},
   "outputs": [
    {
     "name": "stdout",
     "output_type": "stream",
     "text": [
      "No radiation filter\n",
      "No radiation filter\n",
      "applied perturbation at sample 11051 (P_blow=1980.0340498607563)\n",
      "No radiation filter\n",
      "No radiation filter\n",
      "applied perturbation at sample 11051 (P_blow=1980.0340498607563)\n",
      "No radiation filter\n",
      "No radiation filter\n",
      "applied perturbation at sample 11051 (P_blow=1980.0340498607563)\n",
      "No radiation filter\n",
      "No radiation filter\n",
      "applied perturbation at sample 11051 (P_blow=1980.0340498607563)\n",
      "No radiation filter\n",
      "No radiation filter\n",
      "applied perturbation at sample 11051 (P_blow=1980.0340498607563)\n",
      "No radiation filter\n",
      "No radiation filter\n",
      "applied perturbation at sample 11051 (P_blow=1980.0340498607563)\n"
     ]
    }
   ],
   "source": [
    "tongdict={}\n",
    "\n",
    "tongue_rad_list=[0.02,0.015,0.01,0.005,0.003,0.0015]\n",
    "\n",
    "\n",
    "for tongue_rad in tongue_rad_list:\n",
    "    sim = ReedSimulation()\n",
    "    #tongue_rad = js['tracts/vocal/elements/0/radius']\n",
    "    main_vt_rad = js['tracts/vocal/elements/1/radius']\n",
    "    log_tongue_rad = np.log(tongue_rad)\n",
    "\n",
    "    #cone_len = 0    \n",
    "    for ii in range(0,n_steps):\n",
    "        js['tracts/vocal/elements/%d/radius'%(ii)] = np.exp(log_tongue_rad + (log_main_vt_rad-log_tongue_rad)*ii/n_steps)\n",
    "        #js['tracts/vocal/elements/%d/length'%(ii)] = step_len\n",
    "        cone_len+=step_len\n",
    "\n",
    "    #js['tracts/vocal/elements/%d/length'%(ii+1)] -=cone_len\n",
    "    \n",
    "    sim.from_json(js)\n",
    "    impresp = sim.tracts['bore'].impulse_response()\n",
    "    impresp_vt = sim.tracts['vocal'].impulse_response()\n",
    "    zch_b = sim.char_impedances['bore']\n",
    "    zch_vt = sim.char_impedances['vocal']\n",
    "\n",
    "    sim = ReedSimulation()\n",
    "    #js['tracts/vocal/elements/0/radius']=tongue_rad\n",
    "    sim.from_json(js)\n",
    "    sim.simulate()\n",
    "    \n",
    "    p_b = sim.p_in + sim.p_out;\n",
    "    p_vt = sim.p_vt_in + sim.p_vt_out;\n",
    "\n",
    "    u = (sim.p_out - sim.p_in)/sim.zc_b;\n",
    "    u_sg = -(sim.p_vt_out - sim.p_vt_in)/sim.zc_vt\n",
    "\n",
    "    a = sim.a\n",
    "    f0=1/(sim.tracts['bore'].total_delay/sim.sr*2)\n",
    "    hhb = HeterodyneHarmonic(p_b,sr=sim.sr,nwind=1024,nhop=256,f=f0)\n",
    "    hhv = HeterodyneHarmonic(p_vt,sr=sim.sr,nwind=1024,nhop=256,f=f0)\n",
    "\n",
    "    this_dict = {'p_b':p_b,'p_vt':p_vt,'hhb':hhb,'hhv':hhv,'pert_time':sim.pert_time,'p_blow':sim.p_blow_vec,\n",
    "                 'impresp_b':impresp, 'impresp_vt':impresp_vt, 'zch_b':zch_b, 'zch_vt':zch_vt}\n",
    "    tongdict[tongue_rad]=this_dict"
   ]
  },
  {
   "cell_type": "code",
   "execution_count": 142,
   "metadata": {},
   "outputs": [
    {
     "name": "stderr",
     "output_type": "stream",
     "text": [
      "/home/goios/.pyenv/versions/unsw/lib/python3.7/site-packages/matplotlib/pyplot.py:514: RuntimeWarning: More than 20 figures have been opened. Figures created through the pyplot interface (`matplotlib.pyplot.figure`) are retained until explicitly closed and may consume too much memory. (To control this warning, see the rcParam `figure.max_open_warning`).\n",
      "  max_open_warning, RuntimeWarning)\n"
     ]
    },
    {
     "data": {
      "application/vnd.jupyter.widget-view+json": {
       "model_id": "b05fbda7aa73412e84d332a5494e8be1",
       "version_major": 2,
       "version_minor": 0
      },
      "text/plain": [
       "Canvas(toolbar=Toolbar(toolitems=[('Home', 'Reset original view', 'home', 'home'), ('Back', 'Back to previous …"
      ]
     },
     "metadata": {},
     "output_type": "display_data"
    }
   ],
   "source": [
    "nrows = int(np.sqrt(len(tongdict)))\n",
    "ncols = int(np.ceil(len(tongdict)/nrows))\n",
    "\n",
    "fig,ax = subplots(nrows,ncols,sharex=True,sharey=True)\n",
    "\n",
    "axf = ax.flatten()\n",
    "\n",
    "for ii,(tongrad,sigdict) in enumerate(tongdict.items()):\n",
    "    t = np.arange(len(sigdict['p_b']))/sim.sr - sigdict['pert_time']\n",
    "    axf[ii].plot(t,sigdict['p_b'])\n",
    "    axf[ii].plot(t,sigdict['p_vt'])\n",
    "    axf[ii].set_title(tongrad)"
   ]
  },
  {
   "cell_type": "code",
   "execution_count": 143,
   "metadata": {},
   "outputs": [
    {
     "data": {
      "text/plain": [
       "6"
      ]
     },
     "execution_count": 143,
     "metadata": {},
     "output_type": "execute_result"
    }
   ],
   "source": [
    "len(tongdict)"
   ]
  },
  {
   "cell_type": "code",
   "execution_count": 144,
   "metadata": {},
   "outputs": [
    {
     "name": "stderr",
     "output_type": "stream",
     "text": [
      "/home/goios/.pyenv/versions/unsw/lib/python3.7/site-packages/matplotlib/pyplot.py:514: RuntimeWarning: More than 20 figures have been opened. Figures created through the pyplot interface (`matplotlib.pyplot.figure`) are retained until explicitly closed and may consume too much memory. (To control this warning, see the rcParam `figure.max_open_warning`).\n",
      "  max_open_warning, RuntimeWarning)\n"
     ]
    },
    {
     "data": {
      "application/vnd.jupyter.widget-view+json": {
       "model_id": "9e41dc1094d744e4998384bc47704934",
       "version_major": 2,
       "version_minor": 0
      },
      "text/plain": [
       "Canvas(toolbar=Toolbar(toolitems=[('Home', 'Reset original view', 'home', 'home'), ('Back', 'Back to previous …"
      ]
     },
     "metadata": {},
     "output_type": "display_data"
    },
    {
     "name": "stderr",
     "output_type": "stream",
     "text": [
      "/home/goios/.pyenv/versions/unsw/lib/python3.7/site-packages/matplotlib/pyplot.py:514: RuntimeWarning: More than 20 figures have been opened. Figures created through the pyplot interface (`matplotlib.pyplot.figure`) are retained until explicitly closed and may consume too much memory. (To control this warning, see the rcParam `figure.max_open_warning`).\n",
      "  max_open_warning, RuntimeWarning)\n"
     ]
    },
    {
     "data": {
      "application/vnd.jupyter.widget-view+json": {
       "model_id": "410fcd597e334c1cb9f8f26f3e4b36ba",
       "version_major": 2,
       "version_minor": 0
      },
      "text/plain": [
       "Canvas(toolbar=Toolbar(toolitems=[('Home', 'Reset original view', 'home', 'home'), ('Back', 'Back to previous …"
      ]
     },
     "metadata": {},
     "output_type": "display_data"
    }
   ],
   "source": [
    "nrows = int(np.sqrt(len(tongdict)))\n",
    "ncols = int(np.ceil(len(tongdict)/nrows))\n",
    "\n",
    "for hno in [0,2]:\n",
    "    fig,ax = subplots(nrows,ncols,sharex=True,sharey=True)\n",
    "\n",
    "    axf = ax.flatten()\n",
    "\n",
    "    for ii,(tongrad,sigdict) in enumerate(tongdict.items()):\n",
    "        f0=1/(sim.tracts['bore'].total_delay/sim.sr*2)\n",
    "\n",
    "        nfft=1024\n",
    "        p_b = sigdict['p_b']\n",
    "        p_vt = sigdict['p_vt']\n",
    "        x = p_b[-nfft:]\n",
    "        xf = np.fft.fft(x)\n",
    "        f = np.linspace(0,sim.sr,nfft+1)[:nfft]\n",
    "        relmaxidx = sig.argrelmax(np.abs(xf))[0]\n",
    "        ridx = np.argmin(np.abs(f[relmaxidx]-f0))\n",
    "        f0r = f[relmaxidx[ridx]]\n",
    "        hh = HeterodyneHarmonic(p_b,sr=sim.sr,nwind=1024,nhop=256,f=f0r)\n",
    "        sigdict['hhb']=hh\n",
    "        axf[ii].semilogy(hh.t-sigdict['pert_time'],np.abs(hh.camp[:,hno]))\n",
    "        hh = HeterodyneHarmonic(p_vt,sr=sim.sr,nwind=1024,nhop=256,f=f0r)\n",
    "        sigdict['hhv']=hh\n",
    "        axf[ii].semilogy(hh.t-sigdict['pert_time'],np.abs(hh.camp[:,hno]))\n",
    "        axf[ii].set_title(tongrad)"
   ]
  },
  {
   "cell_type": "code",
   "execution_count": 145,
   "metadata": {},
   "outputs": [
    {
     "name": "stdout",
     "output_type": "stream",
     "text": [
      "0.02 1013.3130059014375 42 75\n",
      "0.015 1637.9812877285426 42 79\n",
      "0.01 2061.6289025046353 42 80\n",
      "0.005 2205.514604763396 42 70\n",
      "0.003 1972.4578569435625 42 57\n",
      "0.0015 137.33439625409773 42 65\n"
     ]
    },
    {
     "name": "stderr",
     "output_type": "stream",
     "text": [
      "/home/goios/.pyenv/versions/unsw/lib/python3.7/site-packages/matplotlib/pyplot.py:514: RuntimeWarning: More than 20 figures have been opened. Figures created through the pyplot interface (`matplotlib.pyplot.figure`) are retained until explicitly closed and may consume too much memory. (To control this warning, see the rcParam `figure.max_open_warning`).\n",
      "  max_open_warning, RuntimeWarning)\n"
     ]
    },
    {
     "data": {
      "application/vnd.jupyter.widget-view+json": {
       "model_id": "3b1e456154664281afdec1ebefc9d7b9",
       "version_major": 2,
       "version_minor": 0
      },
      "text/plain": [
       "Canvas(toolbar=Toolbar(toolitems=[('Home', 'Reset original view', 'home', 'home'), ('Back', 'Back to previous …"
      ]
     },
     "metadata": {},
     "output_type": "display_data"
    },
    {
     "data": {
      "text/plain": [
       "<matplotlib.legend.Legend at 0x7f7cfccdb850>"
      ]
     },
     "execution_count": 145,
     "metadata": {},
     "output_type": "execute_result"
    }
   ],
   "source": [
    "prats=[]\n",
    "pratsus=[]\n",
    "for ii,(tongrad,sigdict) in enumerate(tongdict.items()):\n",
    "    hhb = sigdict['hhb']\n",
    "    hhv = sigdict['hhv']\n",
    "    henv = np.abs(hhb.camp[:,0])\n",
    "    hfinal = np.median(henv[-5:])\n",
    "    itend = np.flatnonzero(henv>hfinal/2)[0]\n",
    "    itst = np.flatnonzero(hhb.t>sigdict['pert_time'])[0]\n",
    "    if itst>itend:\n",
    "        itst = np.argmin(henv[:itend])\n",
    "        itst += np.flatnonzero(henv[itst:]>hfinal/1000)[0]\n",
    "                \n",
    "    print(tongrad, hfinal, itst,itend)\n",
    "    prats.append(np.median(np.abs(hhv.camp[itst:itend,0])/np.abs(hhb.camp[itst:itend,0])))\n",
    "    pratsus.append(np.median(np.abs(hhv.camp[itend:,0])/np.abs(hhb.camp[itend:,0])))\n",
    "    \n",
    "figure()\n",
    "plot(tongue_rad_list,20*np.log10(prats),'o-',label='transient')\n",
    "plot(tongue_rad_list,20*np.log10(pratsus),'o-',label='sustain')\n",
    "\n",
    "xlabel('tongue radius')\n",
    "ylabel('vocal tract H1 / bore H1')\n",
    "legend()"
   ]
  },
  {
   "cell_type": "code",
   "execution_count": 146,
   "metadata": {},
   "outputs": [
    {
     "name": "stderr",
     "output_type": "stream",
     "text": [
      "/home/goios/.pyenv/versions/unsw/lib/python3.7/site-packages/matplotlib/pyplot.py:514: RuntimeWarning: More than 20 figures have been opened. Figures created through the pyplot interface (`matplotlib.pyplot.figure`) are retained until explicitly closed and may consume too much memory. (To control this warning, see the rcParam `figure.max_open_warning`).\n",
      "  max_open_warning, RuntimeWarning)\n"
     ]
    },
    {
     "data": {
      "application/vnd.jupyter.widget-view+json": {
       "model_id": "fb7183bcba8b412799c021c4457e0682",
       "version_major": 2,
       "version_minor": 0
      },
      "text/plain": [
       "Canvas(toolbar=Toolbar(toolitems=[('Home', 'Reset original view', 'home', 'home'), ('Back', 'Back to previous …"
      ]
     },
     "metadata": {},
     "output_type": "display_data"
    }
   ],
   "source": [
    "fig,ax=subplots(2,sharex=True)\n",
    "alpha=.3\n",
    "for ii,(tongrad,sigdict) in enumerate(tongdict.items()):\n",
    "    impresp_b = sigdict['impresp_b']\n",
    "    impresp_vt = sigdict['impresp_vt']\n",
    "    f = np.arange(len(impresp_vt))/len(impresp_vt)*sim.sr\n",
    "\n",
    "    rf=np.fft.fft(impresp_vt)\n",
    "    z=(1+rf)/(1-rf)*sigdict['zch_vt']\n",
    "    ax[0].semilogy(f,np.abs(z),alpha=alpha,label=tongrad)\n",
    "    ax[1].plot(f,np.angle(z),alpha=alpha)\n",
    "\n",
    "rf=np.fft.fft(impresp_b)\n",
    "z_b=(1+rf)/(1-rf)*sigdict['zch_b']\n",
    "ax[0].semilogy(f,np.abs(z_b),color='k',label='bore')\n",
    "ax[1].plot(f,np.angle(z_b),color='k')\n",
    "ax[0].set_xlim(0,4000)\n",
    "ax[0].legend(bbox_to_anchor=(1,1),loc='upper left')\n",
    "tight_layout()"
   ]
  },
  {
   "cell_type": "code",
   "execution_count": 147,
   "metadata": {},
   "outputs": [
    {
     "data": {
      "text/plain": [
       "{'description': 'Reed simulation with vocal tract and reed dynamics and non-linear reed force',\n",
       " 'version': '20200320',\n",
       " 'simulation': {'sample rate': 48000, 'duration': 0.6, 'callback every': 1024},\n",
       " 'environment': {'acoustic': {'_prefer': True,\n",
       "   'speed of sound': 346.7492013525034,\n",
       "   'density': 1.2,\n",
       "   'viscosity': 1.884e-05},\n",
       "  'physical': {'atmospheric pressure': 101500,\n",
       "   'temperature': 36.5,\n",
       "   'humidity': 100},\n",
       "  'blowing pressure': {'_comment': \"blowing pressure is 'value' from start if ramp not enabled\",\n",
       "   'value': 2200,\n",
       "   'ramp duration': 0.1,\n",
       "   '_choices_ramp_type': ['linear', 'exponential'],\n",
       "   'ramp type': 'exponential',\n",
       "   'ramp enabled': True},\n",
       "  'reed': {'_comment': \"reed moves instantaneously if 'dynamic' is false, that means res. freq and q are not taken into account\",\n",
       "   'stiffness': 500000000.0,\n",
       "   'resonance frequency': 1500,\n",
       "   'quality factor': 0.7,\n",
       "   'rest opening': 1e-05,\n",
       "   'dynamic': True,\n",
       "   'non-linear force': {'_comment': 'non-linear force kicks in when x/x0 > onset_opening fraction and is exponential like exp((x-xth)/(xc-xth))',\n",
       "    '_choices_model': ['disabled', 'inverse_p', 'log'],\n",
       "    'model': 'inverse_p',\n",
       "    'onset pressure fraction': 0.9}},\n",
       "  'noise': {'enabled': False, 'type': 'white', 'scale': 0.005},\n",
       "  'frequency dependent losses': True,\n",
       "  'vocal tract enabled': True},\n",
       " 'perturbation': {'_comment': 'if blowing pressure is defined, then ramp stops when value is acheived and perturbation is triggered',\n",
       "  'factor': 1.01,\n",
       "  'time': 1.002,\n",
       "  'blowing pressure': 1980.0,\n",
       "  '_choices_variable': ['reed rest opening', 'blowing pressure'],\n",
       "  'variable': 'reed rest opening'},\n",
       " 'tracts': {'vocal': {'description': 'narrow tongue',\n",
       "   'frequency independent losses': 0.05,\n",
       "   'elements': [{'type': 'cylinder',\n",
       "     'length': 0.04,\n",
       "     'radius': 0.0015000000000000007,\n",
       "     'loss multiplier': 5},\n",
       "    {'type': 'cylinder',\n",
       "     'length': 0.03,\n",
       "     'radius': 0.002823108086643086,\n",
       "     'loss multiplier': 5},\n",
       "    {'type': 'cylinder',\n",
       "     'length': 0.03,\n",
       "     'radius': 0.005313292845913059,\n",
       "     'loss multiplier': 5},\n",
       "    {'type': 'cylinder', 'length': 0.12, 'radius': 0.01, 'loss multiplier': 5},\n",
       "    {'type': 'cylinder',\n",
       "     'length': 0.015,\n",
       "     'radius': 0.001,\n",
       "     'loss multiplier': 5},\n",
       "    {'type': 'termination', 'kind': 'open'}]},\n",
       "  'bore': {'description': 'single clarinet-like cylinder',\n",
       "   'frequency independent losses': 0.01,\n",
       "   'elements': [{'type': 'cylinder',\n",
       "     'length': 0.2,\n",
       "     'radius': 0.0075,\n",
       "     'loss multiplier': 1},\n",
       "    {'type': 'termination', 'kind': 'flanged'}]}}}"
      ]
     },
     "execution_count": 147,
     "metadata": {},
     "output_type": "execute_result"
    }
   ],
   "source": [
    "js.to_python()"
   ]
  },
  {
   "cell_type": "code",
   "execution_count": null,
   "metadata": {},
   "outputs": [],
   "source": []
  }
 ],
 "metadata": {
  "kernelspec": {
   "display_name": "unsw",
   "language": "python",
   "name": "unsw"
  },
  "language_info": {
   "codemirror_mode": {
    "name": "ipython",
    "version": 3
   },
   "file_extension": ".py",
   "mimetype": "text/x-python",
   "name": "python",
   "nbconvert_exporter": "python",
   "pygments_lexer": "ipython3",
   "version": "3.7.4"
  }
 },
 "nbformat": 4,
 "nbformat_minor": 4
}
