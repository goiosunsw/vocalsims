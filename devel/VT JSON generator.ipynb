{
 "cells": [
  {
   "cell_type": "markdown",
   "metadata": {},
   "source": [
    "# Vocal Tract geometry JSON generator\n",
    "\n",
    "Given a CSV file with VT geometries, generate JSON"
   ]
  },
  {
   "cell_type": "code",
   "execution_count": 150,
   "metadata": {},
   "outputs": [],
   "source": [
    "import csv\n",
    "import os"
   ]
  },
  {
   "cell_type": "code",
   "execution_count": 151,
   "metadata": {},
   "outputs": [
    {
     "name": "stdout",
     "output_type": "stream",
     "text": [
      "Story1996_male01_cm2.csv  Story2004_male01_cm2.csv\n",
      "Story1998_female_cm2.csv  Story_vowel_defs.csv\n"
     ]
    }
   ],
   "source": [
    "ls ../parameters/vocal_tracts"
   ]
  },
  {
   "cell_type": "code",
   "execution_count": 182,
   "metadata": {},
   "outputs": [],
   "source": [
    "csvfiles = [{'file':'Story1996_male01_cm2.csv', 'source':'Story 1996', 'gender': 'male', \n",
    "             'header_lines': [0], 'header_titles': ['phoneme'], 'main_header': None,\n",
    "             'index_cols': [0], 'index_titles': ['segment nbr'], 'main_index': 0,\n",
    "             'units': 'cm2'},\n",
    "            {'file':'Story2004_male01_cm2.csv', 'source':'Story 2004', 'gender': 'male', \n",
    "             'header_lines': [0], 'header_titles': ['phoneme'], 'main_header': None,\n",
    "             'index_cols': [0], 'index_titles': ['segment nbr'], 'main_index': 0,\n",
    "             'units': 'cm2'},\n",
    "            {'file':'Story1998_female_cm2.csv', 'source':'Story 1998', 'gender': 'female', \n",
    "             'header_lines': [0], 'header_titles': ['phoneme'], 'main_header': None,\n",
    "             'index_cols': [0,1], 'index_titles': ['segment nbr', 'distance from glottis'], 'main_index': 0,\n",
    "             'units': 'cm2'}]"
   ]
  },
  {
   "cell_type": "code",
   "execution_count": 183,
   "metadata": {},
   "outputs": [],
   "source": [
    "idx = 2\n",
    "\n",
    "file = csvfiles[idx]['file']\n",
    "csvfile = os.path.join('../parameters/vocal_tracts/',file)\n",
    "sep = ','\n",
    "\n",
    "header_lines = [0]\n",
    "header_titles = ['phoneme']\n",
    "main_header = None\n",
    "\n",
    "index_cols = [0]\n",
    "index_titles = ['segment nbr']\n",
    "main_index = 0\n"
   ]
  },
  {
   "cell_type": "code",
   "execution_count": 184,
   "metadata": {},
   "outputs": [],
   "source": [
    "\n",
    "def tract_csv_to_json(csvfile, sep = ',', header_lines = [0], header_titles = ['phoneme'], main_header = None,\n",
    "                      index_cols = [0], index_titles = ['segment nbr'], main_index = 0, transpose=True, num_to_arrays=True):\n",
    "    \n",
    "\n",
    "    headers = {}\n",
    "    data = {}\n",
    "\n",
    "    nlines = 0\n",
    "    ncols = 0\n",
    "    \n",
    "    unnamed=0\n",
    "\n",
    "    with open(csvfile,'r') as f:\n",
    "        for lno, l in enumerate(f.readlines()):\n",
    "            if lno in header_lines:\n",
    "                splitline = (l.strip().split(sep))\n",
    "                headers[header_titles[lno]] = [ss for ii,ss in enumerate(splitline) if ii not in index_cols]\n",
    "            else:\n",
    "                splitline = (l.strip().split(sep))\n",
    "                idx = []\n",
    "                for ii,ss in enumerate(splitline):\n",
    "                    if ii in index_cols:\n",
    "                        if len(ss)==0:\n",
    "                            ss = 'unnamed_'+str(unnamed)\n",
    "                            unnamed+=1                            \n",
    "                        idx.append(ss)\n",
    "                if len(index_cols)>1:\n",
    "                    idx = tuple(idx)\n",
    "                else:\n",
    "                    idx = idx[0]\n",
    "                data[idx] = [ss for ii,ss in enumerate(splitline) if ii not in index_cols]\n",
    "                ncols = len(data[idx]) \n",
    "            nlines+=1\n",
    "            \n",
    "    if transpose:\n",
    "        newheaders = {kk:[] for kk in index_titles}\n",
    "        newdata = [{'headers':{}, 'values':{}} for ii in range(ncols)]\n",
    "\n",
    "        if main_index is not None and len(index_cols)>1:\n",
    "            indexdata = {}\n",
    "            for key, c in data.items():\n",
    "                kinfo = {}\n",
    "                indexdata[key[main_index]] = kinfo\n",
    "                for ii,(tk,k) in enumerate(zip(index_titles,key)):\n",
    "                    if ii != main_index:\n",
    "                        kinfo[tk] = k\n",
    "        else:\n",
    "            indexdata = []\n",
    "            for key, c in data.items():\n",
    "                kinfo = {}\n",
    "                for ii,(tk,k) in enumerate(zip(index_titles,key)):\n",
    "                    kinfo[tk] = k\n",
    "            indexdata.append(kinfo)\n",
    "\n",
    "        for key, c in data.items():\n",
    "            if main_index is not None and len(index_cols)>1:\n",
    "                k = key[0]\n",
    "            else: \n",
    "                k = str(key)\n",
    "            for htit, hval in headers.items():\n",
    "                for nd, hvals, cellval in zip(newdata,hval,c):\n",
    "                    nd['headers'][htit] = hvals\n",
    "                    if cellval:\n",
    "                        try:\n",
    "                            nd['values'][k] = float(cellval)\n",
    "                        except ValueError:\n",
    "                            nd['values'][k] = cellval\n",
    "                            \n",
    "            \n",
    "        data = newdata\n",
    "        \n",
    "    if num_to_arrays:\n",
    "        for dd in data:\n",
    "            nums = {}\n",
    "            maxnum = 0\n",
    "            array = []\n",
    "            for key in dd['values']:\n",
    "                try:\n",
    "                    num = int(key)\n",
    "                    nums[num] = dd['values'][key]\n",
    "                    maxnum = max(maxnum,num)\n",
    "\n",
    "                except ValueError:\n",
    "                    pass\n",
    "            array = [None]*(maxnum+1)\n",
    "            for ii in nums:\n",
    "                del(dd['values'][str(ii)])\n",
    "                array[ii] = nums[ii]\n",
    "            minnum = min(nums.keys())\n",
    "            dd['values']['array']=array[minnum:]\n",
    "\n",
    "\n",
    "    return {'keys': indexdata, 'table':data}"
   ]
  },
  {
   "cell_type": "code",
   "execution_count": 185,
   "metadata": {},
   "outputs": [],
   "source": [
    "import re\n",
    "\n",
    "alljs = []\n",
    "\n",
    "fargs = 'csvfile sep header_lines header_titles main_header index_cols index_titles main_index transpose'.split()\n",
    "\n",
    "for rec in csvfiles:\n",
    "    csvfile = os.path.join('../parameters/vocal_tracts/',rec['file'])\n",
    "    rec['csvfile'] = csvfile\n",
    "    kwargs = {x:rec[x] for x  in set(rec.keys())&set(fargs)}\n",
    "    otherkeys = {x:rec[x] for x  in set(rec.keys())-set(fargs)}\n",
    "    \n",
    "    js = tract_csv_to_json(**kwargs)\n",
    "    for ln in js['table']:\n",
    "        ln['headers'].update(otherkeys)\n",
    "        ln['radii'] = ln['values']['array']\n",
    "        del ln['values']['array']\n",
    "        ln['headers'].update(ln['values'])\n",
    "        del ln['values']\n",
    "        measured_formants={}\n",
    "        for k in ln['headers']:\n",
    "            if re.match('f\\d+',k):\n",
    "                measured_formants[k] = ln['headers'][k]\n",
    "        if measured_formants:\n",
    "            ln['headers']['measured_formants'] = measured_formants\n",
    "            for k in measured_formants:\n",
    "                del ln['headers'][k]\n",
    "    alljs.append(js)"
   ]
  },
  {
   "cell_type": "code",
   "execution_count": 186,
   "metadata": {},
   "outputs": [],
   "source": []
  },
  {
   "cell_type": "code",
   "execution_count": 208,
   "metadata": {},
   "outputs": [],
   "source": [
    "import jq\n",
    "jexp = jq.compile('.[].table | .[]')\n",
    "newjs=[x for x in jexp.input(alljs)]"
   ]
  },
  {
   "cell_type": "code",
   "execution_count": 217,
   "metadata": {},
   "outputs": [],
   "source": [
    "import json\n",
    "with open ('../parameters/vocal_tracts/vt_all.json','w') as f:\n",
    "    json.dump(newjs,f)"
   ]
  },
  {
   "cell_type": "code",
   "execution_count": 215,
   "metadata": {},
   "outputs": [
    {
     "data": {
      "text/plain": [
       "[{'phoneme': 'i', 'gender': 'male', 'source': 'Story 1996'},\n",
       " {'phoneme': 'I', 'gender': 'male', 'source': 'Story 1996'},\n",
       " {'phoneme': '3', 'gender': 'male', 'source': 'Story 1996'},\n",
       " {'phoneme': 'ae', 'gender': 'male', 'source': 'Story 1996'},\n",
       " {'phoneme': '^', 'gender': 'male', 'source': 'Story 1996'},\n",
       " {'phoneme': 'a', 'gender': 'male', 'source': 'Story 1996'},\n",
       " {'phoneme': 'c', 'gender': 'male', 'source': 'Story 1996'},\n",
       " {'phoneme': 'o', 'gender': 'male', 'source': 'Story 1996'},\n",
       " {'phoneme': 'U', 'gender': 'male', 'source': 'Story 1996'},\n",
       " {'phoneme': 'u', 'gender': 'male', 'source': 'Story 1996'},\n",
       " {'phoneme': \"3'\", 'gender': 'male', 'source': 'Story 1996'},\n",
       " {'phoneme': 'l', 'gender': 'male', 'source': 'Story 1996'},\n",
       " {'phoneme': 'm', 'gender': 'male', 'source': 'Story 1996'},\n",
       " {'phoneme': 'n', 'gender': 'male', 'source': 'Story 1996'},\n",
       " {'phoneme': 'ny', 'gender': 'male', 'source': 'Story 1996'},\n",
       " {'phoneme': 'p', 'gender': 'male', 'source': 'Story 1996'},\n",
       " {'phoneme': 't', 'gender': 'male', 'source': 'Story 1996'},\n",
       " {'phoneme': 'k', 'gender': 'male', 'source': 'Story 1996'},\n",
       " {'phoneme': 'i', 'gender': 'male', 'source': 'Story 2004'},\n",
       " {'phoneme': 'ɪ', 'gender': 'male', 'source': 'Story 2004'},\n",
       " {'phoneme': 'e', 'gender': 'male', 'source': 'Story 2004'},\n",
       " {'phoneme': 'ε', 'gender': 'male', 'source': 'Story 2004'},\n",
       " {'phoneme': 'æ', 'gender': 'male', 'source': 'Story 2004'},\n",
       " {'phoneme': 'ʌ', 'gender': 'male', 'source': 'Story 2004'},\n",
       " {'phoneme': 'ɑ', 'gender': 'male', 'source': 'Story 2004'},\n",
       " {'phoneme': 'ɔ', 'gender': 'male', 'source': 'Story 2004'},\n",
       " {'phoneme': 'o', 'gender': 'male', 'source': 'Story 2004'},\n",
       " {'phoneme': 'ʊ', 'gender': 'male', 'source': 'Story 2004'},\n",
       " {'phoneme': 'u', 'gender': 'male', 'source': 'Story 2004'},\n",
       " {'phoneme': 'ii', 'gender': 'female', 'source': 'Story 1998'},\n",
       " {'phoneme': 'i(CT scan)', 'gender': 'female', 'source': 'Story 1998'},\n",
       " {'phoneme': 'I', 'gender': 'female', 'source': 'Story 1998'},\n",
       " {'phoneme': '3', 'gender': 'female', 'source': 'Story 1998'},\n",
       " {'phoneme': 'ae', 'gender': 'female', 'source': 'Story 1998'},\n",
       " {'phoneme': '^', 'gender': 'female', 'source': 'Story 1998'},\n",
       " {'phoneme': 'a', 'gender': 'female', 'source': 'Story 1998'},\n",
       " {'phoneme': 'a(CT scan)', 'gender': 'female', 'source': 'Story 1998'},\n",
       " {'phoneme': 'c', 'gender': 'female', 'source': 'Story 1998'},\n",
       " {'phoneme': 'o', 'gender': 'female', 'source': 'Story 1998'},\n",
       " {'phoneme': 'U', 'gender': 'female', 'source': 'Story 1998'},\n",
       " {'phoneme': 'u', 'gender': 'female', 'source': 'Story 1998'}]"
      ]
     },
     "execution_count": 215,
     "metadata": {},
     "output_type": "execute_result"
    }
   ],
   "source": [
    "[x for x in jq.compile('.[].headers | with_entries(select([.key] | inside([\"phoneme\",\"gender\",\"source\"])))').input(newjs)]"
   ]
  },
  {
   "cell_type": "code",
   "execution_count": 124,
   "metadata": {},
   "outputs": [],
   "source": [
    "js = [{'level1a':{'level2a':'a','level2b':'b'},'level1b':{'blevel2a':'a2','blevel2b':'b2'}},\n",
    "      {'level1a':{'level2a':'a','level2b':'b'},'level1b':{'blevel2a':'a1','blevel2b':'b1'}}]"
   ]
  },
  {
   "cell_type": "code",
   "execution_count": 131,
   "metadata": {},
   "outputs": [
    {
     "data": {
      "text/plain": [
       "[[{'level1a': {'level2a': 'a', 'level2b': 'b'},\n",
       "   'level1b': {'blevel2a': 'a2', 'blevel2b': 'b2'},\n",
       "   'test': {'level2a': 'a', 'level2b': 'b'}},\n",
       "  {'level1a': {'level2a': 'a', 'level2b': 'b'},\n",
       "   'level1b': {'blevel2a': 'a1', 'blevel2b': 'b1'},\n",
       "   'test': {'level2a': 'a', 'level2b': 'b'}}]]"
      ]
     },
     "execution_count": 131,
     "metadata": {},
     "output_type": "execute_result"
    }
   ],
   "source": [
    "jexp = jq.compile('map(.test = .level1a)')\n",
    "[x for x in jexp.input(js)]"
   ]
  },
  {
   "cell_type": "code",
   "execution_count": 138,
   "metadata": {},
   "outputs": [
    {
     "data": {
      "text/plain": [
       "[{'level1b': {'level2a': 'a',\n",
       "   'level2b': 'b',\n",
       "   'blevel2a': 'a2',\n",
       "   'blevel2b': 'b2'}},\n",
       " {'level1b': {'level2a': 'a',\n",
       "   'level2b': 'b',\n",
       "   'blevel2a': 'a1',\n",
       "   'blevel2b': 'b1'}}]"
      ]
     },
     "execution_count": 138,
     "metadata": {},
     "output_type": "execute_result"
    }
   ],
   "source": [
    "jexp = jq.compile('.[] | .level1b = .level1a + .level1b | del(.level1a)')\n",
    "[x for x in jexp.input(js)]"
   ]
  },
  {
   "cell_type": "code",
   "execution_count": 149,
   "metadata": {},
   "outputs": [
    {
     "data": {
      "text/plain": [
       "[[{'level2a': 'a', 'level2b': 'b'}, {'blevel2a': 'a2', 'blevel2b': 'b2'}],\n",
       " [{'level2a': 'a', 'level2b': 'b'}, {'blevel2a': 'a1', 'blevel2b': 'b1'}]]"
      ]
     },
     "execution_count": 149,
     "metadata": {},
     "output_type": "execute_result"
    }
   ],
   "source": [
    "jexp = jq.compile('.[] | flatten ')\n",
    "[x for x in jexp.input(js)]"
   ]
  },
  {
   "cell_type": "code",
   "execution_count": null,
   "metadata": {},
   "outputs": [],
   "source": []
  }
 ],
 "metadata": {
  "kernelspec": {
   "display_name": "vocalsims",
   "language": "python",
   "name": "vocalsims"
  },
  "language_info": {
   "codemirror_mode": {
    "name": "ipython",
    "version": 3
   },
   "file_extension": ".py",
   "mimetype": "text/x-python",
   "name": "python",
   "nbconvert_exporter": "python",
   "pygments_lexer": "ipython3",
   "version": "3.8.2"
  }
 },
 "nbformat": 4,
 "nbformat_minor": 4
}
