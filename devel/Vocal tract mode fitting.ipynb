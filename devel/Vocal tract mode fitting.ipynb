{
 "cells": [
  {
   "cell_type": "code",
   "execution_count": 910,
   "metadata": {},
   "outputs": [
    {
     "name": "stdout",
     "output_type": "stream",
     "text": [
      "Populating the interactive namespace from numpy and matplotlib\n"
     ]
    },
    {
     "name": "stderr",
     "output_type": "stream",
     "text": [
      "/Users/goios/Envs/unsw/lib/python3.8/site-packages/IPython/core/magics/pylab.py:159: UserWarning: pylab import has clobbered these variables: ['f']\n",
      "`%matplotlib` prevents importing * from pylab and numpy\n",
      "  warn(\"pylab import has clobbered these variables: %s\"  % clobbered +\n"
     ]
    }
   ],
   "source": [
    "%pylab inline\n",
    "import pympedance.Synthesiser as psy\n",
    "from vocalsims.fitting import vectfit as vfit\n",
    "import json\n",
    "import importlib.resources as ires\n",
    "import vocalsim_parameters.vocal_tracts as vts\n",
    "import scipy.signal as sig"
   ]
  },
  {
   "cell_type": "code",
   "execution_count": 911,
   "metadata": {},
   "outputs": [],
   "source": [
    "with ires.open_text(vts,\"vt_all.json\") as f:\n",
    "    tractjs = json.load(f)"
   ]
  },
  {
   "cell_type": "code",
   "execution_count": 912,
   "metadata": {},
   "outputs": [
    {
     "data": {
      "text/plain": [
       "[(5,\n",
       "  {'headers': {'phoneme': 'a',\n",
       "    'file': 'Story1996_male01_cm2.csv',\n",
       "    'units': 'cm2',\n",
       "    'gender': 'male',\n",
       "    'source': 'Story 1996',\n",
       "    'delta': 0.396285,\n",
       "    'length ': 17.46,\n",
       "    'measured_formants': {'f1': 754, 'f2': 1195, 'f3': 2685}},\n",
       "   'radii': [0.45,\n",
       "    0.2,\n",
       "    0.26,\n",
       "    0.21,\n",
       "    0.32,\n",
       "    0.3,\n",
       "    0.33,\n",
       "    1.05,\n",
       "    1.12,\n",
       "    0.85,\n",
       "    0.63,\n",
       "    0.39,\n",
       "    0.26,\n",
       "    0.28,\n",
       "    0.23,\n",
       "    0.32,\n",
       "    0.29,\n",
       "    0.28,\n",
       "    0.4,\n",
       "    0.66,\n",
       "    1.2,\n",
       "    1.05,\n",
       "    1.62,\n",
       "    2.09,\n",
       "    2.56,\n",
       "    2.78,\n",
       "    2.86,\n",
       "    3.02,\n",
       "    3.75,\n",
       "    4.6,\n",
       "    5.09,\n",
       "    6.02,\n",
       "    6.55,\n",
       "    6.29,\n",
       "    6.27,\n",
       "    5.94,\n",
       "    5.28,\n",
       "    4.7,\n",
       "    3.87,\n",
       "    4.13,\n",
       "    4.25,\n",
       "    4.27,\n",
       "    4.69,\n",
       "    5.03]}),\n",
       " (35,\n",
       "  {'headers': {'phoneme': 'a',\n",
       "    'file': 'Story1998_female_cm2.csv',\n",
       "    'units': 'cm2',\n",
       "    'gender': 'female',\n",
       "    'source': 'Story 1998',\n",
       "    'delta': 0.396825,\n",
       "    'unnamed_3': 18,\n",
       "    'unnamed_6': 23,\n",
       "    'unnamed_9': 96,\n",
       "    'measured_formants': {'f1': 961, 'f2': 1488, 'f3': 2779}},\n",
       "   'radii': [0.2,\n",
       "    0.42,\n",
       "    0.46,\n",
       "    1.17,\n",
       "    1.55,\n",
       "    0.99,\n",
       "    0.38,\n",
       "    0.18,\n",
       "    0.97,\n",
       "    1.17,\n",
       "    1.24,\n",
       "    1.32,\n",
       "    1.08,\n",
       "    1.18,\n",
       "    1.38,\n",
       "    2.04,\n",
       "    2.06,\n",
       "    2.36,\n",
       "    2.78,\n",
       "    2.86,\n",
       "    3.5,\n",
       "    3.54,\n",
       "    3.84,\n",
       "    4.31,\n",
       "    5.16,\n",
       "    5.19,\n",
       "    4.39,\n",
       "    3.2,\n",
       "    2.89,\n",
       "    2.13,\n",
       "    1.95,\n",
       "    1.38,\n",
       "    1.29,\n",
       "    2.81]})]"
      ]
     },
     "execution_count": 912,
     "metadata": {},
     "output_type": "execute_result"
    }
   ],
   "source": [
    "\n",
    "\n",
    "[(ii,s) for ii,s in enumerate(tractjs) if s['headers']['phoneme']=='a']"
   ]
  },
  {
   "cell_type": "code",
   "execution_count": 913,
   "metadata": {},
   "outputs": [
    {
     "data": {
      "text/plain": [
       "\u001b[0;31mInit signature:\u001b[0m \u001b[0mpsy\u001b[0m\u001b[0;34m.\u001b[0m\u001b[0mDuct\u001b[0m\u001b[0;34m(\u001b[0m\u001b[0mworld\u001b[0m\u001b[0;34m=\u001b[0m\u001b[0;32mNone\u001b[0m\u001b[0;34m,\u001b[0m \u001b[0mlosses\u001b[0m\u001b[0;34m=\u001b[0m\u001b[0;32mTrue\u001b[0m\u001b[0;34m)\u001b[0m\u001b[0;34m\u001b[0m\u001b[0;34m\u001b[0m\u001b[0m\n",
       "\u001b[0;31mDocstring:\u001b[0m      1-D duct object containing linear elements\n",
       "\u001b[0;31mFile:\u001b[0m           ~/Devel/impedancepython/pympedance/Synthesiser.py\n",
       "\u001b[0;31mType:\u001b[0m           type\n",
       "\u001b[0;31mSubclasses:\u001b[0m     \n"
      ]
     },
     "metadata": {},
     "output_type": "display_data"
    }
   ],
   "source": [
    "psy.Duct?"
   ]
  },
  {
   "cell_type": "code",
   "execution_count": 914,
   "metadata": {},
   "outputs": [],
   "source": [
    "def get_impedance(tract, loss_multiplier=5):\n",
    "    delta = tract['headers']['delta']\n",
    "    units = tract['headers']['units']\n",
    "    if units == 'cm2':\n",
    "        unit_mult = .01\n",
    "    duct = psy.Duct()\n",
    "    for csect in tract['radii']:\n",
    "        if units == 'cm2':\n",
    "            rr = np.sqrt(csect/pi)*unit_mult\n",
    "        duct.append_element(psy.StraightDuct(radius=rr,length=delta*unit_mult,loss_multiplier=loss_multiplier))\n",
    "    duct.set_termination(psy.PerfectClosedEnd())\n",
    "    return duct"
   ]
  },
  {
   "cell_type": "code",
   "execution_count": 915,
   "metadata": {},
   "outputs": [
    {
     "name": "stderr",
     "output_type": "stream",
     "text": [
      "/Users/goios/Devel/impedancepython/pympedance/Synthesiser.py:1004: RuntimeWarning: divide by zero encountered in true_divide\n",
      "  return (1.+r)/(1.-r)\n"
     ]
    },
    {
     "data": {
      "text/plain": [
       "[<matplotlib.lines.Line2D at 0x134c1d1c0>]"
      ]
     },
     "execution_count": 915,
     "metadata": {},
     "output_type": "execute_result"
    },
    {
     "data": {
      "image/png": "[encoded data removed]",
      "text/plain": [
       "<Figure size 432x288 with 2 Axes>"
      ]
     },
     "metadata": {
      "needs_background": "light"
     },
     "output_type": "display_data"
    }
   ],
   "source": [
    "f=np.linspace(1,4000,1000)\n",
    "duct = get_impedance(tractjs[5],loss_multiplier=2)\n",
    "z=duct.get_input_impedance_at_freq(f)\n",
    "\n",
    "\n",
    "fig,ax=subplots(2,sharex=True)\n",
    "ax[0].semilogy(f,np.abs(z))\n",
    "ax[1].plot(f,np.angle(z))"
   ]
  },
  {
   "cell_type": "code",
   "execution_count": 916,
   "metadata": {},
   "outputs": [
    {
     "name": "stdout",
     "output_type": "stream",
     "text": [
      "[ 909.68168168 2234.67567568 3231.42342342 3571.67867868] [ 169.12612613 1526.14414414 2282.71171171 3463.5975976 ]\n"
     ]
    }
   ],
   "source": [
    "pks,_ = sig.find_peaks(np.abs(z),width=1)\n",
    "vls,_ = sig.find_peaks(-np.abs(z),width=1)\n",
    "print(f[pks],f[vls])\n",
    "if vls[0]>pks[0]:\n",
    "    istop = int((vls[0]+pks[0])/2)\n",
    "else:\n",
    "    istop = int((vls[1]+pks[0])/2)"
   ]
  },
  {
   "cell_type": "code",
   "execution_count": 917,
   "metadata": {},
   "outputs": [
    {
     "name": "stdout",
     "output_type": "stream",
     "text": [
      "poles: -150.782 + -5704.52j, -150.782 + 5704.52j\n",
      "residues: 3337.85 + -176.428j, 3337.85 + 176.428j\n",
      "offset: 0.13691\n",
      "slope: 6.7698e-05\n"
     ]
    }
   ],
   "source": [
    "s = 1j*2*np.pi*f\n",
    "zvar = s\n",
    "hf=z/duct.char_impedance\n",
    "\n",
    "\n",
    "pf,zf,df,rf=vfit.vectfit_auto(hf[:istop],zvar[:istop],n_poles=1)"
   ]
  },
  {
   "cell_type": "code",
   "execution_count": 918,
   "metadata": {},
   "outputs": [
    {
     "name": "stderr",
     "output_type": "stream",
     "text": [
      "/Users/goios/Devel/impedancepython/pympedance/Synthesiser.py:1004: RuntimeWarning: divide by zero encountered in true_divide\n",
      "  return (1.+r)/(1.-r)\n"
     ]
    },
    {
     "data": {
      "text/plain": [
       "[<matplotlib.lines.Line2D at 0x1345d8be0>]"
      ]
     },
     "execution_count": 918,
     "metadata": {},
     "output_type": "execute_result"
    },
    {
     "data": {
      "image/png": "[encoded data removed]",
      "text/plain": [
       "<Figure size 432x288 with 2 Axes>"
      ]
     },
     "metadata": {
      "needs_background": "light"
     },
     "output_type": "display_data"
    }
   ],
   "source": [
    "f=np.linspace(1,4000,1000)\n",
    "duct = get_impedance(tractjs[5])\n",
    "z=duct.get_input_impedance_at_freq(f)\n",
    "\n",
    "\n",
    "fig,ax=subplots(2,sharex=True)\n",
    "ax[0].semilogy(f,np.abs(hf))\n",
    "ax[1].plot(f,np.angle(hf))\n",
    "ax[0].semilogy(f,np.abs(vfit.model(zvar,pf,zf,df,rf)))\n",
    "ax[1].plot(f,np.angle(vfit.model(zvar,pf,zf,df,rf)))\n",
    "ax[0].semilogy(f,np.abs(vfit.model(zvar,pf,zf,0,0)))\n",
    "ax[1].plot(f,np.angle(vfit.model(zvar,pf,zf,0,0)))"
   ]
  },
  {
   "cell_type": "code",
   "execution_count": 919,
   "metadata": {},
   "outputs": [
    {
     "data": {
      "text/plain": [
       "(-0.030901846069671546+0j)"
      ]
     },
     "execution_count": 919,
     "metadata": {},
     "output_type": "execute_result"
    }
   ],
   "source": [
    "zf[0]/(0-pf[0])+zf[0].conj()/(0-pf[0].conj())"
   ]
  },
  {
   "cell_type": "code",
   "execution_count": 920,
   "metadata": {},
   "outputs": [],
   "source": [
    "# def model(s, poles, residues, poly_coefs):\n",
    "#     return sum(r/(s-p) for p, r in zip(poles, residues)) + sum(s**i*pc for i,pc in enumerate(poly_coefs))\n",
    "\n",
    "def model(s, poles, residues, poly_coefs):\n",
    "    ret = np.zeros(len(s),dtype='complex')\n",
    "    for p, r in zip(poles, residues):\n",
    "        ret += r/(s-p)\n",
    "    for i,pc in enumerate(poly_coefs):\n",
    "        ret += s**i*pc\n",
    "    return ret\n",
    "\n",
    "\n",
    "def vecfit_lin_syst(f,s,poles, weights=None, poly_degree=-1):\n",
    "    \"\"\"\n",
    "    Calculate A and b in system Ax=b for the fitting of poles\n",
    "    \"\"\"\n",
    "    N = len(poles)\n",
    "    Ns = len(s)\n",
    "    Npoly = poly_degree+1\n",
    "\n",
    "    cindex = zeros(N)\n",
    "    # cindex is:\n",
    "    #   - 0 for real poles\n",
    "    #   - 1 for the first of a complex-conjugate pair\n",
    "    #   - 2 for the second of a cc pair\n",
    "    for i, p in enumerate(poles):\n",
    "        if p.imag != 0:\n",
    "            if i == 0 or cindex[i-1] != 1:\n",
    "                assert (poles[i].conj()) == poles[i+1], (\"Complex poles must come in conjugate pairs: %s, %s\" % (poles[i], poles[i+1]))\n",
    "                cindex[i] = 1\n",
    "            else:\n",
    "                cindex[i] = 2\n",
    "\n",
    "    # First linear equation to solve. See Appendix A\n",
    "    A = zeros((Ns, 2*N+Npoly), dtype=np.complex64)\n",
    "    for i, p in enumerate(poles):\n",
    "        if cindex[i] == 0:\n",
    "            A[:, i] = 1/(s - p)\n",
    "        elif cindex[i] == 1:\n",
    "            A[:, i] = 1/(s - p) + 1/(s - p.conj())\n",
    "        elif cindex[i] == 2:\n",
    "            A[:, i] = 1j/(s - p) - 1j/(s - p.conj())\n",
    "        else:\n",
    "            raise RuntimeError(\"cindex[%s] = %s\" % (i, cindex[i]))\n",
    "\n",
    "        A [:, N+Npoly+i] = -A[:, i] * f\n",
    "\n",
    "    for i in range(Npoly):\n",
    "        A[:, N+i] = s**i\n",
    "\n",
    "    # Solve Ax == b using pseudo-inverse\n",
    "    b = f\n",
    "    \n",
    "    if weights is not None:\n",
    "        A *= np.tile(weights[:,np.newaxis],(1,A.shape[1]))\n",
    "        b = f*weights\n",
    "        \n",
    "    return A, b, cindex\n",
    "\n",
    "def vecfit_step(f,s,poles, weights, poly_degree=-1):\n",
    "    \"\"\"\n",
    "    \n",
    "    fit s, a for \n",
    "    \n",
    "        f = \\Sum_i(r/(s-p_i)) + \\Sum_{i=0}^{poly_degree} (a_i * s i)\n",
    "    \n",
    "    f = complex data to fit\n",
    "    s = j*frequency\n",
    "    poles = initial poles guess\n",
    "        note: All complex poles must come in sequential complex conjugate pairs\n",
    "    poly_degree = maximum degree of polynomial terms \n",
    "    returns adjusted poles\n",
    "    \"\"\"\n",
    " \n",
    "    N = len(poles)\n",
    "    Npoly = poly_degree+1\n",
    "\n",
    "    # Calculate the complex matrix to solve \n",
    "    A, b, cindex = vecfit_lin_syst(f,s,poles, weights=weights, poly_degree=poly_degree)\n",
    "    \n",
    "    # Separate real and imaginary parts\n",
    "    A = vstack((real(A), imag(A)))\n",
    "    b = concatenate((real(b), imag(b)))\n",
    "    x, residuals, rnk, s = lstsq(A, b, rcond=-1)\n",
    "\n",
    "    residues = x[:N]\n",
    "    poly_coefs = np.zeros(Npoly)\n",
    "    poly_coefs = x[N:N+Npoly]\n",
    "\n",
    "    # We only want the \"tilde\" part in (A.4)\n",
    "    x = x[-N:]\n",
    "\n",
    "    # Calculation of zeros: Appendix B\n",
    "    A = diag(poles)\n",
    "    b = ones(N)\n",
    "    c = x\n",
    "    for i, (ci, p) in enumerate(zip(cindex, poles)):\n",
    "        if ci == 1:\n",
    "            x, y = real(p), imag(p)\n",
    "            A[i, i] = A[i+1, i+1] = x\n",
    "            A[i, i+1] = -y\n",
    "            A[i+1, i] = y\n",
    "            b[i] = 2\n",
    "            b[i+1] = 0\n",
    "            #cv = c[i]\n",
    "            #c[i,i+1] = real(cv), imag(cv)\n",
    "\n",
    "    H = A - outer(b, c)\n",
    "    H = real(H)\n",
    "    new_poles = sort(eigvals(H))\n",
    "    unstable = real(new_poles) > 0\n",
    "    new_poles[unstable] -= 2*real(new_poles)[unstable]\n",
    "    return new_poles\n",
    "\n",
    "\n",
    "def calculate_residues(f, s, poles, weights, poly_degree=-1, rcond=-1, force_residue=None):\n",
    "    \n",
    "    N = len(poles)\n",
    "    Npoly = poly_degree+1\n",
    "    \n",
    "    # Calculate the complex matrix to solve \n",
    "    A, b, cindex = vecfit_lin_syst(f,s,poles,weights=weights,poly_degree=poly_degree)\n",
    "\n",
    "    if force_residue == \"imag\":\n",
    "        A = A[:,0:N:2]\n",
    "    elif force_residue == \"arg_pole\":\n",
    "        arg_poles = angle(poles[0:N:2])\n",
    "        A = A[:,0:N:2] * cos(arg_poles)\n",
    "        #A[:,1:N:2] *= sin(arg_poles)\n",
    "\n",
    "    # Solve Ax == b using pseudo-inverse\n",
    "    A = vstack((real(A), imag(A)))\n",
    "    b = concatenate((real(b), imag(b)))\n",
    "\n",
    "    \n",
    "    cA = np.linalg.cond(A)\n",
    "    if cA > 1e13:\n",
    "        print ('Warning!: Ill Conditioned Matrix. Consider scaling the problem down')\n",
    "        print ('Cond(A)', cA)\n",
    "    x, residuals, rnk, s = lstsq(A, b, rcond=rcond)\n",
    "\n",
    "    # Recover complex values\n",
    "    x = np.complex64(x)\n",
    "    if force_residue==\"imag\":\n",
    "        x = np.concatenate([[-1j*xx,1j*xx] for xx in x])\n",
    "    elif force_residue == \"arg_pole\":\n",
    "        x = np.concatenate([[xx*exp(1j*arg),xx*exp(-1j*arg)] for xx,arg in zip(x,arg_poles)])\n",
    "        \n",
    "    else:\n",
    "        for i, ci in enumerate(cindex):\n",
    "            if ci == 1:\n",
    "                r1, r2 = x[i:i+2]\n",
    "                x[i] = r1 - 1j*r2\n",
    "                x[i+1] = r1 + 1j*r2\n",
    "\n",
    "    residues = x[:N]\n",
    "    poly_coefs = x[N:N+Npoly].real\n",
    "    return residues, poly_coefs\n",
    "\n",
    "\n",
    "def print_params(poles, residues, poly_coefs):\n",
    "    cfmt = \"{0.real:g} + {0.imag:g}j\"\n",
    "    print (\"poles: \" + \", \".join(cfmt.format(p) for p in poles))\n",
    "    print (\"residues: \" + \", \".join(cfmt.format(r) for r in residues))\n",
    "    \n",
    "    print(\"polynomial coefs: \")\n",
    "    pcs=\"\"\n",
    "    for ii, pc in enumerate(poly_coefs):\n",
    "        if ii>0:\n",
    "            pcs += \" + \"\n",
    "        pcs+=f\"{pc:g} s**{ii}\"\n",
    "\n",
    "    print (pcs) \n",
    "    \n",
    "def vecfit_auto(f, s, weights=None, n_poles=10, poly_degree=-1, \n",
    "                n_iter=10, show=False,\n",
    "                inc_real=False, loss_ratio=1e-2, rcond=-1, \n",
    "                track_poles=False, init_resonances=None, force_residue=None):\n",
    "    w = imag(s)\n",
    "    if init_resonances is None: \n",
    "        pole_locs = linspace(w[0], w[-1], n_poles+2)[1:-1]\n",
    "    else:\n",
    "        pole_locs = init_resonances\n",
    "        \n",
    "    lr = loss_ratio\n",
    "    init_poles = poles = concatenate([[p*(-lr + 1j), p*(-lr - 1j)] for p in pole_locs])\n",
    "\n",
    "    if inc_real:\n",
    "        poles = concatenate((poles, [1]))\n",
    "        \n",
    "    if weights is None:\n",
    "        weights = ones(f.shape)\n",
    "\n",
    "    poles_list = []\n",
    "    for _ in range(n_iter):\n",
    "        poles = vecfit_step(f, s, poles, weights=weights, poly_degree=poly_degree)\n",
    "        poles_list.append(poles)\n",
    "\n",
    "    residues, poly_coefs = calculate_residues(f, s, poles, weights=weights, poly_degree=poly_degree, rcond=rcond, force_residue=force_residue)\n",
    "\n",
    "    if track_poles:\n",
    "        return poles, residues, poly_coefs, np.array(poles_list)\n",
    "\n",
    "    print_params(poles, residues, poly_coefs)\n",
    "    return poles, residues, poly_coefs\n",
    "\n"
   ]
  },
  {
   "cell_type": "code",
   "execution_count": 921,
   "metadata": {},
   "outputs": [
    {
     "name": "stdout",
     "output_type": "stream",
     "text": [
      "[ 905.67867868 2218.66366366 3223.41741742 3591.69369369] [ 169.12612613 1530.14714715 2298.72372372 3455.59159159]\n",
      "poles: -279.547 + -20317.6j, -279.547 + 20317.6j, -202.779 + -22392.9j, -202.779 + 22392.9j, -151.775 + -5715.41j, -151.775 + 5715.41j, -102.361 + -14062.7j, -102.361 + 14062.7j\n",
      "residues: 11079.9 + 389.887j, 11079.9 + -389.887j, 4954.06 + -847.726j, 4954.06 + 847.726j, 3367.04 + -31.9087j, 3367.04 + 31.9087j, 391.769 + -21.9235j, 391.769 + 21.9235j\n",
      "polynomial coefs: \n",
      "\n"
     ]
    }
   ],
   "source": [
    "n_poles = 4\n",
    "\n",
    "pks,_ = sig.find_peaks(np.abs(z),width=10)\n",
    "vls,_ = sig.find_peaks(-np.abs(z),width=10)\n",
    "\n",
    "print(f[pks],f[vls])\n",
    "if vls[0]>pks[0]:\n",
    "    try:\n",
    "        istop = int((vls[n_poles-1]+pks[n_poles-1])/2)\n",
    "    except IndexError:\n",
    "        istop = len(z)\n",
    "    istart = 0\n",
    "else:\n",
    "    istart=vls[0]\n",
    "    try:\n",
    "        istop = int((vls[n_poles]+pks[n_poles-1])/2)\n",
    "    except IndexError:\n",
    "        istop = len(z)\n",
    "\n",
    "    \n",
    "weights = f[istart:istop]**(-1)\n",
    "weights = np.abs(zvar[istart:istop])**(-.5)\n",
    "\n",
    "fres = 2*pi*f[pks[:n_poles]]\n",
    "\n",
    "if len(fres)<n_poles:\n",
    "    fres = np.concatenate([fres,fres[-1]+np.arange(1,n_poles-len(fres)+1)*4*np.median(np.diff(fres))])\n",
    "\n",
    "pf,zf,pcf = vecfit_auto(hf[istart:istop],zvar[istart:istop],n_poles=n_poles,weights = weights,init_resonances=fres)#,force_residue=\"arg_pole\"  )"
   ]
  },
  {
   "cell_type": "code",
   "execution_count": 922,
   "metadata": {},
   "outputs": [
    {
     "data": {
      "text/plain": [
       "array([ 5690.5469669 , 13940.2749331 , 20253.32895602, 22567.27704411])"
      ]
     },
     "execution_count": 922,
     "metadata": {},
     "output_type": "execute_result"
    }
   ],
   "source": [
    "fres"
   ]
  },
  {
   "cell_type": "code",
   "execution_count": 923,
   "metadata": {},
   "outputs": [
    {
     "name": "stderr",
     "output_type": "stream",
     "text": [
      "/Users/goios/Devel/impedancepython/pympedance/Synthesiser.py:1004: RuntimeWarning: divide by zero encountered in true_divide\n",
      "  return (1.+r)/(1.-r)\n"
     ]
    },
    {
     "data": {
      "text/plain": [
       "[<matplotlib.lines.Line2D at 0x13407b340>]"
      ]
     },
     "execution_count": 923,
     "metadata": {},
     "output_type": "execute_result"
    },
    {
     "data": {
      "image/png": "[encoded data removed]",
      "text/plain": [
       "<Figure size 432x288 with 2 Axes>"
      ]
     },
     "metadata": {
      "needs_background": "light"
     },
     "output_type": "display_data"
    }
   ],
   "source": [
    "f=np.linspace(1,4000,1000)\n",
    "duct = get_impedance(tractjs[5])\n",
    "z=duct.get_input_impedance_at_freq(f)\n",
    "\n",
    "\n",
    "fig,ax=subplots(2,sharex=True)\n",
    "ax[0].semilogy(f,np.abs(hf))\n",
    "ax[1].plot(f,np.angle(hf))\n",
    "ax[0].semilogy(f,np.abs(model(zvar,pf,zf,pcf)))\n",
    "ax[1].plot(f,np.angle(model(zvar,pf,zf,pcf)))\n",
    "\n",
    "zfc = np.abs(zf)*np.exp(1j*(np.angle(pf)))\n",
    "zfc[zfc.imag>0]*=-1j\n",
    "zfc[zfc.imag<0]*=+1j\n",
    "ax[0].semilogy(f,np.abs(model(zvar,pf,zfc,pcf)))\n",
    "ax[1].plot(f,np.angle(model(zvar,pf,zfc,pcf)))\n"
   ]
  },
  {
   "cell_type": "code",
   "execution_count": 924,
   "metadata": {},
   "outputs": [],
   "source": [
    "from scipy.optimize import minimize, basinhopping"
   ]
  },
  {
   "cell_type": "code",
   "execution_count": 927,
   "metadata": {},
   "outputs": [],
   "source": [
    "def classify_poles(poles,eps=1e-12):\n",
    "    cindex = np.zeros(len(poles))\n",
    "    pairs = []\n",
    "    for ii,pp in enumerate(poles):\n",
    "        if np.abs(pp.imag)>eps:\n",
    "            if pp.imag<0:\n",
    "                pdist = np.abs(poles-pp.conj())\n",
    "                imin = np.argmin(pdist)\n",
    "                if pdist[imin]<eps:\n",
    "                    pairs.append((ii,imin))\n",
    "                    cindex[ii]=1\n",
    "                    cindex[imin]=2\n",
    "                else:\n",
    "                    raise ValueError\n",
    "    return cindex,pairs\n",
    "    \n",
    "\n",
    "class VFTweaker(object):\n",
    "#     def model(self, s, poles, residues, poly_coefs):\n",
    "#         return sum(r/(s-p) for p, r in zip(poles, residues)) + sum(s**i*pc for i,pc in enumerate(poly_coefs))\n",
    "\n",
    "    def model(self, s, poles, residues, poly_coefs):\n",
    "        ret = np.zeros(len(s),dtype='complex')\n",
    "        for p, r in zip(poles, residues):\n",
    "            ret += r/(s-p)\n",
    "        for i,pc in enumerate(poly_coefs):\n",
    "            ret += s**i*pc\n",
    "        return ret\n",
    "\n",
    "    def model_jac(self, s, poles, residues, poly_coefs):\n",
    "        dfdpoles = np.array([-rr/(s-pp) for rr, pp in residues, poles])\n",
    "        dfdresidues = np.array([1/(s-pp) for rr, pp in residues, poles])\n",
    "        dfdpoly = np.array([s**ii for ii, pp in poly_coefs])\n",
    "        return dfdpoles, dfdresidues, dfdpoly\n",
    "        \n",
    "    def __init__(self,f,s,poles,residues,poly_coefs=None,residues_only=True,copy_pole_phase=False):\n",
    "        self.f = f\n",
    "        self.s = s\n",
    "        self.N = len(poles)\n",
    "        self.Npoly = len(poly_coefs)\n",
    "        self.residues_only = residues_only\n",
    "        self.copy_pole_phase = copy_pole_phase\n",
    "        self.poles0 = poles\n",
    "        self.real_poles0, self.complex_poles0 = self.distribute_poles(poles)\n",
    "        self.residues0 = residues\n",
    "        self.poly_coefs0 = poly_coefs\n",
    "        self.x0 = self.flatten_args(poles,residues,poly_coefs)\n",
    "        self.cost = self.objf(self.x0)\n",
    "        \n",
    "    def distribute_poles(self, poles):\n",
    "        pindex, pairs = classify_poles(poles)\n",
    "        complex_poles = poles[pindex==1]\n",
    "        return poles[pindex==0], np.concatenate([[xx, xx.conj()] for xx in complex_poles])\n",
    "        \n",
    "    def flatten_args(self, poles, residues, poly_coef):\n",
    "            \n",
    "        pindex, pairs = classify_poles(poles)\n",
    "        cpol = poles[pindex==1]\n",
    "        rpol = poles[pindex==0]\n",
    "        self.Nfit_cplx_poles = len(cpol)\n",
    "        self.Nfit_real_poles = len(rpol)\n",
    "\n",
    "        #rindex, pairs = classify_poles(residues)\n",
    "        cres = residues[pindex==1]\n",
    "        self.Nfit_cplx_resid = len(cres)\n",
    "        rres = residues[pindex==0]\n",
    "        self.Nfit_real_resid = len(rres)\n",
    "        \n",
    "        if self.residues_only:\n",
    "            self.Nfit_cplx_poles = 0\n",
    "            self.Nfit_real_poles = 0\n",
    "            if self.copy_pole_phase:\n",
    "                return np.concatenate([rres.real, np.abs(cres)])\n",
    "            else:\n",
    "                return np.concatenate([rres.real,cres.real,cres.imag])\n",
    "        else:\n",
    "            return np.concatenate([rpol.real,cpol.real,cpol.imag,rres.real,cres.real,cres.imag,poly_coef])\n",
    "\n",
    "    def recover_args(self, x):\n",
    "#         if self.residues_only:\n",
    "#             poles=self.poles0\n",
    "#             poly_coefs=self.poly_coefs0\n",
    "#             residues = x[:self.N] + 1j*x[self.N:self.N*2]\n",
    "#         else:\n",
    "#             poles = x[:self.N] + 1j*x[self.N:self.N*2]\n",
    "#             residues = x[self.N*2:self.N*3] + 1j*x[self.N*3:self.N*4]\n",
    "#             poly_coefs = x[self.N*4:]\n",
    "            \n",
    "        Nend = 0\n",
    "        \n",
    "        if not self.residues_only:\n",
    "            \n",
    "            Nst = Nend\n",
    "            Nend = Nst + self.Nfit_real_poles\n",
    "            rpol = x[Nst:Nend]\n",
    "            Nst = Nend\n",
    "            Nsti = Nst + self.Nfit_cplx_poles\n",
    "            Nend = Nsti + self.Nfit_cplx_poles\n",
    "            cpol = np.concatenate([[xr+1j*xi,xr-1j*xi] for xr,xi in zip(x[Nst:Nsti],x[Nsti:Nend])])\n",
    "            poles = np.concatenate((rpol,cpol))\n",
    "        else:\n",
    "            poles = np.concatenate((self.real_poles0,self.complex_poles0))\n",
    "            \n",
    "        Nst = Nend\n",
    "        Nend = Nst + self.Nfit_real_resid\n",
    "        rres = x[Nst:Nend]\n",
    "\n",
    "        if self.copy_pole_phase:\n",
    "            Nst = Nend\n",
    "            Nend = Nst + self.Nfit_cplx_resid\n",
    "            ci,pairs = classify_poles(poles)\n",
    "            poles1 = poles[ci==1]\n",
    "            cres = np.concatenate([[1j*xa*np.exp(1j*np.angle(pp)),-1j*xa*np.exp(-1j*np.angle(pp))] for xa,pp in zip(x[Nst:Nend],poles1)])\n",
    "            \n",
    "        else:\n",
    "            Nst = Nend\n",
    "            Nsti = Nst + self.Nfit_cplx_resid\n",
    "            Nend = Nsti + self.Nfit_cplx_resid\n",
    "            cres = np.concatenate([[xr+1j*xi,xr-1j*xi] for xr,xi in zip(x[Nst:Nsti],x[Nsti:Nend])])\n",
    "        residues = np.concatenate((rres,cres))\n",
    "\n",
    "        poly_coefs = x[Nend:]\n",
    "        \n",
    "        return poles, residues, poly_coefs\n",
    "        \n",
    "    def objf(self, args):\n",
    "        #print(args)\n",
    "        poles, residues, poly_coefs = self.recover_args(args)\n",
    "        fpred = self.model(self.s , poles, residues, poly_coefs)\n",
    "        #return np.nansum(np.log(np.abs(self.f/fpred))**2)\n",
    "        #return np.sum(np.log(np.abs(self.f.real/fpred.real))**2)+np.sum(np.log(np.abs(self.f.imag/fpred.imag))**2)\n",
    "        #return np.sum(np.abs(self.f.real/fpred.real-1)**2)+np.sum(np.abs(self.f.imag/fpred.imag-1)**2)\n",
    "        return np.sum(np.abs((self.f-fpred))**2/np.abs(self.f))\n",
    "    \n",
    "    def jac(self, args):\n",
    "        poles, residues, poly_coefs = self.recover_args(args)\n",
    "        dfdpoles, dfdresidues, dfdpoly = self.model_jac(self, poles,residues,poly_coefs)\n",
    "        return np.sum()\n",
    "        \n",
    "    def optimize(self):\n",
    "        res = minimize(self.objf,self.x0,method='BFGS')\n",
    "        self.res = res\n",
    "        self.cost0=self.cost\n",
    "        self.cost = res.fun\n",
    "        return self.recover_args(res.x)\n",
    "        "
   ]
  },
  {
   "cell_type": "code",
   "execution_count": 928,
   "metadata": {},
   "outputs": [
    {
     "name": "stdout",
     "output_type": "stream",
     "text": [
      "      fun: 194.38262223633023\n",
      " hess_inv: array([[15895.02689075,   166.76802429,  1464.59094082,    83.73399432],\n",
      "       [  166.76802429,  9314.45119288,   782.08186772,    91.02578908],\n",
      "       [ 1464.59094082,   782.08186772,  3212.42224519,   148.32081375],\n",
      "       [   83.73399432,    91.02578908,   148.32081375,   839.50668139]])\n",
      "      jac: array([-1.90734863e-06,  3.81469727e-06,  1.90734863e-06,  1.90734863e-06])\n",
      "  message: 'Optimization terminated successfully.'\n",
      "     nfev: 280\n",
      "      nit: 49\n",
      "     njev: 56\n",
      "   status: 0\n",
      "  success: True\n",
      "        x: array([10844.29798748,  4911.44343438,  3088.98443476,   387.12760455])\n",
      "[-279.54740186-20317.61200244j -279.54740186+20317.61200244j\n",
      " -202.77942464-22392.85747392j -202.77942464+22392.85747392j\n",
      " -151.77531304 -5715.40891384j -151.77531304 +5715.40891384j\n",
      " -102.36068884-14062.66967498j -102.36068884+14062.66967498j] [10843.27168498-149.19117595j 10843.27168498+149.19117595j\n",
      "  4911.24207068 -44.47395079j  4911.24207068 +44.47395079j\n",
      "  3087.89584621 -82.00049476j  3087.89584621 +82.00049476j\n",
      "   387.1173495   -2.81778634j   387.1173495   +2.81778634j] []\n"
     ]
    }
   ],
   "source": [
    "import warnings\n",
    "\n",
    "with warnings.catch_warnings():\n",
    "    #warnings.simplefilter('error')\n",
    "    vft = VFTweaker(hf[:istop],zvar[:istop],pf,zf,pcf,residues_only=True,copy_pole_phase=True)\n",
    "    pn,zn,pcn = vft.optimize()\n",
    "    print (vft.res)\n",
    "    print (pn,zn,pcn)"
   ]
  },
  {
   "cell_type": "code",
   "execution_count": 929,
   "metadata": {},
   "outputs": [
    {
     "data": {
      "text/plain": [
       "array([ 905.67867868, 2218.66366366, 3223.41741742, 3591.69369369])"
      ]
     },
     "execution_count": 929,
     "metadata": {},
     "output_type": "execute_result"
    }
   ],
   "source": [
    "fres/2/pi"
   ]
  },
  {
   "cell_type": "code",
   "execution_count": 930,
   "metadata": {},
   "outputs": [
    {
     "data": {
      "text/plain": [
       "[<matplotlib.lines.Line2D at 0x1347ecb50>]"
      ]
     },
     "execution_count": 930,
     "metadata": {},
     "output_type": "execute_result"
    },
    {
     "data": {
      "image/png": "[encoded data removed]",
      "text/plain": [
       "<Figure size 432x288 with 2 Axes>"
      ]
     },
     "metadata": {
      "needs_background": "light"
     },
     "output_type": "display_data"
    }
   ],
   "source": [
    "fig,ax=subplots(2,sharex=True)\n",
    "ax[0].semilogy(f,np.abs(hf))\n",
    "ax[1].plot(f,np.angle(hf))\n",
    "ax[0].semilogy(f,np.abs(model(zvar,pf,zf,pcf)))\n",
    "ax[1].plot(f,np.angle(model(zvar,pf,zf,pcf)))\n",
    "ax[0].semilogy(f,np.abs(vft.model(zvar,pf,zf,pcf)))\n",
    "ax[1].plot(f,np.angle(vft.model(zvar,pf,zf,pcf)))\n",
    "ax[0].semilogy(f,np.abs(vft.model(zvar,pn,zn,pcn)))\n",
    "ax[1].plot(f,np.angle(vft.model(zvar,pn,zn,pcn)))\n",
    "# ax[0].semilogy(f,np.abs(vft.model(zvar,vft.poles0,vft.residues0,vft.poly_coefs0)))\n",
    "# ax[1].plot(f,np.angle(vft.model(zvar,vft.poles0,vft.residues0,vft.poly_coefs0)))\n"
   ]
  },
  {
   "cell_type": "code",
   "execution_count": 931,
   "metadata": {},
   "outputs": [
    {
     "data": {
      "text/plain": [
       "(array([-279.54740186-20317.61200244j, -279.54740186+20317.61200244j,\n",
       "        -202.77942464-22392.85747392j, -202.77942464+22392.85747392j,\n",
       "        -151.77531304 -5715.40891384j, -151.77531304 +5715.40891384j,\n",
       "        -102.36068884-14062.66967498j, -102.36068884+14062.66967498j]),\n",
       " array([10843.27168498-149.19117595j, 10843.27168498+149.19117595j,\n",
       "         4911.24207068 -44.47395079j,  4911.24207068 +44.47395079j,\n",
       "         3087.89584621 -82.00049476j,  3087.89584621 +82.00049476j,\n",
       "          387.1173495   -2.81778634j,   387.1173495   +2.81778634j]),\n",
       " array([], dtype=float64))"
      ]
     },
     "execution_count": 931,
     "metadata": {},
     "output_type": "execute_result"
    }
   ],
   "source": [
    "pn,zn,pcn"
   ]
  },
  {
   "cell_type": "code",
   "execution_count": 932,
   "metadata": {},
   "outputs": [
    {
     "data": {
      "text/plain": [
       "(array([-279.54740186-20317.61200244j, -279.54740186+20317.61200244j,\n",
       "        -202.77942464-22392.85747392j, -202.77942464+22392.85747392j,\n",
       "        -151.77531304 -5715.40891384j, -151.77531304 +5715.40891384j,\n",
       "        -102.36068884-14062.66967498j, -102.36068884+14062.66967498j]),\n",
       " array([11079.947  +389.88745j , 11079.947  -389.88745j ,\n",
       "         4954.0557 -847.72644j ,  4954.0557 +847.72644j ,\n",
       "         3367.0415  -31.908728j,  3367.0415  +31.908728j,\n",
       "          391.76886 -21.923462j,   391.76886 +21.923462j], dtype=complex64),\n",
       " array([], dtype=float32))"
      ]
     },
     "execution_count": 932,
     "metadata": {},
     "output_type": "execute_result"
    }
   ],
   "source": [
    "vft.poles0,vft.residues0,vft.poly_coefs0"
   ]
  },
  {
   "cell_type": "code",
   "execution_count": 933,
   "metadata": {},
   "outputs": [
    {
     "data": {
      "text/plain": [
       "(array([-279.54740186-20317.61200244j, -279.54740186+20317.61200244j,\n",
       "        -202.77942464-22392.85747392j, -202.77942464+22392.85747392j,\n",
       "        -151.77531304 -5715.40891384j, -151.77531304 +5715.40891384j,\n",
       "        -102.36068884-14062.66967498j, -102.36068884+14062.66967498j]),\n",
       " array([11085.75543421-152.52747857j, 11085.75543421+152.52747857j,\n",
       "         5025.85692531 -45.51185023j,  5025.85692531 +45.51185023j,\n",
       "         3366.0059951  -89.38583771j,  3366.0059951  +89.38583771j,\n",
       "          392.37141119  -2.8560301j ,   392.37141119  +2.8560301j ]),\n",
       " array([], dtype=float32))"
      ]
     },
     "execution_count": 933,
     "metadata": {},
     "output_type": "execute_result"
    }
   ],
   "source": [
    "vft.recover_args(vft.x0)"
   ]
  },
  {
   "cell_type": "code",
   "execution_count": 942,
   "metadata": {},
   "outputs": [
    {
     "data": {
      "text/plain": [
       "130664222.71873127"
      ]
     },
     "execution_count": 942,
     "metadata": {},
     "output_type": "execute_result"
    }
   ],
   "source": [
    "duct.char_impedance"
   ]
  },
  {
   "cell_type": "code",
   "execution_count": 946,
   "metadata": {},
   "outputs": [],
   "source": [
    "def get_pole(tract, n_poles=1):\n",
    "    f=np.linspace(1,4000,1000)\n",
    "    duct = get_impedance(tract,loss_multiplier=5)\n",
    "    z=duct.get_input_impedance_at_freq(f)/duct.char_impedance\n",
    "\n",
    "    # find region to fit to\n",
    "    pks,_ = sig.find_peaks(np.abs(z),width=10)\n",
    "    vls,_ = sig.find_peaks(-np.abs(z),width=10)\n",
    "    if vls[0]>pks[0]:\n",
    "        try:\n",
    "            istop = int((vls[n_poles-1]+pks[n_poles-1])/2)\n",
    "        except IndexError:\n",
    "            istop = len(z)\n",
    "        istart = 0\n",
    "    else:\n",
    "        istart=vls[0]\n",
    "        try:\n",
    "            istop = int((vls[n_poles]+pks[n_poles-1])/2)\n",
    "        except IndexError:\n",
    "            istop = len(z)\n",
    "    istart=0\n",
    "        \n",
    "    print(f\"First peak at {f[pks[0]]} Hz, fitting from {f[istart]} up to {f[istop-1]} Hz\")\n",
    "\n",
    "    hf=z\n",
    "    s = 1j*2*np.pi*f\n",
    "    zvar = s\n",
    "    \n",
    "    weights = f[istart:istop]**(-1)\n",
    "    weights = np.abs(zvar[istart:istop])**(-.5)\n",
    "\n",
    "    fres = 2*pi*f[pks[:n_poles]]\n",
    "    fres = np.insert(fres, 0,0,)\n",
    "\n",
    "    if len(fres)<n_poles:\n",
    "        fres = np.concatenate([fres,fres[-1]+np.arange(1,n_poles-len(fres)+1)*4*np.median(np.diff(fres))])\n",
    "\n",
    "    print(f\"Init resonances {fres}\")\n",
    "\n",
    "    #pf,zf,pcf = vecfit_auto(hf[:istop],zvar[:istop],n_poles=n_poles,weights = weights,init_resonances=fres)#,force_residue=\"arg_pole\"  )\n",
    "    pf,zf,pcf = vecfit_auto(hf[istart:istop],zvar[istart:istop],\n",
    "                            n_poles=n_poles+1,weights = weights,\n",
    "                            init_resonances=fres)#,force_residue=\"arg_pole\"  )\n",
    "\n",
    "    # correct residue phase\n",
    "    zfc = np.abs(zf)*np.exp(1j*(np.angle(pf)))\n",
    "    zfc[zfc.imag>0]*=-1j\n",
    "    zfc[zfc.imag<0]*=+1j\n",
    "    #zf=-zfc\n",
    "\n",
    "    vft = VFTweaker(hf[:istop],zvar[:istop],pf,zf,pcf,residues_only=True,copy_pole_phase=True)\n",
    "    pn,zn,pcn = vft.optimize()\n",
    "    \n",
    "    if not vft.res.success:\n",
    "        print('Failed fitting')\n",
    "    #pn,zn,pcn = pf,zf,pcf\n",
    "    \n",
    "    return pn, zn, pcn, vft"
   ]
  },
  {
   "cell_type": "code",
   "execution_count": 947,
   "metadata": {},
   "outputs": [
    {
     "name": "stdout",
     "output_type": "stream",
     "text": [
      "{'phoneme': 'I', 'file': 'Story1996_male01_cm2.csv', 'units': 'cm2', 'gender': 'male', 'source': 'Story 1996', 'delta': 0.396285, 'length ': 16.67, 'measured_formants': {'f1': 518, 'f2': 2004, 'f3': 2605}}\n",
      "First peak at 597.4474474474474 Hz, fitting from 1.0 up to 4000.0 Hz\n",
      "Init resonances [    0.          3753.87302361  8155.4047129  17461.50028453\n",
      " 23749.4026978 ]\n",
      "poles: -268.804 + -3722.92j, -268.804 + 3722.92j, -216.969 + 0j, -215.711 + -7932.53j, -215.711 + 7932.53j, -67.1742 + 0j, -23.6251 + 0j, -3.69313 + 0j, -24.9662 + 0j, -183.279 + 0j\n",
      "residues: 6346.7 + -465.603j, 6346.7 + 465.603j, 7898.9 + 0j, 191.782 + -43.4525j, 191.782 + 43.4525j, -2577.57 + 0j, 91727.9 + 0j, 9215.45 + 0j, -113859 + 0j, 16062.1 + 0j\n",
      "polynomial coefs: \n",
      "\n"
     ]
    },
    {
     "name": "stderr",
     "output_type": "stream",
     "text": [
      "/Users/goios/Devel/impedancepython/pympedance/Synthesiser.py:1004: RuntimeWarning: divide by zero encountered in true_divide\n",
      "  return (1.+r)/(1.-r)\n"
     ]
    },
    {
     "name": "stdout",
     "output_type": "stream",
     "text": [
      "Failed fitting\n",
      "Freq 594.0631465192372\n",
      "Q    6.943003095832019\n",
      "A    (0.005898320334146962+0j)\n",
      "VecFit cost 3380.73\n",
      "Fit cost 88.5697\n",
      "\n",
      "First peak at 925.6936936936936 Hz, fitting from 1.0 up to 4000.0 Hz\n",
      "Init resonances [    0.          5816.30501517  8457.22402874 17587.2583328\n",
      " 23824.85752676]\n",
      "poles: -350.887 + -17150.2j, -350.887 + 17150.2j, -321.583 + -8342j, -321.583 + 8342j, -304.257 + -5824.79j, -304.257 + 5824.79j, -141.755 + 0j, -31.0847 + 0j, -4.67937 + 0j, -33.6889 + 0j\n",
      "residues: 357.027 + -138.833j, 357.027 + 138.833j, 2107.27 + -190.628j, 2107.27 + 190.628j, 7010.64 + 276.636j, 7010.64 + -276.636j, 552.587 + 0j, -21894.2 + 0j, -2906.53 + 0j, 27321.1 + 0j\n",
      "polynomial coefs: \n",
      "\n"
     ]
    },
    {
     "name": "stderr",
     "output_type": "stream",
     "text": [
      "/Users/goios/Devel/impedancepython/pympedance/Synthesiser.py:1004: RuntimeWarning: divide by zero encountered in true_divide\n",
      "  return (1.+r)/(1.-r)\n",
      "/Users/goios/Devel/impedancepython/pympedance/Synthesiser.py:1004: RuntimeWarning: divide by zero encountered in true_divide\n",
      "  return (1.+r)/(1.-r)\n"
     ]
    },
    {
     "name": "stdout",
     "output_type": "stream",
     "text": [
      "Freq 928.3085230256773\n",
      "Q    9.585224793599197\n",
      "A    (0.003704409237813653+0j)\n",
      "VecFit cost 1573.26\n",
      "Fit cost 87.6903\n",
      "\n",
      "First peak at 1141.855855855856 Hz, fitting from 1.0 up to 4000.0 Hz\n",
      "Init resonances [    0.          7174.49193643 11374.81074849 18190.89696447\n",
      " 23975.76718468]\n",
      "poles: -487.702 + -11353.8j, -487.702 + 11353.8j, -482.088 + -18032.6j, -482.088 + 18032.6j, -241.737 + -7241.45j, -241.737 + 7241.45j, -127.056 + 0j, -30.8735 + 0j, -4.88419 + 0j, -34.3127 + 0j\n",
      "residues: 7488.76 + -28.005j, 7488.76 + 28.005j, 2242.23 + -457.34j, 2242.23 + 457.34j, 948.588 + 40.2801j, 948.588 + -40.2801j, 186.989 + 0j, -4723.06 + 0j, -798.254 + 0j, 6190.9 + 0j\n",
      "polynomial coefs: \n",
      "\n"
     ]
    },
    {
     "name": "stderr",
     "output_type": "stream",
     "text": [
      "/Users/goios/Devel/impedancepython/pympedance/Synthesiser.py:1004: RuntimeWarning: divide by zero encountered in true_divide\n",
      "  return (1.+r)/(1.-r)\n"
     ]
    },
    {
     "name": "stdout",
     "output_type": "stream",
     "text": [
      "Freq 1153.1538744469763\n",
      "Q    14.986263135065137\n",
      "A    (0.0004941339575196696+0j)\n",
      "VecFit cost 651.872\n",
      "Fit cost 224.274\n",
      "\n",
      "First peak at 1161.870870870871 Hz, fitting from 1.0 up to 4000.0 Hz\n",
      "Init resonances [    0.          7300.2499847  14845.73288062 21385.15139041]\n",
      "poles: -608.272 + -21303.8j, -608.272 + 21303.8j, -379.059 + -14843.5j, -379.059 + 14843.5j, -21.0597 + 0j, -3.16753 + 0j, -7.45602 + 0j, -3179.31 + 0j\n",
      "residues: 1992.62 + -2058.37j, 1992.62 + 2058.37j, 943.232 + -862.368j, 943.232 + 862.368j, -144.123 + 0j, 200.145 + 0j, -188.501 + 0j, 710.753 + 0j\n",
      "polynomial coefs: \n",
      "\n"
     ]
    },
    {
     "name": "stderr",
     "output_type": "stream",
     "text": [
      "/Users/goios/Devel/impedancepython/pympedance/Synthesiser.py:1004: RuntimeWarning: divide by zero encountered in true_divide\n",
      "  return (1.+r)/(1.-r)\n"
     ]
    },
    {
     "name": "stdout",
     "output_type": "stream",
     "text": [
      "Failed fitting\n",
      "Freq 2363.1854149648775\n",
      "Q    19.585797297871576\n",
      "A    (0.0001497047688860162+0j)\n",
      "VecFit cost 1141.49\n",
      "Fit cost 919.058\n",
      "\n",
      "First peak at 1165.873873873874 Hz, fitting from 1.0 up to 4000.0 Hz\n",
      "Init resonances [    0.          7325.40159435 15172.7038061  21913.33519313]\n",
      "poles: -3568.2 + -31692.6j, -3568.2 + 31692.6j, -452.331 + -22254.6j, -452.331 + 22254.6j, -383.056 + -15371.8j, -383.056 + 15371.8j, -36.3286 + 0j, -5.24775 + 0j\n",
      "residues: 24067.7 + -2196.85j, 24067.7 + 2196.85j, 346.687 + 194.105j, 346.687 + -194.105j, 263.717 + 52.0765j, 263.717 + -52.0765j, 8.97795 + 0j, 26.7862 + 0j\n",
      "polynomial coefs: \n",
      "\n"
     ]
    },
    {
     "name": "stderr",
     "output_type": "stream",
     "text": [
      "/Users/goios/Devel/impedancepython/pympedance/Synthesiser.py:1004: RuntimeWarning: divide by zero encountered in true_divide\n",
      "  return (1.+r)/(1.-r)\n",
      "/Users/goios/Devel/impedancepython/pympedance/Synthesiser.py:1004: RuntimeWarning: divide by zero encountered in true_divide\n",
      "  return (1.+r)/(1.-r)\n"
     ]
    },
    {
     "name": "stdout",
     "output_type": "stream",
     "text": [
      "Freq 2447.25938939257\n",
      "Q    20.0709320886267\n",
      "A    (5.063326253102004e-05+0j)\n",
      "VecFit cost 17.439\n",
      "Fit cost 16.0687\n",
      "\n"
     ]
    },
    {
     "data": {
      "image/png": "[encoded data removed]",
      "text/plain": [
       "<Figure size 432x288 with 2 Axes>"
      ]
     },
     "metadata": {
      "needs_background": "light"
     },
     "output_type": "display_data"
    }
   ],
   "source": [
    "f = np.linspace(1,4000,1000)\n",
    "\n",
    "ii=1\n",
    "fig, ax = plt.subplots(2)\n",
    "\n",
    "print (tractjs[ii]['headers'])\n",
    "\n",
    "tongue_len = 1.4\n",
    "\n",
    "for rad in [20,10,5,2,1]:\n",
    "    tract = tractjs[ii].copy()\n",
    "    dx = tract['headers']['delta']\n",
    "    n_seg = int(np.round(tongue_len/dx))\n",
    "    \n",
    "    for jj in range(n_seg):\n",
    "        tract['radii'][jj] = pi*(rad/10)**2\n",
    "    \n",
    "    \n",
    "    \n",
    "    duct = get_impedance(tract)\n",
    "    all_poles, all_residues, pcs, vft = get_pole(tractjs[ii],n_poles=4)\n",
    "    z = duct.get_input_impedance_at_freq(f)/duct.char_impedance\n",
    "    lns=ax[0].semilogy(f, np.abs(z))\n",
    "    ax[1].plot(f,np.angle(z),color=lns[0].get_color())\n",
    "    \n",
    "    s = 1j*2*np.pi*f\n",
    "    zvar = s\n",
    "\n",
    "    zf=vft.model(zvar,*vft.recover_args(vft.x0))\n",
    "    \n",
    "    ax[0].semilogy(f,np.abs(zf),color=lns[0].get_color(),ls=':')\n",
    "    ax[1].plot(f,np.angle(zf),color=lns[0].get_color(),ls=':')\n",
    "    \n",
    "    zf=vft.model(zvar,all_poles,all_residues,pcs)\n",
    "    \n",
    "    ax[0].semilogy(f,np.abs(zf),color=lns[0].get_color(),ls='--')\n",
    "    ax[1].plot(f,np.angle(zf),color=lns[0].get_color(),ls='--')\n",
    "    \n",
    "    idxc = np.where(np.imag(all_poles)>1e-3)[0]\n",
    "    idxpole = idxc[np.argmin(np.abs(all_poles[idxc]))]\n",
    "    idxp1 = np.abs(np.abs(all_poles)-np.abs(all_poles[idxpole]))<1e-3\n",
    "    poles = all_poles[idxp1]\n",
    "    residues = all_residues[idxp1]\n",
    "    #poles = all_poles[idxpoles]\n",
    "    \n",
    "    denom = polyadd(polymul([residues[1]],[1,poles[0]]),polymul([residues[0]],[1,poles[1]]))\n",
    "    numer = polymul(*[[1,-pp] for pp in poles])\n",
    "    omega = np.real(np.sqrt(numer[2]))\n",
    "    Q = np.real(omega/numer[1])\n",
    "    #a*omegar**2/q\n",
    "    print(f\"Freq {omega/2/pi}\")\n",
    "    print(f\"Q    {Q}\")\n",
    "    print(f\"A    {denom[0]/omega**2*Q}\")\n",
    "    print(f\"VecFit cost {vft.cost0:g}\")\n",
    "    print(f\"Fit cost {vft.cost:g}\")\n",
    "    print()\n",
    "    #print(f\"Zc   {denom[0]/}\")"
   ]
  },
  {
   "cell_type": "code",
   "execution_count": 939,
   "metadata": {},
   "outputs": [
    {
     "data": {
      "text/plain": [
       "(array([  -36.327175      +0.j        ,    -5.24778457    +0.j        ,\n",
       "        -3568.16505841-31692.60279576j, -3568.16505841+31692.60279576j,\n",
       "         -452.33362693-22254.58025753j,  -452.33362693+22254.58025753j,\n",
       "         -383.05641602-15371.80951952j,  -383.05641602+15371.80951952j]),\n",
       " array([1.17275200e+09+0.00000000e+00j, 3.50036173e+09+0.00000000e+00j,\n",
       "        3.13803781e+12-3.53301272e+11j, 3.13803781e+12+3.53301272e+11j,\n",
       "        5.19062267e+10-1.05501571e+09j, 5.19062267e+10+1.05501571e+09j,\n",
       "        3.51131596e+10-8.74999203e+08j, 3.51131596e+10+8.74999203e+08j]),\n",
       " array([], dtype=float32))"
      ]
     },
     "execution_count": 939,
     "metadata": {},
     "output_type": "execute_result"
    }
   ],
   "source": [
    "vft.recover_args(vft.x0)"
   ]
  },
  {
   "cell_type": "code",
   "execution_count": 940,
   "metadata": {},
   "outputs": [
    {
     "data": {
      "text/plain": [
       "(array([-3568.16505841-31692.60279576j, -3568.16505841+31692.60279576j,\n",
       "         -452.33362693-22254.58025753j,  -452.33362693+22254.58025753j,\n",
       "         -383.05641602-15371.80951952j,  -383.05641602+15371.80951952j,\n",
       "          -36.327175      +0.j        ,    -5.24778457    +0.j        ]),\n",
       " array([3.1447900e+12-2.8705128e+11j, 3.1447900e+12+2.8705128e+11j,\n",
       "        4.5299929e+10+2.5363081e+10j, 4.5299929e+10-2.5363081e+10j,\n",
       "        3.4458644e+10+6.8045056e+09j, 3.4458644e+10-6.8045056e+09j,\n",
       "        1.1727520e+09+0.0000000e+00j, 3.5003617e+09+0.0000000e+00j],\n",
       "       dtype=complex64),\n",
       " array([], dtype=float32))"
      ]
     },
     "execution_count": 940,
     "metadata": {},
     "output_type": "execute_result"
    }
   ],
   "source": [
    "vft.poles0,vft.residues0,vft.poly_coefs0"
   ]
  },
  {
   "cell_type": "code",
   "execution_count": 809,
   "metadata": {},
   "outputs": [
    {
     "data": {
      "text/plain": [
       "array([47570.73630992, 16995.56098776, 15486.79707559, 37624.92238249,\n",
       "        6857.21928986, 30768.06049149,     0.        , 15387.34270003])"
      ]
     },
     "execution_count": 809,
     "metadata": {},
     "output_type": "execute_result"
    }
   ],
   "source": [
    "np.abs(all_poles-all_poles[idxpole])"
   ]
  },
  {
   "cell_type": "code",
   "execution_count": 803,
   "metadata": {},
   "outputs": [
    {
     "data": {
      "text/plain": [
       "array([    0.        ,  6143.27594065, 14694.8232227 , 22542.12543445,\n",
       "       55339.82442205])"
      ]
     },
     "execution_count": 803,
     "metadata": {},
     "output_type": "execute_result"
    }
   ],
   "source": [
    "np.insert(fres,0,0)"
   ]
  },
  {
   "cell_type": "code",
   "execution_count": null,
   "metadata": {},
   "outputs": [],
   "source": []
  }
 ],
 "metadata": {
  "kernelspec": {
   "display_name": "unsw",
   "language": "python",
   "name": "unsw"
  },
  "language_info": {
   "codemirror_mode": {
    "name": "ipython",
    "version": 3
   },
   "file_extension": ".py",
   "mimetype": "text/x-python",
   "name": "python",
   "nbconvert_exporter": "python",
   "pygments_lexer": "ipython3",
   "version": "3.8.5"
  }
 },
 "nbformat": 4,
 "nbformat_minor": 4
}
