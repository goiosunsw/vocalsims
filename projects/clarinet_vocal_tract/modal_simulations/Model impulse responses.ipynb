{
 "cells": [
  {
   "cell_type": "code",
   "execution_count": 199,
   "metadata": {},
   "outputs": [
    {
     "name": "stdout",
     "output_type": "stream",
     "text": [
      "Populating the interactive namespace from numpy and matplotlib\n"
     ]
    },
    {
     "name": "stderr",
     "output_type": "stream",
     "text": [
      "/Users/goios/Envs/unsw/lib/python3.8/site-packages/IPython/core/magics/pylab.py:159: UserWarning: pylab import has clobbered these variables: ['psd', 'mod', 'f', 'csd', 'qr', 'gamma']\n",
      "`%matplotlib` prevents importing * from pylab and numpy\n",
      "  warn(\"pylab import has clobbered these variables: %s\"  % clobbered +\n"
     ]
    }
   ],
   "source": [
    "%pylab inline\n",
    "import instr_vt_poleres as ivp"
   ]
  },
  {
   "cell_type": "code",
   "execution_count": 200,
   "metadata": {},
   "outputs": [],
   "source": [
    "def perturbation(t):\n",
    "    if t<0:\n",
    "        return 0\n",
    "    if t<1:\n",
    "        #return (1-cos(pi*t))/2\n",
    "        return t\n",
    "    return 1\n",
    "\n",
    "\n",
    "gamma = 0.0\n",
    "zeta = .5\n",
    "\n",
    "\n",
    "fr = 1500\n",
    "qr = 5\n",
    "ar = 5\n",
    "\n",
    "fac = np.array([100])\n",
    "qac = np.array([20])\n",
    "aac = np.array([1])\n",
    "\n",
    "fvt = np.array([500])\n",
    "qvt = np.array([5])\n",
    "avt = np.array([.1])\n",
    "\n",
    "nlfunc = ivp.nlstiff_parabolic(x_st=.8,x_ev=1.2)\n",
    "tmax = .3\n",
    "\n",
    "pert_mult = 1.1\n",
    "pert_duration = .0001\n",
    "\n",
    "gamma_lim = gamma*1.1\n",
    "tau = .1\n",
    "gamma_t = lambda t: (1-np.exp(-t/tau))*gamma_lim\n",
    "\n",
    "\n",
    "cs=ivp.croak_poleres(gamma=gamma_t,zeta=zeta,\n",
    "                     fr=fr,qr=1,ar=1,\n",
    "                     f1=fac,q1=qac,a1=aac,\n",
    "                     fv=fvt,qv=qvt,av=avt,\n",
    "                     nlfunc=nlfunc)\n",
    "cs.gamma_vec=[]\n",
    "cs.zeta_vec=[]\n",
    "cs.perturbation_on=False\n",
    "\n",
    "cs.set_tmax(tmax)\n",
    "cs.set_initial_state(x0=0.,v0=0.,p0=0.,dp0=0.)\n",
    "cs.setup_integrator()\n",
    "\n",
    "\n",
    "# while cs.odesol.t <= cs.tmax and not cs.error:\n",
    "#     newt = cs.cur_t+cs.dt\n",
    "#     if cs.gamma(newt)>gamma and not cs.perturbation_on:\n",
    "#         cs.perturbation_on = True\n",
    "#         cs.pert_time = newt\n",
    "#     if cs.perturbation_on:  \n",
    "#         pert_mult_t = 1+(perturbation((newt-cs.pert_time)/pert_duration))*(pert_mult-1)\n",
    "#         cs.gamma = lambda t: gamma*pert_mult_t\n",
    "#         #cs.zeta = zeta*pert_mult_t\n",
    "#     cs.calculate_at_time(newt)\n",
    "#     cs.gamma_vec.append(cs.gamma(newt))\n",
    "#     cs.zeta_vec.append(cs.zeta)\n",
    "\n",
    "# cs.finish_simulation()\n",
    "# cs.gamma_vec=np.array(cs.gamma_vec)\n",
    "# cs.zeta_vec=np.array(cs.zeta_vec)\n",
    "\n"
   ]
  },
  {
   "cell_type": "code",
   "execution_count": 201,
   "metadata": {},
   "outputs": [],
   "source": [
    "from matplotlib.mlab import psd, csd\n",
    "\n",
    "def tfe(x, y, *args, **kwargs):\n",
    "    \"\"\"estimate transfer function from x to y, see csd for calling convention\"\"\"\n",
    "    c,fc = csd(y, x, *args, **kwargs) \n",
    "    p,fp = psd(x, *args, **kwargs)\n",
    "    return c/p,fc\n",
    "\n"
   ]
  },
  {
   "cell_type": "code",
   "execution_count": 223,
   "metadata": {},
   "outputs": [],
   "source": [
    "from scipy.integrate import ode\n",
    "from functools import partial\n",
    "import sympy as sy\n",
    "from sympy.parsing.sympy_parser import parse_expr\n",
    "\n",
    "\n",
    "def odeint(f,y0,t,nsteps=500):\n",
    "    odesol = ode(f=f)\n",
    "    odesol.set_integrator('zvode',nsteps=nsteps)\n",
    "    odesol.set_initial_value(y0,t[0])\n",
    "    \n",
    "    sol = [y0]\n",
    "    for tt in t[1:]:\n",
    "        if odesol.successful():\n",
    "            this_sol = odesol.integrate(tt)\n",
    "            sol.append(this_sol)\n",
    "        else:\n",
    "            sys.stderr.write('!!!!! Integration STOPPED prematurely!\\n')\n",
    "            sys.stderr.write('Return code: %d\\n'%odesol.get_return_code())\n",
    "            break\n",
    "    return np.array(sol)\n",
    "\n",
    "def impulse_responses(cs,t_max=1.0, impulse_duration=None,\n",
    "                      impulse_function=\"(sin((x-x0)*pi/duration))*pi/2/duration\"):\n",
    "\n",
    "    if impulse_duration is None:\n",
    "        impulse_duration = cs.dt/2\n",
    "        \n",
    "    base_expr = parse_expr(impulse_function)\n",
    "\n",
    "    t_start = 0.0\n",
    "    t_end = t_start + impulse_duration\n",
    "\n",
    "\n",
    "    base_expr = base_expr.subs({'duration':impulse_duration,'x0':t_start})\n",
    "    print(sy.N(sy.Integral(base_expr,('x',0,impulse_duration))))\n",
    "\n",
    "    fsy = sy.lambdify('x',base_expr)\n",
    "    \n",
    "    n_total_modes = cs.nmodes + cs.nvtmodes\n",
    "    y0 = np.zeros(n_total_modes,dtype='complex')\n",
    "\n",
    "    def f(t,x):\n",
    "        if t < t_end:\n",
    "            u = fsy(t)\n",
    "        else:\n",
    "            u = 0.0\n",
    "        y = np.zeros(n_total_modes,dtype='complex')\n",
    "        for ii,mode in enumerate(cs.acmode+cs.vtmode):\n",
    "            y[ii] = mode.calc_dp(u,x[ii]) \n",
    "        return y\n",
    "        \n",
    "    \n",
    "    y1 = y0\n",
    "    t1 = np.linspace(t_start,t_end,100)\n",
    "    sol1 = odeint(f,y1,t1)\n",
    "    force1 = fsy(t1)\n",
    "    #idt = np.median(np.mean(np.diff(t1)))\n",
    "    idt=cs.dt\n",
    "\n",
    "    y2 = sol1[-1]\n",
    "\n",
    "    t2 = np.arange(t_end,t_max,cs.dt)\n",
    "    sol2 = odeint(f, y2, t2)\n",
    "    force2 = np.zeros(t2.shape)\n",
    "\n",
    "    t = np.concatenate((t1,t2))\n",
    "    y = np.concatenate((sol1,sol2))\n",
    "    force = np.concatenate((force1,force2))\n",
    "\n",
    "    t_out = np.arange(0,t_max,idt)\n",
    "    y_out = []\n",
    "    f_out = []\n",
    "    for ii in range(y.shape[1]):\n",
    "        yi = y[:,ii]\n",
    "        y_out.append(np.interp(t_out,t,2*np.real(yi)))\n",
    "        fi = force\n",
    "        f_out = np.interp(t_out,t,fi)\n",
    "    return np.vstack(y_out).T, f_out, 1/idt, \n",
    "\n",
    "def impedances(cs, t_max=1.0, impulse_duration=None,\n",
    "                impulse_function=\"(sin((x-x0)*pi/duration))*pi/2/duration\"):\n",
    "    y_ir, force, sr = impulse_responses(cs, t_max=t_max, \n",
    "                             impulse_duration=impulse_duration, \n",
    "                             impulse_function=impulse_function)\n",
    "    fy = np.fft.fft(y,axis=0)\n",
    "    fx = np.fft.fft(x)\n",
    "    return fy/np.tile(fx[:,np.newaxis],(1,fy.shape[2])), np.arange(len(fx))/len(fx)*sr"
   ]
  },
  {
   "cell_type": "code",
   "execution_count": 224,
   "metadata": {},
   "outputs": [
    {
     "name": "stdout",
     "output_type": "stream",
     "text": [
      "1.00000000000000\n"
     ]
    }
   ],
   "source": [
    "y,f,sr=impulse_responses(cs,impulse_duration=.0000001)"
   ]
  },
  {
   "cell_type": "code",
   "execution_count": 225,
   "metadata": {},
   "outputs": [
    {
     "data": {
      "text/plain": [
       "150000"
      ]
     },
     "execution_count": 225,
     "metadata": {},
     "output_type": "execute_result"
    }
   ],
   "source": [
    "len(y)"
   ]
  },
  {
   "cell_type": "code",
   "execution_count": 226,
   "metadata": {},
   "outputs": [
    {
     "data": {
      "text/plain": [
       "(0.0, 100.0)"
      ]
     },
     "execution_count": 226,
     "metadata": {},
     "output_type": "execute_result"
    },
    {
     "data": {
      "image/png": "[encoded data removed]",
      "text/plain": [
       "<Figure size 432x288 with 1 Axes>"
      ]
     },
     "metadata": {
      "needs_background": "light"
     },
     "output_type": "display_data"
    }
   ],
   "source": [
    "figure()\n",
    "plot(y)\n",
    "plot(f)\n",
    "xlim(0,100)"
   ]
  },
  {
   "cell_type": "code",
   "execution_count": 227,
   "metadata": {},
   "outputs": [
    {
     "data": {
      "text/plain": [
       "(0.0, 2000.0)"
      ]
     },
     "execution_count": 227,
     "metadata": {},
     "output_type": "execute_result"
    },
    {
     "data": {
      "image/png": "[encoded data removed]",
      "text/plain": [
       "<Figure size 432x288 with 2 Axes>"
      ]
     },
     "metadata": {
      "needs_background": "light"
     },
     "output_type": "display_data"
    }
   ],
   "source": [
    "fig,ax = plt.subplots(2,sharex=True)\n",
    "f=np.arange(0,y.shape[0])/y.shape[0]*sr\n",
    "ax[0].plot(f,np.abs(20*np.log10(fft.fft(y,axis=0))))\n",
    "ax[1].plot(f,np.angle(fft.fft(y,axis=0)))\n",
    "xlim(0,2000)"
   ]
  },
  {
   "cell_type": "code",
   "execution_count": 228,
   "metadata": {},
   "outputs": [],
   "source": [
    "fz=np.linspace(0,2000,1000)\n",
    "jomega = 1j*2*pi*fz"
   ]
  },
  {
   "cell_type": "code",
   "execution_count": 229,
   "metadata": {},
   "outputs": [
    {
     "data": {
      "text/plain": [
       "(0.0, 1000.0)"
      ]
     },
     "execution_count": 229,
     "metadata": {},
     "output_type": "execute_result"
    },
    {
     "data": {
      "image/png": "[encoded data removed]",
      "text/plain": [
       "<Figure size 432x288 with 1 Axes>"
      ]
     },
     "metadata": {
      "needs_background": "light"
     },
     "output_type": "display_data"
    }
   ],
   "source": [
    "fy=np.fft.fft(y,axis=0)/y.shape[0]\n",
    "semilogy(np.abs(fy))\n",
    "mod=cs.acmode[0]\n",
    "zbn = (mod.c/(mod.s-jomega))\n",
    "zbc = (mod.c.conj()/(mod.s.conj()-jomega))\n",
    "zb=zbc+zbn\n",
    "mod=cs.vtmode[0]\n",
    "zvn = (mod.c/(mod.s-jomega))\n",
    "zvc = (mod.c.conj()/(mod.s.conj()-jomega))\n",
    "zv=zvc+zvn\n",
    "semilogy(fz,np.abs(zb))\n",
    "semilogy(fz,np.abs(zv))\n",
    "\n",
    "xlim(0,1000)"
   ]
  },
  {
   "cell_type": "code",
   "execution_count": 230,
   "metadata": {},
   "outputs": [
    {
     "data": {
      "text/plain": [
       "(0.0, 1000.0)"
      ]
     },
     "execution_count": 230,
     "metadata": {},
     "output_type": "execute_result"
    },
    {
     "data": {
      "image/png": "[encoded data removed]",
      "text/plain": [
       "<Figure size 432x288 with 1 Axes>"
      ]
     },
     "metadata": {
      "needs_background": "light"
     },
     "output_type": "display_data"
    }
   ],
   "source": [
    "fy=np.fft.fft(y,axis=0)/y.shape[0]\n",
    "semilogy(np.abs(fy))\n",
    "mod=cs.acmode[0]\n",
    "zbn = (mod.c/(mod.s-jomega))\n",
    "zbc = (mod.c.conj()/(mod.s.conj()-jomega))\n",
    "zb=zbc+zbn\n",
    "mod=cs.vtmode[0]\n",
    "zvn = (mod.c/(mod.s-jomega))\n",
    "zvc = (mod.c.conj()/(mod.s.conj()-jomega))\n",
    "zv=zvc+zvn\n",
    "semilogy(fz,np.abs(zb/zv))\n",
    "semilogy(fz,np.abs(zb+zv))\n",
    "\n",
    "semilogy(np.abs(fy[:,0]/fy[:,1]))\n",
    "semilogy(np.abs(fy[:,0]+fy[:,1]))\n",
    "xlim(0,1000)"
   ]
  },
  {
   "cell_type": "code",
   "execution_count": 231,
   "metadata": {},
   "outputs": [
    {
     "name": "stdout",
     "output_type": "stream",
     "text": [
      "(-15.707963267948962+628.1221504879022j)\n",
      "[31.41592654+0.j  0.        +0.j]\n",
      "31.415926535897935\n",
      "(15.707963267948964+0.39282185771601147j) (-15.707963267948967+628.1221504879024j)\n",
      "(-314.15926535897927+3125.845222828293j)\n",
      "[ 6.28318531e+01+0.j -3.63797881e-12+0.j]\n",
      "62.83185307179586\n",
      "(31.415926535897928+3.1574194169982763j) (-314.1592653589793+3125.8452228282936j)\n"
     ]
    },
    {
     "name": "stderr",
     "output_type": "stream",
     "text": [
      "<ipython-input-231-6c81e8a9c11b>:14: RuntimeWarning: invalid value encountered in true_divide\n",
      "  semilogy(fz,np.abs(zb2/zv2))\n"
     ]
    },
    {
     "data": {
      "text/plain": [
       "(0.0, 1000.0)"
      ]
     },
     "execution_count": 231,
     "metadata": {},
     "output_type": "execute_result"
    },
    {
     "data": {
      "image/png": "[encoded data removed]",
      "text/plain": [
       "<Figure size 432x288 with 1 Axes>"
      ]
     },
     "metadata": {
      "needs_background": "light"
     },
     "output_type": "display_data"
    }
   ],
   "source": [
    "figure()\n",
    "semilogy(fz,np.abs(zb/zv))\n",
    "mod=cs.acmode[0]\n",
    "omegar = 2*np.pi*mod.f\n",
    "zb2 = omegar*(mod.a)/mod.q*jomega**1/(jomega**2+jomega*omegar/mod.q+omegar**2)\n",
    "print(np.roots([1,omegar/mod.q,omegar**2])[0])\n",
    "print(polymul([mod.c],[1,-mod.s.conj()])+polymul([mod.c.conj()],[1,-mod.s]))\n",
    "print(omegar*(mod.a/mod.q))\n",
    "\n",
    "print(mod.c,mod.s)\n",
    "mod=cs.vtmode[0]\n",
    "omegar = 2*np.pi*mod.f\n",
    "zv2 = omegar*(mod.a)/mod.q*jomega**1/(jomega**2+jomega*omegar/mod.q+omegar**2)\n",
    "semilogy(fz,np.abs(zb2/zv2))\n",
    "print(np.roots([1,omegar/mod.q,omegar**2])[0])\n",
    "print(polymul([mod.c],[1,-mod.s.conj()])+polymul([mod.c.conj()],[1,-mod.s]))\n",
    "print(omegar*(mod.a/mod.q))\n",
    "\n",
    "print(mod.c,mod.s)\n",
    "\n",
    "semilogy(np.abs(fy[:,0]/fy[:,1]))\n",
    "xlim(0,1000)"
   ]
  },
  {
   "cell_type": "code",
   "execution_count": 232,
   "metadata": {},
   "outputs": [
    {
     "name": "stdout",
     "output_type": "stream",
     "text": [
      "(array([62.83185307+0.j]), array([-19739.20880218+196402.64776592j]))\n",
      "(array([62.83185307+0.j]), array([-19739.20880218-196402.64776592j]))\n"
     ]
    }
   ],
   "source": [
    "print(polydiv([omegar*(mod.a/mod.q),0],[1,-mod.s]))\n",
    "print(polydiv([omegar*(mod.a/mod.q),0],[1,-mod.s.conj()]))\n"
   ]
  },
  {
   "cell_type": "code",
   "execution_count": 233,
   "metadata": {},
   "outputs": [
    {
     "data": {
      "image/png": "[encoded data removed]",
      "text/plain": [
       "<Figure size 432x288 with 2 Axes>"
      ]
     },
     "metadata": {
      "needs_background": "light"
     },
     "output_type": "display_data"
    }
   ],
   "source": [
    "fig,ax=subplots(2,sharex=True)\n",
    "for z in [zb,zb2,zv,zv2]:\n",
    "    ax[0].semilogy(fz,np.abs(z))\n",
    "    ax[1].plot(fz,np.angle(z))"
   ]
  },
  {
   "cell_type": "code",
   "execution_count": null,
   "metadata": {},
   "outputs": [],
   "source": []
  },
  {
   "cell_type": "code",
   "execution_count": 213,
   "metadata": {},
   "outputs": [
    {
     "data": {
      "text/plain": [
       "array([    62.83185307+0.j, -39478.41760436+0.j])"
      ]
     },
     "execution_count": 213,
     "metadata": {},
     "output_type": "execute_result"
    }
   ],
   "source": [
    "polyadd(polymul([mod.c.conj()],[1,mod.s.conj()]),polymul([mod.c],[1,mod.s]))"
   ]
  },
  {
   "cell_type": "code",
   "execution_count": 214,
   "metadata": {},
   "outputs": [
    {
     "data": {
      "text/plain": [
       "array([1.00000000e+00+0.j, 6.28318531e+02+0.j, 9.86960440e+06+0.j])"
      ]
     },
     "execution_count": 214,
     "metadata": {},
     "output_type": "execute_result"
    }
   ],
   "source": [
    "polymul([1,-mod.s],[1,-mod.s.conj()])"
   ]
  },
  {
   "cell_type": "code",
   "execution_count": 215,
   "metadata": {},
   "outputs": [
    {
     "data": {
      "text/plain": [
       "62.831853071795855"
      ]
     },
     "execution_count": 215,
     "metadata": {},
     "output_type": "execute_result"
    }
   ],
   "source": [
    "mod.w/mod.q*mod.a"
   ]
  },
  {
   "cell_type": "code",
   "execution_count": 216,
   "metadata": {},
   "outputs": [
    {
     "data": {
      "text/plain": [
       "9869604.401089357"
      ]
     },
     "execution_count": 216,
     "metadata": {},
     "output_type": "execute_result"
    }
   ],
   "source": [
    "mod.w**2"
   ]
  },
  {
   "cell_type": "code",
   "execution_count": 217,
   "metadata": {},
   "outputs": [
    {
     "data": {
      "text/plain": [
       "array([       0.        +0.j, 88826439.60980423+0.j])"
      ]
     },
     "execution_count": 217,
     "metadata": {},
     "output_type": "execute_result"
    }
   ],
   "source": [
    "polyadd(polymul([cs.cr.conj()],[1,cs.sr.conj()]),polymul([cs.cr],[1,cs.sr]))"
   ]
  },
  {
   "cell_type": "code",
   "execution_count": 218,
   "metadata": {},
   "outputs": [
    {
     "data": {
      "text/plain": [
       "array([1.00000000e+00+0.j, 9.42477796e+03+0.j, 8.88264396e+07+0.j])"
      ]
     },
     "execution_count": 218,
     "metadata": {},
     "output_type": "execute_result"
    }
   ],
   "source": [
    "polymul([1,-cs.sr],[1,-cs.sr.conj()])"
   ]
  },
  {
   "cell_type": "code",
   "execution_count": null,
   "metadata": {},
   "outputs": [],
   "source": [
    "sy.solve(dzexpr,w)"
   ]
  },
  {
   "cell_type": "code",
   "execution_count": null,
   "metadata": {},
   "outputs": [],
   "source": [
    "sy.nsolve(dzexpr,w,10,verify=False)"
   ]
  },
  {
   "cell_type": "code",
   "execution_count": null,
   "metadata": {},
   "outputs": [],
   "source": [
    "sy.plot(dzexpr,(w,50,300))"
   ]
  },
  {
   "cell_type": "code",
   "execution_count": null,
   "metadata": {},
   "outputs": [],
   "source": [
    "def f(x,f=100,q=10,a=1):\n",
    "    omegar=2*pi*f\n",
    "    s = 1j*x*2*pi\n",
    "    fs = (a*omegar*q)**2*s**1/(s**2+s*omegar/q+omegar**2)\n",
    "    return(np.abs(fs))\n",
    "\n",
    "from scipy.optimize import fmin\n",
    "\n",
    "fsrch = lambda x: -f(x,f=100)-f(x,f=200,q=10,a=.1)\n",
    "\n",
    "xmax=fmin(fsrch ,300)\n",
    "print(xmax)\n",
    "semilogy(-fsrch(np.linspace(0,1000,1000)))\n",
    "axvline(xmax)"
   ]
  },
  {
   "cell_type": "code",
   "execution_count": null,
   "metadata": {},
   "outputs": [],
   "source": [
    "from scipy.optimize import minimize_scalar\n",
    "minimize_scalar(fsrch,bounds=(0,200))"
   ]
  },
  {
   "cell_type": "code",
   "execution_count": null,
   "metadata": {},
   "outputs": [],
   "source": [
    "minimize_scalar(fsrch,bounds=(100,300))"
   ]
  },
  {
   "cell_type": "code",
   "execution_count": null,
   "metadata": {},
   "outputs": [],
   "source": [
    "from scipy.signal import find_peaks, find_peaks_cwt\n",
    "find_peaks(-fsrch(np.linspace(0,1000,1000)),width=0)"
   ]
  },
  {
   "cell_type": "code",
   "execution_count": null,
   "metadata": {},
   "outputs": [],
   "source": [
    "find_peaks?"
   ]
  },
  {
   "cell_type": "code",
   "execution_count": null,
   "metadata": {},
   "outputs": [],
   "source": [
    "fmin(fsrch,192)"
   ]
  },
  {
   "cell_type": "code",
   "execution_count": null,
   "metadata": {},
   "outputs": [],
   "source": [
    "plot(diff(diff(fsrch(np.linspace(0,1000,1000)))))"
   ]
  },
  {
   "cell_type": "code",
   "execution_count": null,
   "metadata": {},
   "outputs": [],
   "source": []
  }
 ],
 "metadata": {
  "kernelspec": {
   "display_name": "unsw",
   "language": "python",
   "name": "unsw"
  },
  "language_info": {
   "codemirror_mode": {
    "name": "ipython",
    "version": 3
   },
   "file_extension": ".py",
   "mimetype": "text/x-python",
   "name": "python",
   "nbconvert_exporter": "python",
   "pygments_lexer": "ipython3",
   "version": "3.8.5"
  }
 },
 "nbformat": 4,
 "nbformat_minor": 4
}
