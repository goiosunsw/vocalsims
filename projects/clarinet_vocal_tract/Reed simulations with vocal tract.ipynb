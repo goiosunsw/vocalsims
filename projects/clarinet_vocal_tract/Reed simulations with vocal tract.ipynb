{
 "cells": [
  {
   "cell_type": "code",
   "execution_count": 5,
   "metadata": {},
   "outputs": [
    {
     "name": "stdout",
     "output_type": "stream",
     "text": [
      "Populating the interactive namespace from numpy and matplotlib\n"
     ]
    },
    {
     "name": "stderr",
     "output_type": "stream",
     "text": [
      "/Users/goios/Envs/unsw/lib/python3.7/site-packages/IPython/core/magics/pylab.py:160: UserWarning: pylab import has clobbered these variables: ['f']\n",
      "`%matplotlib` prevents importing * from pylab and numpy\n",
      "  \"\\n`%matplotlib` prevents importing * from pylab and numpy\"\n"
     ]
    }
   ],
   "source": [
    "%pylab widget\n",
    "from copy import deepcopy\n",
    "from reed_up_downstream_dyn import ReedSimulation, calc_fixed_point\n",
    "from json_object import JSONObject\n",
    "from pypevoc.PVAnalysis import PV"
   ]
  },
  {
   "cell_type": "code",
   "execution_count": 6,
   "metadata": {},
   "outputs": [
    {
     "data": {
      "text/plain": [
       "{'description': 'Reed simulation with vocal tract and reed dynamics',\n",
       " 'version': '20200311',\n",
       " 'simulation': {'sample rate': 48000, 'duration': 0.4, 'callback every': 1024},\n",
       " 'environment': {'acoustic': {'_prefer': True,\n",
       "   'speed of sound': 346.7492013525034,\n",
       "   'density': 1.2,\n",
       "   'viscosity': 1.884e-05},\n",
       "  'physical': {'atmospheric pressure': 101500,\n",
       "   'temperature': 36.5,\n",
       "   'humidity': 100},\n",
       "  'blowing pressure': {'_comment': \"blowing pressure is 'value' from start if ramp not enabled\",\n",
       "   'value': 2200,\n",
       "   'ramp duration': 0.1,\n",
       "   '_choices_ramp_type': ['linear', 'exponential'],\n",
       "   'ramp type': 'exponential',\n",
       "   'ramp enabled': True},\n",
       "  'reed': {'_comment': \"reed moves instantaneously if 'dynamic' is false, that means res. freq and q are not taken into account\",\n",
       "   'stiffness': 500000000.0,\n",
       "   'resonance frequency': 1500,\n",
       "   'quality factor': 1.5,\n",
       "   'rest opening': 1e-05,\n",
       "   'dynamic': True},\n",
       "  'noise': {'enabled': False, 'type': 'white', 'scale': 0.005},\n",
       "  'frequency dependent losses': True,\n",
       "  'vocal tract enabled': True},\n",
       " 'perturbation': {'_comment': 'if blowing pressure is defined, then ramp stops when value is acheived and perturbation is triggered',\n",
       "  'factor': 1.01,\n",
       "  'time': 1.002,\n",
       "  'blowing pressure': 2100,\n",
       "  '_choices_variable': ['reed rest opening', 'blowing pressure'],\n",
       "  'variable': 'reed rest opening'},\n",
       " 'tracts': {'vocal': {'description': 'narrow tongue',\n",
       "   'frequency independent losses': 0.05,\n",
       "   'elements': [{'type': 'cylinder',\n",
       "     'length': 0.17,\n",
       "     'radius': 0.015,\n",
       "     'loss multiplier': 5},\n",
       "    {'type': 'termination', 'kind': 'open'}]},\n",
       "  'bore': {'description': 'single clarinet-like cylinder',\n",
       "   'frequency independent losses': 0.01,\n",
       "   'elements': [{'type': 'cylinder',\n",
       "     'length': 0.49,\n",
       "     'radius': 0.0075,\n",
       "     'loss multiplier': 1},\n",
       "    {'type': 'termination', 'kind': 'open'}]}}}"
      ]
     },
     "execution_count": 6,
     "metadata": {},
     "output_type": "execute_result"
    }
   ],
   "source": [
    "with open('reed_simulation_dyn.json') as f:\n",
    "    js = JSONObject(f)\n",
    "   \n",
    "js['environment/blowing pressure/value']=2200\n",
    "#js['environment/perturbation time']=0.01\n",
    "js['simulation/duration']=.4\n",
    "# js['tracts/vocal/frequency independent losses']=0.1\n",
    "# js['tracts/vocal/elements/0/length']=0.15\n",
    "# js['tracts/vocal/elements/0/radius']=0.015\n",
    "# js['tracts/vocal/elements/0/loss multiplier']=5\n",
    "js['environment/frequency dependent losses']=True\n",
    "js['environment/vocal tract enabled']=True\n",
    "js['environment/reed/dynamic']=True\n",
    "js['environment/reed/quality factor']=1.5\n",
    "js['environment/reed/resonance frequency']=1500\n",
    "\n",
    "js.to_python()\n",
    "\n"
   ]
  },
  {
   "cell_type": "code",
   "execution_count": 1,
   "metadata": {},
   "outputs": [],
   "source": [
    "def imp_resp(js, nfft=1024):\n",
    "    sim = ReedSimulation()\n",
    "    sim.from_json(js)\n",
    "    impresp = sim.tracts['bore'].impulse_response(n=nfft)\n",
    "    impresp_vt = sim.tracts['vocal'].impulse_response(n=nfft)\n",
    "    return impresp, impresp_vt\n"
   ]
  },
  {
   "cell_type": "code",
   "execution_count": 3,
   "metadata": {},
   "outputs": [
    {
     "ename": "NameError",
     "evalue": "name 'js' is not defined",
     "output_type": "error",
     "traceback": [
      "\u001b[0;31m---------------------------------------------------------------------------\u001b[0m",
      "\u001b[0;31mNameError\u001b[0m                                 Traceback (most recent call last)",
      "\u001b[0;32m<ipython-input-3-7c5a5fd92484>\u001b[0m in \u001b[0;36m<module>\u001b[0;34m\u001b[0m\n\u001b[0;32m----> 1\u001b[0;31m \u001b[0mimpresp\u001b[0m\u001b[0;34m,\u001b[0m \u001b[0mimpresp_vt\u001b[0m \u001b[0;34m=\u001b[0m \u001b[0mimp_resp\u001b[0m\u001b[0;34m(\u001b[0m\u001b[0mjs\u001b[0m\u001b[0;34m)\u001b[0m\u001b[0;34m\u001b[0m\u001b[0;34m\u001b[0m\u001b[0m\n\u001b[0m\u001b[1;32m      2\u001b[0m \u001b[0mf\u001b[0m \u001b[0;34m=\u001b[0m \u001b[0mnp\u001b[0m\u001b[0;34m.\u001b[0m\u001b[0marange\u001b[0m\u001b[0;34m(\u001b[0m\u001b[0mlen\u001b[0m\u001b[0;34m(\u001b[0m\u001b[0mimpresp_vt\u001b[0m\u001b[0;34m)\u001b[0m\u001b[0;34m)\u001b[0m\u001b[0;34m/\u001b[0m\u001b[0mlen\u001b[0m\u001b[0;34m(\u001b[0m\u001b[0mimpresp_vt\u001b[0m\u001b[0;34m)\u001b[0m\u001b[0;34m*\u001b[0m\u001b[0msr\u001b[0m\u001b[0;34m\u001b[0m\u001b[0;34m\u001b[0m\u001b[0m\n\u001b[1;32m      3\u001b[0m \u001b[0;34m\u001b[0m\u001b[0m\n\u001b[1;32m      4\u001b[0m \u001b[0mrf\u001b[0m\u001b[0;34m=\u001b[0m\u001b[0mnp\u001b[0m\u001b[0;34m.\u001b[0m\u001b[0mfft\u001b[0m\u001b[0;34m.\u001b[0m\u001b[0mfft\u001b[0m\u001b[0;34m(\u001b[0m\u001b[0mimpresp_vt\u001b[0m\u001b[0;34m,\u001b[0m\u001b[0mn\u001b[0m\u001b[0;34m=\u001b[0m\u001b[0mnzfft\u001b[0m\u001b[0;34m)\u001b[0m\u001b[0;34m\u001b[0m\u001b[0;34m\u001b[0m\u001b[0m\n\u001b[1;32m      5\u001b[0m \u001b[0mz_vt\u001b[0m\u001b[0;34m=\u001b[0m\u001b[0;34m(\u001b[0m\u001b[0;36m1\u001b[0m\u001b[0;34m+\u001b[0m\u001b[0mrf\u001b[0m\u001b[0;34m)\u001b[0m\u001b[0;34m/\u001b[0m\u001b[0;34m(\u001b[0m\u001b[0;36m1\u001b[0m\u001b[0;34m-\u001b[0m\u001b[0mrf\u001b[0m\u001b[0;34m)\u001b[0m\u001b[0;34m*\u001b[0m\u001b[0mpckl\u001b[0m\u001b[0;34m[\u001b[0m\u001b[0;34m'zch_vt'\u001b[0m\u001b[0;34m]\u001b[0m\u001b[0;34m\u001b[0m\u001b[0;34m\u001b[0m\u001b[0m\n",
      "\u001b[0;31mNameError\u001b[0m: name 'js' is not defined"
     ]
    }
   ],
   "source": [
    "impresp, impresp_vt = imp_resp(js)\n",
    "f = np.arange(len(impresp_vt))/len(impresp_vt)*sr\n",
    "\n",
    "rf=np.fft.fft(impresp_vt,n=nzfft)\n",
    "z_vt=(1+rf)/(1-rf)*pckl['zch_vt']\n",
    "\n",
    "f = np.arange(len(impresp_b))/len(impresp_b)*sr\n",
    "\n",
    "rf=np.fft.fft(impresp_b,n=nzfft)\n",
    "z_b=(1+rf)/(1-rf)*pckl['zch_b']\n",
    "\n",
    "\n",
    "fig,ax = subplots(2,sharex=True)\n",
    "ax[0].semilogy(np.abs(z_b))\n",
    "ax[1].plot(np.angle(z_b))\n",
    "ax[0].semilogy(np.abs(z_vt))\n",
    "ax[1].plot(np.angle(z_vt))"
   ]
  },
  {
   "cell_type": "code",
   "execution_count": 10,
   "metadata": {},
   "outputs": [],
   "source": [
    "sim = ReedSimulation()\n",
    "sim.from_json(js)"
   ]
  },
  {
   "cell_type": "code",
   "execution_count": 11,
   "metadata": {},
   "outputs": [
    {
     "name": "stdout",
     "output_type": "stream",
     "text": [
      "applied perturbation at sample 97\n"
     ]
    }
   ],
   "source": [
    "sim.simulate()"
   ]
  },
  {
   "cell_type": "code",
   "execution_count": 12,
   "metadata": {},
   "outputs": [],
   "source": [
    "p_b = sim.p_in + sim.p_out;\n",
    "p_vt = sim.p_vt_in + sim.p_vt_out;\n",
    "\n",
    "u = (sim.p_out - sim.p_in)/sim.zc_b;\n",
    "u_sg = -(sim.p_vt_out - sim.p_vt_in)/sim.zc_vt\n",
    "\n",
    "a = sim.a"
   ]
  },
  {
   "cell_type": "code",
   "execution_count": 13,
   "metadata": {},
   "outputs": [
    {
     "data": {
      "application/vnd.jupyter.widget-view+json": {
       "model_id": "9028ab7cec38444185cbf30afc7cfe8f",
       "version_major": 2,
       "version_minor": 0
      },
      "text/plain": [
       "Canvas(toolbar=Toolbar(toolitems=[('Home', 'Reset original view', 'home', 'home'), ('Back', 'Back to previous …"
      ]
     },
     "metadata": {},
     "output_type": "display_data"
    },
    {
     "data": {
      "text/plain": [
       "[<matplotlib.lines.Line2D at 0x7f480d0d27d0>]"
      ]
     },
     "execution_count": 13,
     "metadata": {},
     "output_type": "execute_result"
    }
   ],
   "source": [
    "figure()\n",
    "plot(p_b)\n",
    "plot(sim.p_blow+p_vt)"
   ]
  },
  {
   "cell_type": "code",
   "execution_count": null,
   "metadata": {},
   "outputs": [],
   "source": []
  },
  {
   "cell_type": "code",
   "execution_count": 119,
   "metadata": {},
   "outputs": [
    {
     "data": {
      "application/vnd.jupyter.widget-view+json": {
       "model_id": "f6c42f37d31d42a6b1337ac24738630c",
       "version_major": 2,
       "version_minor": 0
      },
      "text/plain": [
       "VBox(children=(HTML(value=''), IntProgress(value=1, bar_style='info')))"
      ]
     },
     "metadata": {},
     "output_type": "display_data"
    },
    {
     "name": "stderr",
     "output_type": "stream",
     "text": [
      "/Users/goios/Devel/pypevoc/pypevoc/PVAnalysis.py:171: RuntimeWarning: divide by zero encountered in true_divide\n",
      "  frat = fx / self.oldfft\n",
      "/Users/goios/Devel/pypevoc/pypevoc/PVAnalysis.py:171: RuntimeWarning: invalid value encountered in true_divide\n",
      "  frat = fx / self.oldfft\n"
     ]
    },
    {
     "data": {
      "application/vnd.jupyter.widget-view+json": {
       "model_id": "",
       "version_major": 2,
       "version_minor": 0
      },
      "text/plain": [
       "FigureCanvasNbAgg()"
      ]
     },
     "metadata": {},
     "output_type": "display_data"
    },
    {
     "name": "stderr",
     "output_type": "stream",
     "text": [
      "/Users/goios/Devel/pypevoc/pypevoc/PVAnalysis.py:335: RuntimeWarning: divide by zero encountered in log10\n",
      "  mag = 20*np.log10(self.mag)\n"
     ]
    },
    {
     "data": {
      "text/plain": [
       "(0, 1000)"
      ]
     },
     "execution_count": 119,
     "metadata": {},
     "output_type": "execute_result"
    },
    {
     "data": {
      "image/png": "[encoded data removed]",
      "text/plain": [
       "<Figure size 432x288 with 1 Axes>"
      ]
     },
     "metadata": {
      "needs_background": "light"
     },
     "output_type": "display_data"
    }
   ],
   "source": [
    "pv = PV(p_b,sr=sim.sr,nfft=512*2,hop=128)\n",
    "pv.run_pv()\n",
    "pv.plot_time_freq()\n",
    "ylim(0,1000)"
   ]
  },
  {
   "cell_type": "code",
   "execution_count": 120,
   "metadata": {},
   "outputs": [
    {
     "data": {
      "application/vnd.jupyter.widget-view+json": {
       "model_id": "",
       "version_major": 2,
       "version_minor": 0
      },
      "text/plain": [
       "FigureCanvasNbAgg()"
      ]
     },
     "metadata": {},
     "output_type": "display_data"
    },
    {
     "data": {
      "text/plain": [
       "[<matplotlib.lines.Line2D at 0x12a09dd90>,\n",
       " <matplotlib.lines.Line2D at 0x12931d490>,\n",
       " <matplotlib.lines.Line2D at 0x12931d310>]"
      ]
     },
     "execution_count": 120,
     "metadata": {},
     "output_type": "execute_result"
    },
    {
     "data": {
      "image/png": "[encoded data removed]",
      "text/plain": [
       "<Figure size 432x288 with 1 Axes>"
      ]
     },
     "metadata": {
      "needs_background": "light"
     },
     "output_type": "display_data"
    }
   ],
   "source": [
    "figure()\n",
    "\n",
    "semilogy(pv.t,pv.mag[:,:3])"
   ]
  },
  {
   "cell_type": "code",
   "execution_count": 122,
   "metadata": {},
   "outputs": [
    {
     "data": {
      "application/vnd.jupyter.widget-view+json": {
       "model_id": "c45fead718cf46d1a18d3adacf55b983",
       "version_major": 2,
       "version_minor": 0
      },
      "text/plain": [
       "VBox(children=(HTML(value=''), IntProgress(value=1, bar_style='info')))"
      ]
     },
     "metadata": {},
     "output_type": "display_data"
    },
    {
     "name": "stderr",
     "output_type": "stream",
     "text": [
      "/Users/goios/Devel/pypevoc/pypevoc/PVAnalysis.py:171: RuntimeWarning: divide by zero encountered in true_divide\n",
      "  frat = fx / self.oldfft\n",
      "/Users/goios/Devel/pypevoc/pypevoc/PVAnalysis.py:171: RuntimeWarning: invalid value encountered in true_divide\n",
      "  frat = fx / self.oldfft\n"
     ]
    },
    {
     "data": {
      "application/vnd.jupyter.widget-view+json": {
       "model_id": "",
       "version_major": 2,
       "version_minor": 0
      },
      "text/plain": [
       "FigureCanvasNbAgg()"
      ]
     },
     "metadata": {},
     "output_type": "display_data"
    },
    {
     "name": "stderr",
     "output_type": "stream",
     "text": [
      "/Users/goios/Devel/pypevoc/pypevoc/PVAnalysis.py:335: RuntimeWarning: divide by zero encountered in log10\n",
      "  mag = 20*np.log10(self.mag)\n"
     ]
    },
    {
     "data": {
      "text/plain": [
       "(0, 1000)"
      ]
     },
     "execution_count": 122,
     "metadata": {},
     "output_type": "execute_result"
    },
    {
     "data": {
      "image/png": "[encoded data removed]",
      "text/plain": [
       "<Figure size 432x288 with 1 Axes>"
      ]
     },
     "metadata": {
      "needs_background": "light"
     },
     "output_type": "display_data"
    }
   ],
   "source": [
    "pv = PV(p_vt,sr=sim.sr,nfft=512*4,hop=128,pkthresh=1e-9,npks=100)\n",
    "pv.run_pv()\n",
    "pv.plot_time_freq()\n",
    "ylim(0,1000)"
   ]
  },
  {
   "cell_type": "code",
   "execution_count": 111,
   "metadata": {},
   "outputs": [
    {
     "data": {
      "text/plain": [
       "(0, 1000)"
      ]
     },
     "execution_count": 111,
     "metadata": {},
     "output_type": "execute_result"
    },
    {
     "data": {
      "image/png": "[encoded data removed]",
      "text/plain": [
       "<Figure size 432x288 with 1 Axes>"
      ]
     },
     "metadata": {
      "needs_background": "light"
     },
     "output_type": "display_data"
    }
   ],
   "source": [
    "figure()\n",
    "specgram(p_vt,Fs=sim.sr,NFFT=2**10);\n",
    "ylim(0,1000)"
   ]
  },
  {
   "cell_type": "code",
   "execution_count": 123,
   "metadata": {},
   "outputs": [
    {
     "name": "stdout",
     "output_type": "stream",
     "text": [
      "['vocal', 'description'] single wide pipe\n",
      "['vocal', 'frequency independent losses'] 0.3\n",
      "['vocal', 'elements', 0, 'type'] cylinder\n",
      "['vocal', 'elements', 0, 'length'] 0.15\n",
      "['vocal', 'elements', 0, 'radius'] 0.02\n",
      "['vocal', 'elements', 0, 'loss_multiplier'] 5\n",
      "['vocal', 'elements', 1, 'type'] termination\n",
      "['vocal', 'elements', 1, 'kind'] open\n",
      "['bore', 'description'] single clarinet-like cylinder\n",
      "['bore', 'frequency independent losses'] 0.01\n",
      "['bore', 'elements', 0, 'type'] cylinder\n",
      "['bore', 'elements', 0, 'length'] 0.5\n",
      "['bore', 'elements', 0, 'radius'] 0.0075\n",
      "['bore', 'elements', 0, 'loss_multiplier'] 1\n",
      "['bore', 'elements', 1, 'type'] termination\n",
      "['bore', 'elements', 1, 'kind'] open\n"
     ]
    }
   ],
   "source": [
    "js['tracts'].visititems(print)"
   ]
  },
  {
   "cell_type": "code",
   "execution_count": null,
   "metadata": {},
   "outputs": [],
   "source": []
  }
 ],
 "metadata": {
  "kernelspec": {
   "display_name": "Main UNSW research kernel",
   "language": "python",
   "name": "unsw"
  },
  "language_info": {
   "codemirror_mode": {
    "name": "ipython",
    "version": 3
   },
   "file_extension": ".py",
   "mimetype": "text/x-python",
   "name": "python",
   "nbconvert_exporter": "python",
   "pygments_lexer": "ipython3",
   "version": "3.7.6"
  }
 },
 "nbformat": 4,
 "nbformat_minor": 4
}
