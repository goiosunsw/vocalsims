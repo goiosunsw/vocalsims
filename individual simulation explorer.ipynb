{
 "cells": [
  {
   "cell_type": "code",
   "execution_count": 2,
   "metadata": {},
   "outputs": [
    {
     "name": "stdout",
     "output_type": "stream",
     "text": [
      "Populating the interactive namespace from numpy and matplotlib\n"
     ]
    }
   ],
   "source": [
    "%pylab widget\n",
    "\n",
    "from glob import glob\n",
    "import os\n",
    "import pandas\n",
    "import json_object as jso\n",
    "import pickle\n",
    "import re\n",
    "import scipy.signal as sig\n",
    "import pandas as pd\n",
    "import seaborn as sns\n",
    "\n",
    "from pypevoc.Heterodyne import HeterodyneHarmonic\n",
    "from pypevoc.PVAnalysis import PV\n"
   ]
  },
  {
   "cell_type": "code",
   "execution_count": 61,
   "metadata": {},
   "outputs": [],
   "source": [
    "#csvfile = '/Users/goios/Data/clarinet_simulations/20200505-highQclarino/simulation_analysis_20200505-highQclarino.csv'\n",
    "csvfile = '/Users/goios/Data/clarinet_simulations/20200506-hiqhQreed_vtlosses/simulation_analysis_20200506-hiqhQreed_vtlosses.csv'\n",
    "datadir = os.path.join(*os.path.split(csvfile)[:-1])\n",
    "resdf = pd.read_csv(csvfile)\n",
    "filelist = resdf.filename.tolist()\n"
   ]
  },
  {
   "cell_type": "code",
   "execution_count": 62,
   "metadata": {},
   "outputs": [
    {
     "data": {
      "text/plain": [
       "[1944.0, 2160.0, 2268.0, 2376.0, 2592.0]"
      ]
     },
     "execution_count": 62,
     "metadata": {},
     "output_type": "execute_result"
    }
   ],
   "source": [
    "pblowu=sorted(resdf['blowing pressure'].unique())\n",
    "pblowu"
   ]
  },
  {
   "cell_type": "code",
   "execution_count": 63,
   "metadata": {},
   "outputs": [
    {
     "data": {
      "text/plain": [
       "[0.0015, 0.003, 0.004, 0.006, 0.008, 0.01, 0.015, 0.02]"
      ]
     },
     "execution_count": 63,
     "metadata": {},
     "output_type": "execute_result"
    }
   ],
   "source": [
    "tradu=sorted(resdf['tongue radius'].unique())\n",
    "tradu"
   ]
  },
  {
   "cell_type": "code",
   "execution_count": 64,
   "metadata": {},
   "outputs": [],
   "source": [
    "partdf = resdf[resdf['tongue radius']==tradu[2]]"
   ]
  },
  {
   "cell_type": "code",
   "execution_count": 86,
   "metadata": {},
   "outputs": [
    {
     "name": "stderr",
     "output_type": "stream",
     "text": [
      "/Users/goios/Envs/unsw/lib/python3.7/site-packages/matplotlib/pyplot.py:514: RuntimeWarning: More than 20 figures have been opened. Figures created through the pyplot interface (`matplotlib.pyplot.figure`) are retained until explicitly closed and may consume too much memory. (To control this warning, see the rcParam `figure.max_open_warning`).\n",
      "  max_open_warning, RuntimeWarning)\n"
     ]
    },
    {
     "data": {
      "application/vnd.jupyter.widget-view+json": {
       "model_id": "8345503961914a54bdcc582e177b4829",
       "version_major": 2,
       "version_minor": 0
      },
      "text/plain": [
       "FigureCanvasNbAgg()"
      ]
     },
     "metadata": {},
     "output_type": "display_data"
    },
    {
     "data": {
      "text/plain": [
       "(250, 1000)"
      ]
     },
     "execution_count": 86,
     "metadata": {},
     "output_type": "execute_result"
    }
   ],
   "source": [
    "figure()\n",
    "sns.scatterplot(data=partdf,x='vocal tract length',y='sus_f0_avg',hue='blowing pressure')\n",
    "bp = partdf['blowing pressure'].unique()[0]\n",
    "zdf = partdf[partdf['blowing pressure']==bp].sort_values('vocal tract length')\n",
    "plot(zdf['vocal tract length'],zdf['z_bore_pk_f_0'],label='bore peak')\n",
    "plot(zdf['vocal tract length'],zdf['z_vocal_pk_f_0'], label='vt peak')\n",
    "legend(loc='upper left',bbox_to_anchor=(1,1))\n",
    "ylabel('Playing frequency (quiescent, Hz)')\n",
    "#ylim(320,440)\n",
    "tight_layout()\n",
    "ylim(250,1000)"
   ]
  },
  {
   "cell_type": "code",
   "execution_count": 82,
   "metadata": {},
   "outputs": [
    {
     "name": "stderr",
     "output_type": "stream",
     "text": [
      "/Users/goios/Envs/unsw/lib/python3.7/site-packages/matplotlib/pyplot.py:514: RuntimeWarning: More than 20 figures have been opened. Figures created through the pyplot interface (`matplotlib.pyplot.figure`) are retained until explicitly closed and may consume too much memory. (To control this warning, see the rcParam `figure.max_open_warning`).\n",
      "  max_open_warning, RuntimeWarning)\n"
     ]
    },
    {
     "data": {
      "application/vnd.jupyter.widget-view+json": {
       "model_id": "04eabcaccd1944c295323646238e7a1d",
       "version_major": 2,
       "version_minor": 0
      },
      "text/plain": [
       "FigureCanvasNbAgg()"
      ]
     },
     "metadata": {},
     "output_type": "display_data"
    },
    {
     "data": {
      "text/plain": [
       "(0.8, 1.2)"
      ]
     },
     "execution_count": 82,
     "metadata": {},
     "output_type": "execute_result"
    }
   ],
   "source": [
    "figure()\n",
    "sns.scatterplot(data=partdf,x='vocal tract length',y=partdf['trans_f0_avg']/partdf['sus_f0_avg'],hue='blowing pressure')\n",
    "ylim(.8,1.2)"
   ]
  },
  {
   "cell_type": "code",
   "execution_count": 69,
   "metadata": {},
   "outputs": [
    {
     "data": {
      "application/vnd.jupyter.widget-view+json": {
       "model_id": "6a4ed0f92777457d828858050a8dd879",
       "version_major": 2,
       "version_minor": 0
      },
      "text/plain": [
       "FigureCanvasNbAgg()"
      ]
     },
     "metadata": {},
     "output_type": "display_data"
    },
    {
     "data": {
      "text/plain": [
       "<matplotlib.legend.Legend at 0x14ad76750>"
      ]
     },
     "execution_count": 69,
     "metadata": {},
     "output_type": "execute_result"
    }
   ],
   "source": [
    "figure()\n",
    "sns.scatterplot(data=partdf,x='vocal tract length',y='rate_1_trans',hue='blowing pressure')\n",
    "#ylim(320,400)\n",
    "ylabel('exp. rate (dB/s)')\n",
    "legend(loc='upper left',bbox_to_anchor=(1,1))"
   ]
  },
  {
   "cell_type": "code",
   "execution_count": 81,
   "metadata": {},
   "outputs": [
    {
     "data": {
      "application/vnd.jupyter.widget-view+json": {
       "model_id": "2f039fecbf3942eeb81ce8a14d5c58ef",
       "version_major": 2,
       "version_minor": 0
      },
      "text/plain": [
       "FigureCanvasNbAgg()"
      ]
     },
     "metadata": {},
     "output_type": "display_data"
    }
   ],
   "source": [
    "fig,ax = subplots(2, sharex=True, sharey=True)\n",
    "sns.scatterplot(data=partdf,x='vocal tract length',y='hrat_1_sus_abs_avg',hue='blowing pressure',ax=ax[0],legend=False)\n",
    "ax[0].set_ylabel('quiesent pvt/pb (H1)')\n",
    "sns.scatterplot(data=partdf,x='vocal tract length',y='hrat_1_trans_abs_avg',hue='blowing pressure',ax=ax[1])\n",
    "ax[1].set_ylabel('tranient pvt/pb (H1)')\n",
    "ax[0].set_ylim(0,2)\n",
    "ax[1].legend(loc='center left',bbox_to_anchor=(1,1))\n",
    "tight_layout()"
   ]
  },
  {
   "cell_type": "code",
   "execution_count": 71,
   "metadata": {},
   "outputs": [
    {
     "data": {
      "application/vnd.jupyter.widget-view+json": {
       "model_id": "479e1390930f442cbc7021c86dfcd40d",
       "version_major": 2,
       "version_minor": 0
      },
      "text/plain": [
       "FigureCanvasNbAgg()"
      ]
     },
     "metadata": {},
     "output_type": "display_data"
    },
    {
     "data": {
      "text/plain": [
       "<matplotlib.legend.Legend at 0x14c928f90>"
      ]
     },
     "execution_count": 71,
     "metadata": {},
     "output_type": "execute_result"
    }
   ],
   "source": [
    "fig,ax = subplots(2, sharex=True, sharey=True)\n",
    "sns.scatterplot(data=partdf,x='vocal tract length',y='bore_1_sus_abs_avg',hue='blowing pressure',legend=False,ax=ax[0])\n",
    "ax[0].set_ylabel('H1 bore pressure')\n",
    "sns.scatterplot(data=partdf,x='vocal tract length',y='vt_1_sus_abs_avg',hue='blowing pressure',ax=ax[1])\n",
    "ax[1].set_ylabel('H1 vt pressure')\n",
    "ax[1].legend(loc='center left',bbox_to_anchor=(1,1))"
   ]
  },
  {
   "cell_type": "code",
   "execution_count": 72,
   "metadata": {},
   "outputs": [],
   "source": [
    "zdict={}\n",
    "nzfft=2**14\n",
    "for irow, row in partdf[partdf['blowing pressure']==pblowu[0]].iterrows():\n",
    "    with open(row.filename,'rb') as fo:\n",
    "        pckl = pickle.load(fo)\n",
    "        \n",
    "    impresp_b = pckl['impresp_b']\n",
    "    impresp_vt = pckl['impresp_vt']\n",
    "    \n",
    "    f = np.arange(nzfft)/nzfft*sr\n",
    "\n",
    "    rf=np.fft.fft(impresp_vt,n=nzfft)\n",
    "    z_vt=(1+rf)/(1-rf)*pckl['zch_vt']\n",
    "\n",
    "\n",
    "    rf=np.fft.fft(impresp_b,n=nzfft)\n",
    "    z_b=(1+rf)/(1-rf)*pckl['zch_b']\n",
    "    \n",
    "    zdict[row['vocal tract length']]={'z_vt': z_vt, 'z_b':z_b}\n",
    "    \n",
    "#     z_b_pks,_ = sig.find_peaks(np.abs(z_b))\n",
    "#     for ii,zz in enumerate(z_b_pks[:nzpks]):\n",
    "#         results['z_bore_pk_f_{}'.format(ii)] = f[zz]\n",
    "#         results['z_bore_pk_z_{}'.format(ii)] = z_b[zz]\n",
    "#     z_v_pks,_ = sig.find_peaks(np.abs(z_vt))\n",
    "#     for ii,zz in enumerate(z_v_pks[:nzpks]):\n",
    "#         results['z_vocal_pk_f_{}'.format(ii)] = f[zz]\n",
    "#         results['z_vocal_pk_z_{}'.format(ii)] = z_vt[zz]\n",
    "        \n"
   ]
  },
  {
   "cell_type": "code",
   "execution_count": 77,
   "metadata": {},
   "outputs": [
    {
     "data": {
      "application/vnd.jupyter.widget-view+json": {
       "model_id": "1732617e1ef7464db006caaa17400dcc",
       "version_major": 2,
       "version_minor": 0
      },
      "text/plain": [
       "FigureCanvasNbAgg()"
      ]
     },
     "metadata": {},
     "output_type": "display_data"
    },
    {
     "data": {
      "text/plain": [
       "(0, 2000)"
      ]
     },
     "execution_count": 77,
     "metadata": {},
     "output_type": "execute_result"
    }
   ],
   "source": [
    "fig,ax=subplots(2,sharex=True)\n",
    "every = 5\n",
    "for ii,(k,v) in enumerate(zdict.items()):\n",
    "    if ii%every == 0:\n",
    "        ax[0].semilogy(f,np.abs(v['z_vt']),lw=1)\n",
    "        ax[1].plot(f,np.angle(v['z_vt']),lw=1)\n",
    "    \n",
    "ax[0].semilogy(f,np.abs(z_b),color='k')\n",
    "ax[1].plot(f,np.angle(z_b),color='k')\n",
    "\n",
    "xlim(0,2000)"
   ]
  },
  {
   "cell_type": "code",
   "execution_count": 74,
   "metadata": {},
   "outputs": [
    {
     "data": {
      "application/vnd.jupyter.widget-view+json": {
       "model_id": "c4eaadcb63294f768757aa96f15e3637",
       "version_major": 2,
       "version_minor": 0
      },
      "text/plain": [
       "FigureCanvasNbAgg()"
      ]
     },
     "metadata": {},
     "output_type": "display_data"
    },
    {
     "data": {
      "text/plain": [
       "(500, 1400)"
      ]
     },
     "execution_count": 74,
     "metadata": {},
     "output_type": "execute_result"
    }
   ],
   "source": [
    "fig,ax=subplots(2,sharex=True)\n",
    "for k,v in zdict.items():\n",
    "    ax[0].semilogy(f,np.abs(v['z_vt'] +z_b),lw=1)\n",
    "    ax[1].plot(f,np.angle(v['z_vt']+z_b),lw=1)\n",
    "    \n",
    "xlim(500,1400)"
   ]
  },
  {
   "cell_type": "code",
   "execution_count": 80,
   "metadata": {},
   "outputs": [
    {
     "data": {
      "application/vnd.jupyter.widget-view+json": {
       "model_id": "5d83e5b24f6b4dacb9ac135d46d34283",
       "version_major": 2,
       "version_minor": 0
      },
      "text/plain": [
       "FigureCanvasNbAgg()"
      ]
     },
     "metadata": {},
     "output_type": "display_data"
    }
   ],
   "source": [
    "\n",
    "\n",
    "tsigdf = partdf[partdf['blowing pressure']==pblowu[4]].sort_values('vocal tract length').iloc[::5]\n",
    "nplots = len(tsigdf)\n",
    "nrows=3\n",
    "ncols = int(np.ceil(nplots/nrows))\n",
    "\n",
    "fig,ax = plt.subplots(nrows,ncols,sharex=True,sharey=True,figsize=(8,6))\n",
    "axf = ax.flatten()\n",
    "\n",
    "\n",
    "for ii,(_,row) in enumerate(tsigdf.iterrows()):\n",
    "    thisfile = row['filename']\n",
    "    with open(thisfile,'rb') as fo:\n",
    "        pckl = pickle.load(fo)\n",
    "    axf[ii].plot(pckl['p_b'])\n",
    "    axf[ii].plot(pckl['p_vt'])#+row['p_blow'])\n",
    "    axf[ii].set_title('{:.3f}'.format(row['vocal tract length']))\n",
    "        \n",
    "        \n"
   ]
  },
  {
   "cell_type": "code",
   "execution_count": 57,
   "metadata": {},
   "outputs": [
    {
     "data": {
      "text/plain": [
       "{'_comment': \"reed moves instantaneously if 'dynamic' is false, that means res. freq and q are not taken into account\",\n",
       " 'stiffness': 500000000.0,\n",
       " 'resonance frequency': 1500,\n",
       " 'quality factor': 2.0,\n",
       " 'rest opening': 1e-05,\n",
       " 'dynamic': True,\n",
       " 'non-linear force': {'_comment': 'non-linear force kicks in when x/x0 > onset_opening fraction and is exponential like exp((x-xth)/(xc-xth))',\n",
       "  '_choices_model': ['disabled', 'inverse_p', 'log'],\n",
       "  'model': 'inverse_p',\n",
       "  'onset pressure fraction': 0.9}}"
      ]
     },
     "execution_count": 57,
     "metadata": {},
     "output_type": "execute_result"
    }
   ],
   "source": [
    "js['environment/reed'].to_python()"
   ]
  },
  {
   "cell_type": "code",
   "execution_count": 35,
   "metadata": {},
   "outputs": [
    {
     "name": "stdout",
     "output_type": "stream",
     "text": [
      "m = 5.629e+00 kg/m2\n",
      "r = 2.122e-04 kg/s/m2\n",
      "r = 5.000e+08 kg/s2/m2 (Pa/m2)\n"
     ]
    }
   ],
   "source": [
    "m=js['environment/reed/stiffness']/(js['environment/reed/resonance frequency']*2*pi)**2\n",
    "r = js['environment/reed/quality factor']*np.sqrt(m/js['environment/reed/stiffness'])\n",
    "\n",
    "print('m = {:.3e} kg/m2'.format(m))\n",
    "print('r = {:.3e} kg/s/m2'.format(r))\n",
    "print('r = {:.3e} kg/s2/m2 (Pa/m2)'.format(js['environment/reed/stiffness']))"
   ]
  },
  {
   "cell_type": "code",
   "execution_count": 57,
   "metadata": {},
   "outputs": [
    {
     "name": "stderr",
     "output_type": "stream",
     "text": [
      "/Users/goios/Devel/pypevoc/pypevoc/PVAnalysis.py:171: RuntimeWarning: divide by zero encountered in true_divide\n",
      "  frat = fx / self.oldfft\n",
      "/Users/goios/Devel/pypevoc/pypevoc/PVAnalysis.py:171: RuntimeWarning: invalid value encountered in true_divide\n",
      "  frat = fx / self.oldfft\n"
     ]
    },
    {
     "data": {
      "application/vnd.jupyter.widget-view+json": {
       "model_id": "386dcd48c6ed40e8a67950822b825c30",
       "version_major": 2,
       "version_minor": 0
      },
      "text/plain": [
       "FigureCanvasNbAgg()"
      ]
     },
     "metadata": {},
     "output_type": "display_data"
    },
    {
     "ename": "NameError",
     "evalue": "name 'f0' is not defined",
     "output_type": "error",
     "traceback": [
      "\u001b[0;31m---------------------------------------------------------------------------\u001b[0m",
      "\u001b[0;31mNameError\u001b[0m                                 Traceback (most recent call last)",
      "\u001b[0;32m<ipython-input-57-b6058a8f68c5>\u001b[0m in \u001b[0;36m<module>\u001b[0;34m\u001b[0m\n\u001b[1;32m     10\u001b[0m \u001b[0max\u001b[0m\u001b[0;34m[\u001b[0m\u001b[0;36m0\u001b[0m\u001b[0;34m]\u001b[0m\u001b[0;34m.\u001b[0m\u001b[0mplot\u001b[0m\u001b[0;34m(\u001b[0m\u001b[0mpvoc\u001b[0m\u001b[0;34m.\u001b[0m\u001b[0mt\u001b[0m\u001b[0;34m[\u001b[0m\u001b[0midx\u001b[0m\u001b[0;34m]\u001b[0m\u001b[0;34m,\u001b[0m\u001b[0mpvoc\u001b[0m\u001b[0;34m.\u001b[0m\u001b[0mfundamental_frequency\u001b[0m\u001b[0;34m[\u001b[0m\u001b[0midx\u001b[0m\u001b[0;34m]\u001b[0m\u001b[0;34m)\u001b[0m\u001b[0;34m\u001b[0m\u001b[0;34m\u001b[0m\u001b[0m\n\u001b[1;32m     11\u001b[0m \u001b[0max\u001b[0m\u001b[0;34m[\u001b[0m\u001b[0;36m1\u001b[0m\u001b[0;34m]\u001b[0m\u001b[0;34m.\u001b[0m\u001b[0msemilogy\u001b[0m\u001b[0;34m(\u001b[0m\u001b[0mpvoc\u001b[0m\u001b[0;34m.\u001b[0m\u001b[0mt\u001b[0m\u001b[0;34m,\u001b[0m\u001b[0mpvoc\u001b[0m\u001b[0;34m.\u001b[0m\u001b[0mfundamental_magnitude\u001b[0m\u001b[0;34m)\u001b[0m\u001b[0;34m\u001b[0m\u001b[0;34m\u001b[0m\u001b[0m\n\u001b[0;32m---> 12\u001b[0;31m \u001b[0max\u001b[0m\u001b[0;34m[\u001b[0m\u001b[0;36m0\u001b[0m\u001b[0;34m]\u001b[0m\u001b[0;34m.\u001b[0m\u001b[0maxhline\u001b[0m\u001b[0;34m(\u001b[0m\u001b[0mf0\u001b[0m\u001b[0;34m,\u001b[0m\u001b[0mcolor\u001b[0m\u001b[0;34m=\u001b[0m\u001b[0;34m'blue'\u001b[0m\u001b[0;34m)\u001b[0m\u001b[0;34m\u001b[0m\u001b[0;34m\u001b[0m\u001b[0m\n\u001b[0m",
      "\u001b[0;31mNameError\u001b[0m: name 'f0' is not defined"
     ]
    }
   ],
   "source": [
    "tsust = .1\n",
    "nsust_smpl = int(tsust*sr)\n",
    "\n",
    "p_b = pckl['p_b']\n",
    "p_vt = pckl['p_vt']\n",
    "pvoc = PV(p_b,sr=sr,progress=False)\n",
    "pvoc.run_pv()\n",
    "fig,ax = subplots(2,sharex=True)\n",
    "idx = (pvoc.fundamental_frequency>50) & (pvoc.fundamental_magnitude>np.max(pvoc.fundamental_magnitude)/1000)\n",
    "ax[0].plot(pvoc.t[idx],pvoc.fundamental_frequency[idx])\n",
    "ax[1].semilogy(pvoc.t,pvoc.fundamental_magnitude)\n",
    "ax[0].axhline(f0,color='blue')"
   ]
  },
  {
   "cell_type": "code",
   "execution_count": 58,
   "metadata": {},
   "outputs": [
    {
     "name": "stdout",
     "output_type": "stream",
     "text": [
      "283.59936028124963 1.3709176654205104\n",
      "2779.8760170330343 13.014954922808394 [  90.7877076  2748.52399534]\n"
     ]
    }
   ],
   "source": [
    "isus = pvoc.t>(pvoc.t[-1]-tsust)\n",
    "fsus = pvoc.fundamental_frequency[isus]\n",
    "print(np.mean(fsus),np.std(fsus))\n",
    "asus = pvoc.fundamental_magnitude[isus]\n",
    "print(np.mean(asus),np.std(asus),np.polyfit(pvoc.t[isus],asus,1))"
   ]
  },
  {
   "cell_type": "code",
   "execution_count": 59,
   "metadata": {},
   "outputs": [
    {
     "name": "stdout",
     "output_type": "stream",
     "text": [
      "[900.02001904  -5.71868608]\n"
     ]
    },
    {
     "data": {
      "application/vnd.jupyter.widget-view+json": {
       "model_id": "bf832937f48247ffbc935f8f3c04682c",
       "version_major": 2,
       "version_minor": 0
      },
      "text/plain": [
       "FigureCanvasNbAgg()"
      ]
     },
     "metadata": {},
     "output_type": "display_data"
    },
    {
     "name": "stdout",
     "output_type": "stream",
     "text": [
      "sust f0 283.59936028124963 1.3709176654205104\n",
      "trns f0 287.1470921584932 3.897673964146086\n",
      "harm  1\n",
      "   bore\n",
      "     trans times 0.037333333333333336 0.08266666666666667\n",
      "     sus abs 2816.8611353407787 0.43065570347012655\n",
      "     sus arg 1.407651082580158 0.004424375805931017\n",
      "     sus rat abs 0.017759088125692827 0.0001266599070545336\n",
      "     sus rat arg 2.8063067492185256 0.007338305248958317\n",
      "     trans abs 505.9838335855123 585.1000191045871\n",
      "     trans arg 1.4666387074135556 0.12131611660008845\n",
      "     trans rat abs 0.04749181935665465 0.002128258814139788\n",
      "     trans rat arg 2.2809463402327688 0.029964904575219328\n",
      "     trans exr 900.0997849913524\n",
      "   vt\n",
      "     trans times 0.029333333333333333 0.07466666666666667\n",
      "     sus abs 50.024887939780854 0.3572262513299403\n",
      "     sus arg -2.069227475380903 0.008766596221130104\n",
      "     sus rat abs 0.017759088125692827 0.0001266599070545336\n",
      "     sus rat arg 2.8063067492185256 0.007338305248958317\n",
      "     trans abs 10.800522809202166 12.491827950017509\n",
      "     trans arg -2.4805688607351217 0.12432814550782786\n",
      "     trans rat abs 0.059734304985468105 0.028825767953197138\n",
      "     trans rat arg -3.896658178780289 0.3426199705251311\n",
      "     trans exr 840.230308970017\n",
      "harm  2\n",
      "   bore\n",
      "     trans times 0.042666666666666665 0.07466666666666667\n",
      "     sus abs 31.596484307817725 2.019058370706895\n",
      "     sus arg 0.9038648861615385 0.05933682788899476\n",
      "     sus rat abs 17.288683994767826 1.109801695618452\n",
      "     sus rat arg 1.9458215859876087 0.05878247727325315\n",
      "     trans abs 2.6327841192230674 2.5236998286239536\n",
      "     trans arg -7.177111468747332 4.736366382305441\n",
      "     trans rat abs 3.195835319153447 2.935427018142111\n",
      "     trans rat arg 10.269773818430627 4.648431090611862\n",
      "     trans exr 937.7522719790086\n",
      "   vt\n",
      "     trans times 0.058666666666666666 0.08266666666666667\n",
      "     sus abs 544.022700953026 0.23402828629750128\n",
      "     sus arg 2.8496864721491475 0.00893816912431228\n",
      "     sus rat abs 17.288683994767826 1.109801695618452\n",
      "     sus rat arg 1.9458215859876087 0.05878247727325315\n",
      "     trans abs 83.12682315175181 95.8021865195435\n",
      "     trans arg 2.9971999970878604 0.042169280495480216\n",
      "     trans rat abs 5.516822510611391 2.588392205059983\n",
      "     trans rat arg 2.1170846606625835 1.3857815705638044\n",
      "     trans exr 1728.948621901415\n",
      "harm  3\n",
      "   bore\n",
      "     trans times 0.04 0.07733333333333334\n",
      "     sus abs 153.47496894587744 0.575736034917638\n",
      "     sus arg 0.6308461918531316 0.012855908547495281\n",
      "     sus rat abs 0.08817152918041991 0.002529877797053818\n",
      "     sus rat arg -0.8552531101713384 0.028032217779792153\n",
      "     trans abs 41.88651313568588 48.205875692139294\n",
      "     trans arg -1.5728391804363007 0.3913249903534024\n",
      "     trans rat abs 0.13860289306372658 0.003126736089449623\n",
      "     trans rat arg -1.3011857886549953 0.056113687450365435\n",
      "     trans exr 1008.1386398073973\n",
      "   vt\n",
      "     trans times 0.04 0.07733333333333334\n",
      "     sus abs 13.531893837658012 0.3831864362700264\n",
      "     sus arg -0.2244069183182066 0.030624356346875655\n",
      "     sus rat abs 0.08817152918041991 0.002529877797053818\n",
      "     sus rat arg -0.8552531101713384 0.028032217779792153\n",
      "     trans abs 5.848508934612482 6.796523514641011\n",
      "     trans arg 3.40916033808829 0.35677852724790854\n",
      "     trans rat abs 0.13860289306372658 0.003126736089449623\n",
      "     trans rat arg -1.3011857886549953 0.056113687450365435\n",
      "     trans exr 1011.6220070694216\n"
     ]
    },
    {
     "name": "stderr",
     "output_type": "stream",
     "text": [
      "/Users/goios/Envs/unsw/lib/python3.7/site-packages/ipykernel_launcher.py:15: RuntimeWarning: divide by zero encountered in log10\n",
      "  from ipykernel import kernelapp as app\n"
     ]
    }
   ],
   "source": [
    "results={}\n",
    "\n",
    "amax = max(pvoc.fundamental_magnitude)\n",
    "\n",
    "a_trans_end = amax*.9\n",
    "a_trans_start = amax*.01\n",
    "i_trans_end = np.flatnonzero(pvoc.fundamental_magnitude>a_trans_end)[0]-1\n",
    "i_trans_start = np.flatnonzero(pvoc.fundamental_magnitude[:i_trans_end]<a_trans_start)[-1]\n",
    "i_trans = slice(i_trans_start,i_trans_end)\n",
    "atrans = 20*np.log10(pvoc.fundamental_magnitude[i_trans])\n",
    "ttrans = pvoc.t[i_trans]\n",
    "polytrans = np.polyfit(ttrans,atrans,1) \n",
    "print(polytrans)\n",
    "fig,ax = subplots(1)\n",
    "ax.plot(pvoc.t,20*np.log10(pvoc.fundamental_magnitude))\n",
    "ax.plot(pvoc.t[i_trans],np.polyval(polytrans,pvoc.t[i_trans]))\n",
    "ax.axvspan(pvoc.t[i_trans_start],pvoc.t[i_trans_end],color='red',alpha=.2)\n",
    "\n",
    "fsusav = np.mean(fsus)\n",
    "print('sust','f0',fsusav,np.std(fsus))\n",
    "print('trns','f0',np.mean(pvoc.fundamental_frequency[i_trans]),np.std(pvoc.fundamental_frequency[i_trans]))\n",
    "results['sus_f0_avg']=fsusav\n",
    "results['sus_f0_std']=np.std(fsus)\n",
    "results['trans_f0_avg']=np.mean(pvoc.fundamental_frequency[i_trans])\n",
    "results['trans_f0_std']=np.std(pvoc.fundamental_frequency[i_trans])\n",
    "\n",
    "\n",
    "hhb = HeterodyneHarmonic(p_b,sr=sr,nwind=1024*2,nhop=256*2,f=fsusav)\n",
    "hhv = HeterodyneHarmonic(p_vt,sr=sr,nwind=1024*2,nhop=256*2,f=fsusav)\n",
    "\n",
    "for ii in range(3):\n",
    "    ax.plot(hhb.t,20*np.log10(np.abs(hhb.camp[:,ii])))\n",
    "for ii in range(3):\n",
    "    ax.plot(hhv.t,20*np.log10(np.abs(hhv.camp[:,ii])),ls='--')\n",
    "\n",
    "t_trans_start = pvoc.t[i_trans_start]\n",
    "t_trans_end = pvoc.t[i_trans_end]\n",
    "\n",
    "\n",
    "hidxsus = hhb.t>(hhb.t[-1]-tsust)\n",
    "hidxtrans = (hhb.t>=t_trans_start) & (hhb.t<=t_trans_end)\n",
    "\n",
    "for ii in range(3):\n",
    "    print('harm ',ii+1)\n",
    "    for hlab,hh in [('bore',hhb),('vt',hhv)]:\n",
    "        print(' '*2,hlab)\n",
    "        v = np.abs(hh.camp[:,ii])\n",
    "        amax = max(v)\n",
    "        a_trans_end = amax*.9\n",
    "        a_trans_start = amax*.01\n",
    "        i_trans_end = np.flatnonzero(v>a_trans_end)[0]-1\n",
    "        i_trans_start = np.flatnonzero(v[:i_trans_end]<a_trans_start)[-1]\n",
    "        print(' '*4,'trans times',hh.t[i_trans_start],hh.t[i_trans_end])\n",
    "        results['{}_{}_trans_start'.format(hlab,ii)]=hh.t[i_trans_start]\n",
    "        results['{}_{}_trans_end'.format(hlab,ii)]=hh.t[i_trans_end]\n",
    "\n",
    "        hidxtrans = slice(i_trans_start,i_trans_end)\n",
    "\n",
    "        for rlab, reg in [('sus',hidxsus),('trans',hidxtrans)]:\n",
    "            \n",
    "            v = hh.camp[reg,ii]\n",
    "            print(' '*4,rlab,'abs',np.mean(np.abs(v)),np.std(np.abs(v)))\n",
    "            print(' '*4,rlab,'arg',np.mean(np.unwrap(np.angle(v))),np.std(np.unwrap(np.angle(v))))\n",
    "            results['{}_{}_{}_abs_avg'.format(hlab,ii+1,rlab)] = np.mean(np.abs(v))\n",
    "            results['{}_{}_{}_abs_std'.format(hlab,ii+1,rlab)] = np.std(np.abs(v))\n",
    "            results['{}_{}_{}_arg_avg'.format(hlab,ii+1,rlab)] = np.mean(np.unwrap(np.angle(v)))\n",
    "            results['{}_{}_{}_arg_std'.format(hlab,ii+1,rlab)] = np.std(np.unwrap(np.angle(v)))\n",
    "\n",
    "            v = hhv.camp[reg,ii]/hhb.camp[reg,ii]\n",
    "            print(' '*4,rlab,'rat','abs',np.mean(np.abs(v)),np.std(np.abs(v)))\n",
    "            print(' '*4,rlab,'rat','arg',np.mean(np.unwrap(np.angle(v))),np.std(np.unwrap(np.angle(v))))\n",
    "            results['{}_{}_{}_arg_avg'.format('hrat',ii+1,rlab)] = np.mean(np.unwrap(np.angle(v)))\n",
    "            results['{}_{}_{}_arg_std'.format('hrat',ii+1,rlab)] = np.std(np.unwrap(np.angle(v)))\n",
    "            results['{}_{}_{}_abs_avg'.format('hrat',ii+1,rlab)] = np.mean(np.abs(v))\n",
    "            results['{}_{}_{}_abs_std'.format('hrat',ii+1,rlab)] = np.std(np.abs(v))\n",
    "\n",
    "        v = hh.camp[reg,ii]\n",
    "        trpol = np.polyfit(hh.t[reg],20*np.log10(np.abs(v)),1)\n",
    "        print(' '*4,rlab,'exr',trpol[0])\n"
   ]
  },
  {
   "cell_type": "code",
   "execution_count": 60,
   "metadata": {},
   "outputs": [
    {
     "data": {
      "application/vnd.jupyter.widget-view+json": {
       "model_id": "a2c6010c1b4249af8b6904e32365a512",
       "version_major": 2,
       "version_minor": 0
      },
      "text/plain": [
       "FigureCanvasNbAgg()"
      ]
     },
     "metadata": {},
     "output_type": "display_data"
    }
   ],
   "source": [
    "fig,ax = subplots(2,sharex=True)\n",
    "\n",
    "hrat = hhv.camp/hhb.camp\n",
    "for ii in range(4):\n",
    "    ax[0].plot(hhb.t,20*np.log10(np.abs(hrat[:,ii])))\n",
    "    ax[1].plot(hhb.t,np.angle(hrat[:,ii]))"
   ]
  },
  {
   "cell_type": "code",
   "execution_count": 6,
   "metadata": {},
   "outputs": [
    {
     "data": {
      "text/plain": [
       "Index(['tongue_rad', 'vt_len', 'p_blow', 'filename'], dtype='object')"
      ]
     },
     "execution_count": 6,
     "metadata": {},
     "output_type": "execute_result"
    }
   ],
   "source": [
    "df.columns"
   ]
  },
  {
   "cell_type": "code",
   "execution_count": 193,
   "metadata": {},
   "outputs": [
    {
     "data": {
      "text/plain": [
       "[0.0015, 0.003, 0.004, 0.006, 0.008, 0.01, 0.015, 0.02]"
      ]
     },
     "execution_count": 193,
     "metadata": {},
     "output_type": "execute_result"
    }
   ],
   "source": [
    "tr=sorted(df['tongue_rad'].unique())\n",
    "tr"
   ]
  },
  {
   "cell_type": "code",
   "execution_count": 194,
   "metadata": {},
   "outputs": [
    {
     "data": {
      "text/plain": [
       "[1944.0, 2160.0, 2268.0, 2376.0, 2592.0]"
      ]
     },
     "execution_count": 194,
     "metadata": {},
     "output_type": "execute_result"
    }
   ],
   "source": [
    "pba=sorted(df.p_blow.unique())\n",
    "pba"
   ]
  },
  {
   "cell_type": "code",
   "execution_count": 199,
   "metadata": {},
   "outputs": [],
   "source": [
    "fl=df[(df['p_blow']==pba[2])&(df.tongue_rad==tr[2])].sort_values('vt_len').iloc[::5]"
   ]
  },
  {
   "cell_type": "code",
   "execution_count": 200,
   "metadata": {},
   "outputs": [
    {
     "data": {
      "text/plain": [
       "0.004"
      ]
     },
     "execution_count": 200,
     "metadata": {},
     "output_type": "execute_result"
    }
   ],
   "source": [
    "tr[2]"
   ]
  },
  {
   "cell_type": "code",
   "execution_count": 201,
   "metadata": {},
   "outputs": [
    {
     "data": {
      "application/vnd.jupyter.widget-view+json": {
       "model_id": "0ec1b2198be9416aaece205a5e02fcb6",
       "version_major": 2,
       "version_minor": 0
      },
      "text/plain": [
       "FigureCanvasNbAgg()"
      ]
     },
     "metadata": {},
     "output_type": "display_data"
    }
   ],
   "source": [
    "%matplotlib widget\n",
    "\n",
    "nplots = len(fl)\n",
    "nrows=3\n",
    "ncols = int(np.ceil(nplots/nrows))\n",
    "\n",
    "fig,ax = plt.subplots(nrows,ncols,sharex=True,sharey=True,figsize=(8,6))\n",
    "axf = ax.flatten()\n",
    "\n",
    "\n",
    "for ii,(_,row) in enumerate(fl.iterrows()):\n",
    "    thisfile = row['filename']\n",
    "    with open(thisfile,'rb') as fo:\n",
    "        pckl = pickle.load(fo)\n",
    "    axf[ii].plot(pckl['p_b'])\n",
    "    axf[ii].plot(pckl['p_vt'])#+row['p_blow'])\n",
    "    axf[ii].set_title('{:.3f}'.format(row['vt_len']))"
   ]
  },
  {
   "cell_type": "code",
   "execution_count": 198,
   "metadata": {},
   "outputs": [
    {
     "data": {
      "text/html": [
       "<div>\n",
       "<style scoped>\n",
       "    .dataframe tbody tr th:only-of-type {\n",
       "        vertical-align: middle;\n",
       "    }\n",
       "\n",
       "    .dataframe tbody tr th {\n",
       "        vertical-align: top;\n",
       "    }\n",
       "\n",
       "    .dataframe thead th {\n",
       "        text-align: right;\n",
       "    }\n",
       "</style>\n",
       "<table border=\"1\" class=\"dataframe\">\n",
       "  <thead>\n",
       "    <tr style=\"text-align: right;\">\n",
       "      <th></th>\n",
       "      <th>tongue_rad</th>\n",
       "      <th>vt_len</th>\n",
       "      <th>p_blow</th>\n",
       "      <th>filename</th>\n",
       "    </tr>\n",
       "  </thead>\n",
       "  <tbody>\n",
       "    <tr>\n",
       "      <th>677</th>\n",
       "      <td>0.004</td>\n",
       "      <td>0.159360</td>\n",
       "      <td>2268.0</td>\n",
       "      <td>/Users/goios/Data/clarinet_simulations/2020050...</td>\n",
       "    </tr>\n",
       "    <tr>\n",
       "      <th>257</th>\n",
       "      <td>0.004</td>\n",
       "      <td>0.161166</td>\n",
       "      <td>2268.0</td>\n",
       "      <td>/Users/goios/Data/clarinet_simulations/2020050...</td>\n",
       "    </tr>\n",
       "    <tr>\n",
       "      <th>32</th>\n",
       "      <td>0.004</td>\n",
       "      <td>0.162972</td>\n",
       "      <td>2268.0</td>\n",
       "      <td>/Users/goios/Data/clarinet_simulations/2020050...</td>\n",
       "    </tr>\n",
       "    <tr>\n",
       "      <th>941</th>\n",
       "      <td>0.004</td>\n",
       "      <td>0.164778</td>\n",
       "      <td>2268.0</td>\n",
       "      <td>/Users/goios/Data/clarinet_simulations/2020050...</td>\n",
       "    </tr>\n",
       "    <tr>\n",
       "      <th>1029</th>\n",
       "      <td>0.004</td>\n",
       "      <td>0.166584</td>\n",
       "      <td>2268.0</td>\n",
       "      <td>/Users/goios/Data/clarinet_simulations/2020050...</td>\n",
       "    </tr>\n",
       "    <tr>\n",
       "      <th>1056</th>\n",
       "      <td>0.004</td>\n",
       "      <td>0.168390</td>\n",
       "      <td>2268.0</td>\n",
       "      <td>/Users/goios/Data/clarinet_simulations/2020050...</td>\n",
       "    </tr>\n",
       "    <tr>\n",
       "      <th>544</th>\n",
       "      <td>0.004</td>\n",
       "      <td>0.170196</td>\n",
       "      <td>2268.0</td>\n",
       "      <td>/Users/goios/Data/clarinet_simulations/2020050...</td>\n",
       "    </tr>\n",
       "    <tr>\n",
       "      <th>1066</th>\n",
       "      <td>0.004</td>\n",
       "      <td>0.172002</td>\n",
       "      <td>2268.0</td>\n",
       "      <td>/Users/goios/Data/clarinet_simulations/2020050...</td>\n",
       "    </tr>\n",
       "    <tr>\n",
       "      <th>1256</th>\n",
       "      <td>0.004</td>\n",
       "      <td>0.173808</td>\n",
       "      <td>2268.0</td>\n",
       "      <td>/Users/goios/Data/clarinet_simulations/2020050...</td>\n",
       "    </tr>\n",
       "    <tr>\n",
       "      <th>40</th>\n",
       "      <td>0.004</td>\n",
       "      <td>0.175614</td>\n",
       "      <td>2268.0</td>\n",
       "      <td>/Users/goios/Data/clarinet_simulations/2020050...</td>\n",
       "    </tr>\n",
       "    <tr>\n",
       "      <th>861</th>\n",
       "      <td>0.004</td>\n",
       "      <td>0.177420</td>\n",
       "      <td>2268.0</td>\n",
       "      <td>/Users/goios/Data/clarinet_simulations/2020050...</td>\n",
       "    </tr>\n",
       "    <tr>\n",
       "      <th>630</th>\n",
       "      <td>0.004</td>\n",
       "      <td>0.179226</td>\n",
       "      <td>2268.0</td>\n",
       "      <td>/Users/goios/Data/clarinet_simulations/2020050...</td>\n",
       "    </tr>\n",
       "    <tr>\n",
       "      <th>986</th>\n",
       "      <td>0.004</td>\n",
       "      <td>0.181032</td>\n",
       "      <td>2268.0</td>\n",
       "      <td>/Users/goios/Data/clarinet_simulations/2020050...</td>\n",
       "    </tr>\n",
       "    <tr>\n",
       "      <th>939</th>\n",
       "      <td>0.004</td>\n",
       "      <td>0.182838</td>\n",
       "      <td>2268.0</td>\n",
       "      <td>/Users/goios/Data/clarinet_simulations/2020050...</td>\n",
       "    </tr>\n",
       "    <tr>\n",
       "      <th>654</th>\n",
       "      <td>0.004</td>\n",
       "      <td>0.184644</td>\n",
       "      <td>2268.0</td>\n",
       "      <td>/Users/goios/Data/clarinet_simulations/2020050...</td>\n",
       "    </tr>\n",
       "    <tr>\n",
       "      <th>1112</th>\n",
       "      <td>0.004</td>\n",
       "      <td>0.186450</td>\n",
       "      <td>2268.0</td>\n",
       "      <td>/Users/goios/Data/clarinet_simulations/2020050...</td>\n",
       "    </tr>\n",
       "    <tr>\n",
       "      <th>608</th>\n",
       "      <td>0.004</td>\n",
       "      <td>0.188256</td>\n",
       "      <td>2268.0</td>\n",
       "      <td>/Users/goios/Data/clarinet_simulations/2020050...</td>\n",
       "    </tr>\n",
       "    <tr>\n",
       "      <th>911</th>\n",
       "      <td>0.004</td>\n",
       "      <td>0.190062</td>\n",
       "      <td>2268.0</td>\n",
       "      <td>/Users/goios/Data/clarinet_simulations/2020050...</td>\n",
       "    </tr>\n",
       "    <tr>\n",
       "      <th>1123</th>\n",
       "      <td>0.004</td>\n",
       "      <td>0.191868</td>\n",
       "      <td>2268.0</td>\n",
       "      <td>/Users/goios/Data/clarinet_simulations/2020050...</td>\n",
       "    </tr>\n",
       "    <tr>\n",
       "      <th>405</th>\n",
       "      <td>0.004</td>\n",
       "      <td>0.193674</td>\n",
       "      <td>2268.0</td>\n",
       "      <td>/Users/goios/Data/clarinet_simulations/2020050...</td>\n",
       "    </tr>\n",
       "    <tr>\n",
       "      <th>217</th>\n",
       "      <td>0.004</td>\n",
       "      <td>0.195480</td>\n",
       "      <td>2268.0</td>\n",
       "      <td>/Users/goios/Data/clarinet_simulations/2020050...</td>\n",
       "    </tr>\n",
       "    <tr>\n",
       "      <th>1089</th>\n",
       "      <td>0.004</td>\n",
       "      <td>0.197286</td>\n",
       "      <td>2268.0</td>\n",
       "      <td>/Users/goios/Data/clarinet_simulations/2020050...</td>\n",
       "    </tr>\n",
       "    <tr>\n",
       "      <th>1190</th>\n",
       "      <td>0.004</td>\n",
       "      <td>0.199092</td>\n",
       "      <td>2268.0</td>\n",
       "      <td>/Users/goios/Data/clarinet_simulations/2020050...</td>\n",
       "    </tr>\n",
       "    <tr>\n",
       "      <th>1117</th>\n",
       "      <td>0.004</td>\n",
       "      <td>0.200898</td>\n",
       "      <td>2268.0</td>\n",
       "      <td>/Users/goios/Data/clarinet_simulations/2020050...</td>\n",
       "    </tr>\n",
       "    <tr>\n",
       "      <th>358</th>\n",
       "      <td>0.004</td>\n",
       "      <td>0.202704</td>\n",
       "      <td>2268.0</td>\n",
       "      <td>/Users/goios/Data/clarinet_simulations/2020050...</td>\n",
       "    </tr>\n",
       "    <tr>\n",
       "      <th>469</th>\n",
       "      <td>0.004</td>\n",
       "      <td>0.204510</td>\n",
       "      <td>2268.0</td>\n",
       "      <td>/Users/goios/Data/clarinet_simulations/2020050...</td>\n",
       "    </tr>\n",
       "    <tr>\n",
       "      <th>1152</th>\n",
       "      <td>0.004</td>\n",
       "      <td>0.206316</td>\n",
       "      <td>2268.0</td>\n",
       "      <td>/Users/goios/Data/clarinet_simulations/2020050...</td>\n",
       "    </tr>\n",
       "    <tr>\n",
       "      <th>273</th>\n",
       "      <td>0.004</td>\n",
       "      <td>0.208122</td>\n",
       "      <td>2268.0</td>\n",
       "      <td>/Users/goios/Data/clarinet_simulations/2020050...</td>\n",
       "    </tr>\n",
       "    <tr>\n",
       "      <th>45</th>\n",
       "      <td>0.004</td>\n",
       "      <td>0.209928</td>\n",
       "      <td>2268.0</td>\n",
       "      <td>/Users/goios/Data/clarinet_simulations/2020050...</td>\n",
       "    </tr>\n",
       "    <tr>\n",
       "      <th>1078</th>\n",
       "      <td>0.004</td>\n",
       "      <td>0.211734</td>\n",
       "      <td>2268.0</td>\n",
       "      <td>/Users/goios/Data/clarinet_simulations/2020050...</td>\n",
       "    </tr>\n",
       "    <tr>\n",
       "      <th>143</th>\n",
       "      <td>0.004</td>\n",
       "      <td>0.213540</td>\n",
       "      <td>2268.0</td>\n",
       "      <td>/Users/goios/Data/clarinet_simulations/2020050...</td>\n",
       "    </tr>\n",
       "    <tr>\n",
       "      <th>1129</th>\n",
       "      <td>0.004</td>\n",
       "      <td>0.215346</td>\n",
       "      <td>2268.0</td>\n",
       "      <td>/Users/goios/Data/clarinet_simulations/2020050...</td>\n",
       "    </tr>\n",
       "    <tr>\n",
       "      <th>891</th>\n",
       "      <td>0.004</td>\n",
       "      <td>0.217152</td>\n",
       "      <td>2268.0</td>\n",
       "      <td>/Users/goios/Data/clarinet_simulations/2020050...</td>\n",
       "    </tr>\n",
       "    <tr>\n",
       "      <th>714</th>\n",
       "      <td>0.004</td>\n",
       "      <td>0.218958</td>\n",
       "      <td>2268.0</td>\n",
       "      <td>/Users/goios/Data/clarinet_simulations/2020050...</td>\n",
       "    </tr>\n",
       "  </tbody>\n",
       "</table>\n",
       "</div>"
      ],
      "text/plain": [
       "      tongue_rad    vt_len  p_blow  \\\n",
       "677        0.004  0.159360  2268.0   \n",
       "257        0.004  0.161166  2268.0   \n",
       "32         0.004  0.162972  2268.0   \n",
       "941        0.004  0.164778  2268.0   \n",
       "1029       0.004  0.166584  2268.0   \n",
       "1056       0.004  0.168390  2268.0   \n",
       "544        0.004  0.170196  2268.0   \n",
       "1066       0.004  0.172002  2268.0   \n",
       "1256       0.004  0.173808  2268.0   \n",
       "40         0.004  0.175614  2268.0   \n",
       "861        0.004  0.177420  2268.0   \n",
       "630        0.004  0.179226  2268.0   \n",
       "986        0.004  0.181032  2268.0   \n",
       "939        0.004  0.182838  2268.0   \n",
       "654        0.004  0.184644  2268.0   \n",
       "1112       0.004  0.186450  2268.0   \n",
       "608        0.004  0.188256  2268.0   \n",
       "911        0.004  0.190062  2268.0   \n",
       "1123       0.004  0.191868  2268.0   \n",
       "405        0.004  0.193674  2268.0   \n",
       "217        0.004  0.195480  2268.0   \n",
       "1089       0.004  0.197286  2268.0   \n",
       "1190       0.004  0.199092  2268.0   \n",
       "1117       0.004  0.200898  2268.0   \n",
       "358        0.004  0.202704  2268.0   \n",
       "469        0.004  0.204510  2268.0   \n",
       "1152       0.004  0.206316  2268.0   \n",
       "273        0.004  0.208122  2268.0   \n",
       "45         0.004  0.209928  2268.0   \n",
       "1078       0.004  0.211734  2268.0   \n",
       "143        0.004  0.213540  2268.0   \n",
       "1129       0.004  0.215346  2268.0   \n",
       "891        0.004  0.217152  2268.0   \n",
       "714        0.004  0.218958  2268.0   \n",
       "\n",
       "                                               filename  \n",
       "677   /Users/goios/Data/clarinet_simulations/2020050...  \n",
       "257   /Users/goios/Data/clarinet_simulations/2020050...  \n",
       "32    /Users/goios/Data/clarinet_simulations/2020050...  \n",
       "941   /Users/goios/Data/clarinet_simulations/2020050...  \n",
       "1029  /Users/goios/Data/clarinet_simulations/2020050...  \n",
       "1056  /Users/goios/Data/clarinet_simulations/2020050...  \n",
       "544   /Users/goios/Data/clarinet_simulations/2020050...  \n",
       "1066  /Users/goios/Data/clarinet_simulations/2020050...  \n",
       "1256  /Users/goios/Data/clarinet_simulations/2020050...  \n",
       "40    /Users/goios/Data/clarinet_simulations/2020050...  \n",
       "861   /Users/goios/Data/clarinet_simulations/2020050...  \n",
       "630   /Users/goios/Data/clarinet_simulations/2020050...  \n",
       "986   /Users/goios/Data/clarinet_simulations/2020050...  \n",
       "939   /Users/goios/Data/clarinet_simulations/2020050...  \n",
       "654   /Users/goios/Data/clarinet_simulations/2020050...  \n",
       "1112  /Users/goios/Data/clarinet_simulations/2020050...  \n",
       "608   /Users/goios/Data/clarinet_simulations/2020050...  \n",
       "911   /Users/goios/Data/clarinet_simulations/2020050...  \n",
       "1123  /Users/goios/Data/clarinet_simulations/2020050...  \n",
       "405   /Users/goios/Data/clarinet_simulations/2020050...  \n",
       "217   /Users/goios/Data/clarinet_simulations/2020050...  \n",
       "1089  /Users/goios/Data/clarinet_simulations/2020050...  \n",
       "1190  /Users/goios/Data/clarinet_simulations/2020050...  \n",
       "1117  /Users/goios/Data/clarinet_simulations/2020050...  \n",
       "358   /Users/goios/Data/clarinet_simulations/2020050...  \n",
       "469   /Users/goios/Data/clarinet_simulations/2020050...  \n",
       "1152  /Users/goios/Data/clarinet_simulations/2020050...  \n",
       "273   /Users/goios/Data/clarinet_simulations/2020050...  \n",
       "45    /Users/goios/Data/clarinet_simulations/2020050...  \n",
       "1078  /Users/goios/Data/clarinet_simulations/2020050...  \n",
       "143   /Users/goios/Data/clarinet_simulations/2020050...  \n",
       "1129  /Users/goios/Data/clarinet_simulations/2020050...  \n",
       "891   /Users/goios/Data/clarinet_simulations/2020050...  \n",
       "714   /Users/goios/Data/clarinet_simulations/2020050...  "
      ]
     },
     "execution_count": 198,
     "metadata": {},
     "output_type": "execute_result"
    }
   ],
   "source": [
    "fl"
   ]
  },
  {
   "cell_type": "code",
   "execution_count": null,
   "metadata": {},
   "outputs": [],
   "source": []
  }
 ],
 "metadata": {
  "kernelspec": {
   "display_name": "Main UNSW research kernel",
   "language": "python",
   "name": "unsw"
  },
  "language_info": {
   "codemirror_mode": {
    "name": "ipython",
    "version": 3
   },
   "file_extension": ".py",
   "mimetype": "text/x-python",
   "name": "python",
   "nbconvert_exporter": "python",
   "pygments_lexer": "ipython3",
   "version": "3.7.6"
  }
 },
 "nbformat": 4,
 "nbformat_minor": 2
}
